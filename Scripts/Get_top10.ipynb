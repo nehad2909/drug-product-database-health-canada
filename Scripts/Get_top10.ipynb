{
 "cells": [
  {
   "cell_type": "code",
   "execution_count": 80,
   "metadata": {},
   "outputs": [],
   "source": [
    "import pandas as pd\n",
    "import numpy as np\n",
    "import datetime\n",
    "from datetime import datetime\n",
    "# import xlrd\n",
    "import warnings\n",
    "import matplotlib.pyplot as plt\n",
    "import seaborn as sns\n",
    "from prophet import Prophet\n",
    "warnings.filterwarnings('ignore')"
   ]
  },
  {
   "cell_type": "code",
   "execution_count": 100,
   "metadata": {},
   "outputs": [
    {
     "data": {
      "text/html": [
       "<div>\n",
       "<style scoped>\n",
       "    .dataframe tbody tr th:only-of-type {\n",
       "        vertical-align: middle;\n",
       "    }\n",
       "\n",
       "    .dataframe tbody tr th {\n",
       "        vertical-align: top;\n",
       "    }\n",
       "\n",
       "    .dataframe thead th {\n",
       "        text-align: right;\n",
       "    }\n",
       "</style>\n",
       "<table border=\"1\" class=\"dataframe\">\n",
       "  <thead>\n",
       "    <tr style=\"text-align: right;\">\n",
       "      <th></th>\n",
       "      <th>report_id</th>\n",
       "      <th>drug_identification_number</th>\n",
       "      <th>report_type</th>\n",
       "      <th>brand_name</th>\n",
       "      <th>company_name</th>\n",
       "      <th>common_or_proper_name</th>\n",
       "      <th>ingredients</th>\n",
       "      <th>strength(s)</th>\n",
       "      <th>packaging_size</th>\n",
       "      <th>route_of_administration</th>\n",
       "      <th>...</th>\n",
       "      <th>atc_code</th>\n",
       "      <th>atc_description</th>\n",
       "      <th>anticipated_start_date</th>\n",
       "      <th>actual_start_date</th>\n",
       "      <th>estimated_end_date</th>\n",
       "      <th>actual_end_date</th>\n",
       "      <th>reason</th>\n",
       "      <th>date_created</th>\n",
       "      <th>date_updated</th>\n",
       "      <th>tier_3</th>\n",
       "    </tr>\n",
       "  </thead>\n",
       "  <tbody>\n",
       "    <tr>\n",
       "      <th>17163</th>\n",
       "      <td>21685</td>\n",
       "      <td>2340445.0</td>\n",
       "      <td>Shortage</td>\n",
       "      <td>ZYCLARA</td>\n",
       "      <td>VALEANT CANADA LP/VALEANT CANADA S.E.C.</td>\n",
       "      <td>ZYCLARA</td>\n",
       "      <td>IMIQUIMOD</td>\n",
       "      <td>3.75%</td>\n",
       "      <td>na</td>\n",
       "      <td>TOPICAL</td>\n",
       "      <td>...</td>\n",
       "      <td>D06BB</td>\n",
       "      <td>CHEMOTHERAPEUTICS FOR TOPICAL USE</td>\n",
       "      <td>NaN</td>\n",
       "      <td>2017-09-08</td>\n",
       "      <td>2017-09-22</td>\n",
       "      <td>2017-09-22</td>\n",
       "      <td>Other (Please describe in comments)</td>\n",
       "      <td>2017-09-08</td>\n",
       "      <td>2017-09-25</td>\n",
       "      <td>No</td>\n",
       "    </tr>\n",
       "    <tr>\n",
       "      <th>17164</th>\n",
       "      <td>52702</td>\n",
       "      <td>2340445.0</td>\n",
       "      <td>Shortage</td>\n",
       "      <td>ZYCLARA</td>\n",
       "      <td>VALEANT CANADA LP/VALEANT CANADA S.E.C.</td>\n",
       "      <td>ZYCLARA</td>\n",
       "      <td>IMIQUIMOD</td>\n",
       "      <td>3.75%</td>\n",
       "      <td>7.5g pump</td>\n",
       "      <td>TOPICAL</td>\n",
       "      <td>...</td>\n",
       "      <td>D06BB</td>\n",
       "      <td>CHEMOTHERAPEUTICS FOR TOPICAL USE</td>\n",
       "      <td>NaN</td>\n",
       "      <td>2019-04-01</td>\n",
       "      <td>NaN</td>\n",
       "      <td>2019-07-12</td>\n",
       "      <td>Other (Please describe in comments)</td>\n",
       "      <td>2018-06-20</td>\n",
       "      <td>2019-07-13</td>\n",
       "      <td>No</td>\n",
       "    </tr>\n",
       "    <tr>\n",
       "      <th>17165</th>\n",
       "      <td>18241</td>\n",
       "      <td>2257270.0</td>\n",
       "      <td>Shortage</td>\n",
       "      <td>ZYMAR</td>\n",
       "      <td>ALLERGAN INC</td>\n",
       "      <td>ZYMAR 1mL</td>\n",
       "      <td>GATIFLOXACIN</td>\n",
       "      <td>0.3%</td>\n",
       "      <td>1 mL</td>\n",
       "      <td>OPHTHALMIC</td>\n",
       "      <td>...</td>\n",
       "      <td>S01AE</td>\n",
       "      <td>ANTIINFECTIVES</td>\n",
       "      <td>2017-08-03</td>\n",
       "      <td>2017-08-03</td>\n",
       "      <td>2017-09-18</td>\n",
       "      <td>2017-10-06</td>\n",
       "      <td>Disruption of the manufacture of the drug.</td>\n",
       "      <td>2017-08-03</td>\n",
       "      <td>2017-10-13</td>\n",
       "      <td>No</td>\n",
       "    </tr>\n",
       "    <tr>\n",
       "      <th>17166</th>\n",
       "      <td>33440</td>\n",
       "      <td>2257270.0</td>\n",
       "      <td>Shortage</td>\n",
       "      <td>ZYMAR</td>\n",
       "      <td>ALLERGAN INC</td>\n",
       "      <td>ZYMAR 1mL</td>\n",
       "      <td>GATIFLOXACIN</td>\n",
       "      <td>0.3%</td>\n",
       "      <td>5mL</td>\n",
       "      <td>OPHTHALMIC</td>\n",
       "      <td>...</td>\n",
       "      <td>S01AE</td>\n",
       "      <td>ANTIINFECTIVES</td>\n",
       "      <td>2019-09-16</td>\n",
       "      <td>2019-09-16</td>\n",
       "      <td>2019-09-20</td>\n",
       "      <td>2019-09-18</td>\n",
       "      <td>Disruption of the manufacture of the drug.</td>\n",
       "      <td>2017-12-18</td>\n",
       "      <td>2019-09-19</td>\n",
       "      <td>No</td>\n",
       "    </tr>\n",
       "    <tr>\n",
       "      <th>17167</th>\n",
       "      <td>54338</td>\n",
       "      <td>2243686.0</td>\n",
       "      <td>Shortage</td>\n",
       "      <td>ZYVOXAM</td>\n",
       "      <td>PFIZER CANADA INC</td>\n",
       "      <td>Zyvoxam</td>\n",
       "      <td>LINEZOLID</td>\n",
       "      <td>3G</td>\n",
       "      <td>1x240ml Btl</td>\n",
       "      <td>ORAL</td>\n",
       "      <td>...</td>\n",
       "      <td>J01XX</td>\n",
       "      <td>OTHER ANTIBACTERIALS</td>\n",
       "      <td>NaN</td>\n",
       "      <td>2018-08-21</td>\n",
       "      <td>NaN</td>\n",
       "      <td>2018-10-23</td>\n",
       "      <td>Disruption of the manufacture of the drug.</td>\n",
       "      <td>2018-07-04</td>\n",
       "      <td>2018-10-24</td>\n",
       "      <td>No</td>\n",
       "    </tr>\n",
       "  </tbody>\n",
       "</table>\n",
       "<p>5 rows × 22 columns</p>\n",
       "</div>"
      ],
      "text/plain": [
       "       report_id  drug_identification_number report_type brand_name  \\\n",
       "17163      21685                   2340445.0    Shortage    ZYCLARA   \n",
       "17164      52702                   2340445.0    Shortage    ZYCLARA   \n",
       "17165      18241                   2257270.0    Shortage      ZYMAR   \n",
       "17166      33440                   2257270.0    Shortage      ZYMAR   \n",
       "17167      54338                   2243686.0    Shortage    ZYVOXAM   \n",
       "\n",
       "                                  company_name common_or_proper_name  \\\n",
       "17163  VALEANT CANADA LP/VALEANT CANADA S.E.C.               ZYCLARA   \n",
       "17164  VALEANT CANADA LP/VALEANT CANADA S.E.C.               ZYCLARA   \n",
       "17165                             ALLERGAN INC             ZYMAR 1mL   \n",
       "17166                             ALLERGAN INC             ZYMAR 1mL   \n",
       "17167                        PFIZER CANADA INC               Zyvoxam   \n",
       "\n",
       "        ingredients strength(s) packaging_size route_of_administration  ...  \\\n",
       "17163     IMIQUIMOD       3.75%             na                 TOPICAL  ...   \n",
       "17164     IMIQUIMOD       3.75%      7.5g pump                 TOPICAL  ...   \n",
       "17165  GATIFLOXACIN        0.3%           1 mL              OPHTHALMIC  ...   \n",
       "17166  GATIFLOXACIN        0.3%            5mL              OPHTHALMIC  ...   \n",
       "17167     LINEZOLID          3G    1x240ml Btl                    ORAL  ...   \n",
       "\n",
       "      atc_code                    atc_description anticipated_start_date  \\\n",
       "17163    D06BB  CHEMOTHERAPEUTICS FOR TOPICAL USE                    NaN   \n",
       "17164    D06BB  CHEMOTHERAPEUTICS FOR TOPICAL USE                    NaN   \n",
       "17165    S01AE                     ANTIINFECTIVES             2017-08-03   \n",
       "17166    S01AE                     ANTIINFECTIVES             2019-09-16   \n",
       "17167    J01XX               OTHER ANTIBACTERIALS                    NaN   \n",
       "\n",
       "      actual_start_date estimated_end_date actual_end_date  \\\n",
       "17163        2017-09-08         2017-09-22      2017-09-22   \n",
       "17164        2019-04-01                NaN      2019-07-12   \n",
       "17165        2017-08-03         2017-09-18      2017-10-06   \n",
       "17166        2019-09-16         2019-09-20      2019-09-18   \n",
       "17167        2018-08-21                NaN      2018-10-23   \n",
       "\n",
       "                                           reason date_created date_updated  \\\n",
       "17163         Other (Please describe in comments)   2017-09-08   2017-09-25   \n",
       "17164         Other (Please describe in comments)   2018-06-20   2019-07-13   \n",
       "17165  Disruption of the manufacture of the drug.   2017-08-03   2017-10-13   \n",
       "17166  Disruption of the manufacture of the drug.   2017-12-18   2019-09-19   \n",
       "17167  Disruption of the manufacture of the drug.   2018-07-04   2018-10-24   \n",
       "\n",
       "      tier_3  \n",
       "17163     No  \n",
       "17164     No  \n",
       "17165     No  \n",
       "17166     No  \n",
       "17167     No  \n",
       "\n",
       "[5 rows x 22 columns]"
      ]
     },
     "execution_count": 100,
     "metadata": {},
     "output_type": "execute_result"
    }
   ],
   "source": [
    "df = pd.read_csv(\"Shortage data/Zip_Files/shortage_final.csv\")\n",
    "df.columns = df.columns.str.lower()\n",
    "df.columns = df.columns.str.replace(' ', '_')\n",
    "df=df.dropna(subset=['actual_start_date','actual_end_date'] )\n",
    "df = df.loc[(df['actual_start_date'] >= '2017-01-01')]\n",
    "df = df.loc[(df['actual_end_date'] >= '2010-01-01')]\n",
    "df.tail()"
   ]
  },
  {
   "cell_type": "code",
   "execution_count": 101,
   "metadata": {},
   "outputs": [],
   "source": [
    "df['actual_start_date'] = df['actual_start_date'].astype('datetime64[D]')"
   ]
  },
  {
   "cell_type": "code",
   "execution_count": 102,
   "metadata": {},
   "outputs": [],
   "source": [
    "df['actual_end_date'] = df['actual_end_date'].astype('datetime64[D]')"
   ]
  },
  {
   "cell_type": "code",
   "execution_count": 103,
   "metadata": {},
   "outputs": [],
   "source": [
    "df['drug_identification_number'] = df['drug_identification_number'].fillna(0)\n",
    "df['drug_identification_number'] = df['drug_identification_number'].astype('int')"
   ]
  },
  {
   "cell_type": "code",
   "execution_count": 104,
   "metadata": {},
   "outputs": [
    {
     "data": {
      "text/plain": [
       "report_id                              int64\n",
       "drug_identification_number             int32\n",
       "report_type                           object\n",
       "brand_name                            object\n",
       "company_name                          object\n",
       "common_or_proper_name                 object\n",
       "ingredients                           object\n",
       "strength(s)                           object\n",
       "packaging_size                        object\n",
       "route_of_administration               object\n",
       "shortage_status                       object\n",
       "dosage_form(s)                        object\n",
       "atc_code                              object\n",
       "atc_description                       object\n",
       "anticipated_start_date                object\n",
       "actual_start_date             datetime64[ns]\n",
       "estimated_end_date                    object\n",
       "actual_end_date               datetime64[ns]\n",
       "reason                                object\n",
       "date_created                          object\n",
       "date_updated                          object\n",
       "tier_3                                object\n",
       "dtype: object"
      ]
     },
     "execution_count": 104,
     "metadata": {},
     "output_type": "execute_result"
    }
   ],
   "source": [
    "df.dtypes"
   ]
  },
  {
   "cell_type": "code",
   "execution_count": 106,
   "metadata": {},
   "outputs": [],
   "source": [
    "df=df.drop_duplicates(\"report_id\", keep=False)"
   ]
  },
  {
   "cell_type": "code",
   "execution_count": 107,
   "metadata": {},
   "outputs": [],
   "source": [
    "df['Days']= df['actual_end_date']-df['actual_start_date']"
   ]
  },
  {
   "cell_type": "code",
   "execution_count": 108,
   "metadata": {},
   "outputs": [
    {
     "data": {
      "text/plain": [
       "717002     28\n",
       "60208      22\n",
       "60348      21\n",
       "2293838    18\n",
       "2245523    18\n",
       "2242984    17\n",
       "592277     16\n",
       "608165     16\n",
       "812382     15\n",
       "2139510    15\n",
       "Name: drug_identification_number, dtype: int64"
      ]
     },
     "execution_count": 108,
     "metadata": {},
     "output_type": "execute_result"
    }
   ],
   "source": [
    "df.drug_identification_number.value_counts()[:10]"
   ]
  },
  {
   "cell_type": "code",
   "execution_count": 109,
   "metadata": {},
   "outputs": [
    {
     "data": {
      "text/plain": [
       "<AxesSubplot:>"
      ]
     },
     "execution_count": 109,
     "metadata": {},
     "output_type": "execute_result"
    },
    {
     "data": {
      "image/png": "[encoded data removed]",
      "text/plain": [
       "<Figure size 432x288 with 1 Axes>"
      ]
     },
     "metadata": {
      "needs_background": "light"
     },
     "output_type": "display_data"
    }
   ],
   "source": [
    "df.drug_identification_number.value_counts()[:10].plot(kind='bar')"
   ]
  },
  {
   "cell_type": "code",
   "execution_count": 110,
   "metadata": {},
   "outputs": [],
   "source": [
    "df['Days2'] = df['Days'].dt.days\n",
    "df['Days2']=df['Days2'].astype('int')"
   ]
  },
  {
   "cell_type": "code",
   "execution_count": 111,
   "metadata": {},
   "outputs": [],
   "source": [
    "df= df[(df['Days2']>0)]"
   ]
  },
  {
   "cell_type": "code",
   "execution_count": 112,
   "metadata": {},
   "outputs": [],
   "source": [
    "df2 = df[df.drug_identification_number==717002]"
   ]
  },
  {
   "cell_type": "code",
   "execution_count": 113,
   "metadata": {},
   "outputs": [
    {
     "data": {
      "text/plain": [
       "(28, 24)"
      ]
     },
     "execution_count": 113,
     "metadata": {},
     "output_type": "execute_result"
    }
   ],
   "source": [
    "df2.shape"
   ]
  },
  {
   "cell_type": "code",
   "execution_count": 114,
   "metadata": {},
   "outputs": [
    {
     "data": {
      "text/plain": [
       "array([[<AxesSubplot:title={'center':'Days2'}>]], dtype=object)"
      ]
     },
     "execution_count": 114,
     "metadata": {},
     "output_type": "execute_result"
    },
    {
     "data": {
      "image/png": "[encoded data removed]",
      "text/plain": [
       "<Figure size 432x288 with 1 Axes>"
      ]
     },
     "metadata": {
      "needs_background": "light"
     },
     "output_type": "display_data"
    }
   ],
   "source": [
    "df2.hist(column='Days2')"
   ]
  },
  {
   "cell_type": "code",
   "execution_count": 115,
   "metadata": {},
   "outputs": [
    {
     "data": {
      "text/plain": [
       "<AxesSubplot:title={'center':'Days Distribution'}, ylabel='# of Days'>"
      ]
     },
     "execution_count": 115,
     "metadata": {},
     "output_type": "execute_result"
    },
    {
     "data": {
      "image/png": "[encoded data removed]",
      "text/plain": [
       "<Figure size 432x288 with 1 Axes>"
      ]
     },
     "metadata": {
      "needs_background": "light"
     },
     "output_type": "display_data"
    }
   ],
   "source": [
    "# Create a box plot to identify outliers\n",
    "\n",
    "Boxplot, bp=plt.subplots()\n",
    "# bp.set_xlabel('Days')\n",
    "bp.set_ylabel('# of Days')\n",
    "bp.set_title('Days Distribution')\n",
    "bp.grid()\n",
    "df.boxplot(column=\"Days2\", showfliers=False)"
   ]
  },
  {
   "cell_type": "code",
   "execution_count": 116,
   "metadata": {},
   "outputs": [
    {
     "data": {
      "text/html": [
       "<div>\n",
       "<style scoped>\n",
       "    .dataframe tbody tr th:only-of-type {\n",
       "        vertical-align: middle;\n",
       "    }\n",
       "\n",
       "    .dataframe tbody tr th {\n",
       "        vertical-align: top;\n",
       "    }\n",
       "\n",
       "    .dataframe thead th {\n",
       "        text-align: right;\n",
       "    }\n",
       "</style>\n",
       "<table border=\"1\" class=\"dataframe\">\n",
       "  <thead>\n",
       "    <tr style=\"text-align: right;\">\n",
       "      <th></th>\n",
       "      <th>report_id</th>\n",
       "      <th>drug_identification_number</th>\n",
       "      <th>report_type</th>\n",
       "      <th>brand_name</th>\n",
       "      <th>company_name</th>\n",
       "      <th>common_or_proper_name</th>\n",
       "      <th>ingredients</th>\n",
       "      <th>strength(s)</th>\n",
       "      <th>packaging_size</th>\n",
       "      <th>route_of_administration</th>\n",
       "      <th>...</th>\n",
       "      <th>anticipated_start_date</th>\n",
       "      <th>actual_start_date</th>\n",
       "      <th>estimated_end_date</th>\n",
       "      <th>actual_end_date</th>\n",
       "      <th>reason</th>\n",
       "      <th>date_created</th>\n",
       "      <th>date_updated</th>\n",
       "      <th>tier_3</th>\n",
       "      <th>Days</th>\n",
       "      <th>Days2</th>\n",
       "    </tr>\n",
       "  </thead>\n",
       "  <tbody>\n",
       "    <tr>\n",
       "      <th>7884</th>\n",
       "      <td>107028</td>\n",
       "      <td>717002</td>\n",
       "      <td>Shortage</td>\n",
       "      <td>VIADERM KC CRM</td>\n",
       "      <td>TARO PHARMACEUTICALS INC</td>\n",
       "      <td>VIADERM KC CRM</td>\n",
       "      <td>TRIAMCINOLONE ACETONIDE\\r NYSTATIN\\r GRAMICIDI...</td>\n",
       "      <td>1MG\\r 100000UNIT\\r 0.25MG\\r 2.5MG</td>\n",
       "      <td>15 g</td>\n",
       "      <td>TOPICAL</td>\n",
       "      <td>...</td>\n",
       "      <td>NaN</td>\n",
       "      <td>2020-02-21</td>\n",
       "      <td>2020-04-17</td>\n",
       "      <td>2020-04-29</td>\n",
       "      <td>Disruption of the manufacture of the drug.</td>\n",
       "      <td>2020-02-24</td>\n",
       "      <td>2020-05-01</td>\n",
       "      <td>No</td>\n",
       "      <td>68 days</td>\n",
       "      <td>68</td>\n",
       "    </tr>\n",
       "    <tr>\n",
       "      <th>7885</th>\n",
       "      <td>108059</td>\n",
       "      <td>717002</td>\n",
       "      <td>Shortage</td>\n",
       "      <td>VIADERM KC CRM</td>\n",
       "      <td>TARO PHARMACEUTICALS INC</td>\n",
       "      <td>VIADERM KC CRM</td>\n",
       "      <td>TRIAMCINOLONE ACETONIDE\\r NYSTATIN\\r GRAMICIDI...</td>\n",
       "      <td>1MG\\r 100000UNIT\\r 0.25MG\\r 2.5MG</td>\n",
       "      <td>454 g</td>\n",
       "      <td>TOPICAL</td>\n",
       "      <td>...</td>\n",
       "      <td>NaN</td>\n",
       "      <td>2020-03-06</td>\n",
       "      <td>2020-05-08</td>\n",
       "      <td>2020-04-30</td>\n",
       "      <td>Disruption of the manufacture of the drug.</td>\n",
       "      <td>2020-03-07</td>\n",
       "      <td>2020-05-01</td>\n",
       "      <td>No</td>\n",
       "      <td>55 days</td>\n",
       "      <td>55</td>\n",
       "    </tr>\n",
       "    <tr>\n",
       "      <th>7886</th>\n",
       "      <td>127274</td>\n",
       "      <td>717002</td>\n",
       "      <td>Shortage</td>\n",
       "      <td>VIADERM KC CRM</td>\n",
       "      <td>TARO PHARMACEUTICALS INC</td>\n",
       "      <td>VIADERM KC CRM</td>\n",
       "      <td>TRIAMCINOLONE ACETONIDE\\r NEOMYCIN\\r GRAMICIDI...</td>\n",
       "      <td>1MG\\r 2.5MG\\r 0.25MG\\r 100000UNIT</td>\n",
       "      <td>454</td>\n",
       "      <td>TOPICAL\\r\\nTOPICAL</td>\n",
       "      <td>...</td>\n",
       "      <td>NaN</td>\n",
       "      <td>2020-08-28</td>\n",
       "      <td>2020-11-06</td>\n",
       "      <td>2020-11-05</td>\n",
       "      <td>Disruption of the manufacture of the drug.</td>\n",
       "      <td>2020-10-27</td>\n",
       "      <td>2020-11-06</td>\n",
       "      <td>No</td>\n",
       "      <td>69 days</td>\n",
       "      <td>69</td>\n",
       "    </tr>\n",
       "    <tr>\n",
       "      <th>7887</th>\n",
       "      <td>123231</td>\n",
       "      <td>717002</td>\n",
       "      <td>Shortage</td>\n",
       "      <td>VIADERM KC CRM</td>\n",
       "      <td>TARO PHARMACEUTICALS INC</td>\n",
       "      <td>VIADERM KC CRM</td>\n",
       "      <td>TRIAMCINOLONE ACETONIDE\\r NEOMYCIN\\r GRAMICIDI...</td>\n",
       "      <td>1MG\\r 2.5MG\\r 0.25MG\\r 100000UNIT</td>\n",
       "      <td>15</td>\n",
       "      <td>TOPICAL\\r\\nTOPICAL</td>\n",
       "      <td>...</td>\n",
       "      <td>NaN</td>\n",
       "      <td>2020-08-15</td>\n",
       "      <td>2020-11-06</td>\n",
       "      <td>2020-11-05</td>\n",
       "      <td>Disruption of the manufacture of the drug.</td>\n",
       "      <td>2020-08-28</td>\n",
       "      <td>2020-11-06</td>\n",
       "      <td>No</td>\n",
       "      <td>82 days</td>\n",
       "      <td>82</td>\n",
       "    </tr>\n",
       "    <tr>\n",
       "      <th>7888</th>\n",
       "      <td>123234</td>\n",
       "      <td>717002</td>\n",
       "      <td>Shortage</td>\n",
       "      <td>VIADERM KC CRM</td>\n",
       "      <td>TARO PHARMACEUTICALS INC</td>\n",
       "      <td>VIADERM KC CRM</td>\n",
       "      <td>TRIAMCINOLONE ACETONIDE\\r NEOMYCIN\\r GRAMICIDI...</td>\n",
       "      <td>1MG\\r 2.5MG\\r 0.25MG\\r 100000UNIT</td>\n",
       "      <td>454</td>\n",
       "      <td>TOPICAL\\r\\nTOPICAL</td>\n",
       "      <td>...</td>\n",
       "      <td>NaN</td>\n",
       "      <td>2020-08-15</td>\n",
       "      <td>NaN</td>\n",
       "      <td>2020-10-02</td>\n",
       "      <td>Disruption of the manufacture of the drug.</td>\n",
       "      <td>2020-08-29</td>\n",
       "      <td>2020-10-03</td>\n",
       "      <td>No</td>\n",
       "      <td>48 days</td>\n",
       "      <td>48</td>\n",
       "    </tr>\n",
       "  </tbody>\n",
       "</table>\n",
       "<p>5 rows × 24 columns</p>\n",
       "</div>"
      ],
      "text/plain": [
       "      report_id  drug_identification_number report_type      brand_name  \\\n",
       "7884     107028                      717002    Shortage  VIADERM KC CRM   \n",
       "7885     108059                      717002    Shortage  VIADERM KC CRM   \n",
       "7886     127274                      717002    Shortage  VIADERM KC CRM   \n",
       "7887     123231                      717002    Shortage  VIADERM KC CRM   \n",
       "7888     123234                      717002    Shortage  VIADERM KC CRM   \n",
       "\n",
       "                  company_name common_or_proper_name  \\\n",
       "7884  TARO PHARMACEUTICALS INC        VIADERM KC CRM   \n",
       "7885  TARO PHARMACEUTICALS INC        VIADERM KC CRM   \n",
       "7886  TARO PHARMACEUTICALS INC        VIADERM KC CRM   \n",
       "7887  TARO PHARMACEUTICALS INC        VIADERM KC CRM   \n",
       "7888  TARO PHARMACEUTICALS INC        VIADERM KC CRM   \n",
       "\n",
       "                                            ingredients  \\\n",
       "7884  TRIAMCINOLONE ACETONIDE\\r NYSTATIN\\r GRAMICIDI...   \n",
       "7885  TRIAMCINOLONE ACETONIDE\\r NYSTATIN\\r GRAMICIDI...   \n",
       "7886  TRIAMCINOLONE ACETONIDE\\r NEOMYCIN\\r GRAMICIDI...   \n",
       "7887  TRIAMCINOLONE ACETONIDE\\r NEOMYCIN\\r GRAMICIDI...   \n",
       "7888  TRIAMCINOLONE ACETONIDE\\r NEOMYCIN\\r GRAMICIDI...   \n",
       "\n",
       "                            strength(s) packaging_size  \\\n",
       "7884  1MG\\r 100000UNIT\\r 0.25MG\\r 2.5MG           15 g   \n",
       "7885  1MG\\r 100000UNIT\\r 0.25MG\\r 2.5MG          454 g   \n",
       "7886  1MG\\r 2.5MG\\r 0.25MG\\r 100000UNIT            454   \n",
       "7887  1MG\\r 2.5MG\\r 0.25MG\\r 100000UNIT             15   \n",
       "7888  1MG\\r 2.5MG\\r 0.25MG\\r 100000UNIT            454   \n",
       "\n",
       "     route_of_administration  ... anticipated_start_date actual_start_date  \\\n",
       "7884                 TOPICAL  ...                    NaN        2020-02-21   \n",
       "7885                 TOPICAL  ...                    NaN        2020-03-06   \n",
       "7886      TOPICAL\\r\\nTOPICAL  ...                    NaN        2020-08-28   \n",
       "7887      TOPICAL\\r\\nTOPICAL  ...                    NaN        2020-08-15   \n",
       "7888      TOPICAL\\r\\nTOPICAL  ...                    NaN        2020-08-15   \n",
       "\n",
       "     estimated_end_date actual_end_date  \\\n",
       "7884         2020-04-17      2020-04-29   \n",
       "7885         2020-05-08      2020-04-30   \n",
       "7886         2020-11-06      2020-11-05   \n",
       "7887         2020-11-06      2020-11-05   \n",
       "7888                NaN      2020-10-02   \n",
       "\n",
       "                                          reason date_created date_updated  \\\n",
       "7884  Disruption of the manufacture of the drug.   2020-02-24   2020-05-01   \n",
       "7885  Disruption of the manufacture of the drug.   2020-03-07   2020-05-01   \n",
       "7886  Disruption of the manufacture of the drug.   2020-10-27   2020-11-06   \n",
       "7887  Disruption of the manufacture of the drug.   2020-08-28   2020-11-06   \n",
       "7888  Disruption of the manufacture of the drug.   2020-08-29   2020-10-03   \n",
       "\n",
       "     tier_3    Days Days2  \n",
       "7884     No 68 days    68  \n",
       "7885     No 55 days    55  \n",
       "7886     No 69 days    69  \n",
       "7887     No 82 days    82  \n",
       "7888     No 48 days    48  \n",
       "\n",
       "[5 rows x 24 columns]"
      ]
     },
     "execution_count": 116,
     "metadata": {},
     "output_type": "execute_result"
    }
   ],
   "source": [
    "df2.head()"
   ]
  },
  {
   "cell_type": "code",
   "execution_count": 119,
   "metadata": {},
   "outputs": [
    {
     "data": {
      "text/plain": [
       "report_id                               int64\n",
       "drug_identification_number              int32\n",
       "report_type                            object\n",
       "brand_name                             object\n",
       "company_name                           object\n",
       "common_or_proper_name                  object\n",
       "ingredients                            object\n",
       "strength(s)                            object\n",
       "packaging_size                         object\n",
       "route_of_administration                object\n",
       "shortage_status                        object\n",
       "dosage_form(s)                         object\n",
       "atc_code                               object\n",
       "atc_description                        object\n",
       "anticipated_start_date                 object\n",
       "actual_start_date              datetime64[ns]\n",
       "estimated_end_date                     object\n",
       "actual_end_date                datetime64[ns]\n",
       "reason                                 object\n",
       "date_created                           object\n",
       "date_updated                           object\n",
       "tier_3                                 object\n",
       "Days                          timedelta64[ns]\n",
       "Days2                                   int32\n",
       "dtype: object"
      ]
     },
     "execution_count": 119,
     "metadata": {},
     "output_type": "execute_result"
    }
   ],
   "source": [
    "df2.dtypes"
   ]
  },
  {
   "cell_type": "code",
   "execution_count": 121,
   "metadata": {},
   "outputs": [],
   "source": [
    "col_list = ['actual_start_date', 'Days2']"
   ]
  },
  {
   "cell_type": "code",
   "execution_count": 122,
   "metadata": {},
   "outputs": [],
   "source": [
    "df2 = df2[col_list]"
   ]
  },
  {
   "cell_type": "code",
   "execution_count": 123,
   "metadata": {},
   "outputs": [
    {
     "data": {
      "text/html": [
       "<div>\n",
       "<style scoped>\n",
       "    .dataframe tbody tr th:only-of-type {\n",
       "        vertical-align: middle;\n",
       "    }\n",
       "\n",
       "    .dataframe tbody tr th {\n",
       "        vertical-align: top;\n",
       "    }\n",
       "\n",
       "    .dataframe thead th {\n",
       "        text-align: right;\n",
       "    }\n",
       "</style>\n",
       "<table border=\"1\" class=\"dataframe\">\n",
       "  <thead>\n",
       "    <tr style=\"text-align: right;\">\n",
       "      <th></th>\n",
       "      <th>actual_start_date</th>\n",
       "      <th>Days2</th>\n",
       "    </tr>\n",
       "  </thead>\n",
       "  <tbody>\n",
       "    <tr>\n",
       "      <th>7884</th>\n",
       "      <td>2020-02-21</td>\n",
       "      <td>68</td>\n",
       "    </tr>\n",
       "    <tr>\n",
       "      <th>7885</th>\n",
       "      <td>2020-03-06</td>\n",
       "      <td>55</td>\n",
       "    </tr>\n",
       "    <tr>\n",
       "      <th>7886</th>\n",
       "      <td>2020-08-28</td>\n",
       "      <td>69</td>\n",
       "    </tr>\n",
       "    <tr>\n",
       "      <th>7887</th>\n",
       "      <td>2020-08-15</td>\n",
       "      <td>82</td>\n",
       "    </tr>\n",
       "    <tr>\n",
       "      <th>7888</th>\n",
       "      <td>2020-08-15</td>\n",
       "      <td>48</td>\n",
       "    </tr>\n",
       "  </tbody>\n",
       "</table>\n",
       "</div>"
      ],
      "text/plain": [
       "     actual_start_date  Days2\n",
       "7884        2020-02-21     68\n",
       "7885        2020-03-06     55\n",
       "7886        2020-08-28     69\n",
       "7887        2020-08-15     82\n",
       "7888        2020-08-15     48"
      ]
     },
     "execution_count": 123,
     "metadata": {},
     "output_type": "execute_result"
    }
   ],
   "source": [
    "df2.head()"
   ]
  },
  {
   "cell_type": "code",
   "execution_count": 125,
   "metadata": {},
   "outputs": [],
   "source": [
    "df2.columns = ['ds', 'y']"
   ]
  },
  {
   "cell_type": "code",
   "execution_count": 126,
   "metadata": {},
   "outputs": [
    {
     "data": {
      "text/plain": [
       "(28, 2)"
      ]
     },
     "execution_count": 126,
     "metadata": {},
     "output_type": "execute_result"
    }
   ],
   "source": [
    "df2.shape"
   ]
  },
  {
   "cell_type": "code",
   "execution_count": 127,
   "metadata": {},
   "outputs": [],
   "source": [
    "p = Prophet(interval_width=0.5, daily_seasonality=True)"
   ]
  },
  {
   "cell_type": "code",
   "execution_count": 128,
   "metadata": {},
   "outputs": [
    {
     "name": "stderr",
     "output_type": "stream",
     "text": [
      "12:25:05 - cmdstanpy - INFO - Chain [1] start processing\n",
      "12:25:05 - cmdstanpy - INFO - Chain [1] done processing\n"
     ]
    }
   ],
   "source": [
    "model = p.fit(df2)"
   ]
  },
  {
   "cell_type": "code",
   "execution_count": 129,
   "metadata": {},
   "outputs": [
    {
     "data": {
      "text/html": [
       "<div>\n",
       "<style scoped>\n",
       "    .dataframe tbody tr th:only-of-type {\n",
       "        vertical-align: middle;\n",
       "    }\n",
       "\n",
       "    .dataframe tbody tr th {\n",
       "        vertical-align: top;\n",
       "    }\n",
       "\n",
       "    .dataframe thead th {\n",
       "        text-align: right;\n",
       "    }\n",
       "</style>\n",
       "<table border=\"1\" class=\"dataframe\">\n",
       "  <thead>\n",
       "    <tr style=\"text-align: right;\">\n",
       "      <th></th>\n",
       "      <th>ds</th>\n",
       "    </tr>\n",
       "  </thead>\n",
       "  <tbody>\n",
       "    <tr>\n",
       "      <th>69</th>\n",
       "      <td>2023-03-13</td>\n",
       "    </tr>\n",
       "    <tr>\n",
       "      <th>70</th>\n",
       "      <td>2023-03-14</td>\n",
       "    </tr>\n",
       "    <tr>\n",
       "      <th>71</th>\n",
       "      <td>2023-03-15</td>\n",
       "    </tr>\n",
       "    <tr>\n",
       "      <th>72</th>\n",
       "      <td>2023-03-16</td>\n",
       "    </tr>\n",
       "    <tr>\n",
       "      <th>73</th>\n",
       "      <td>2023-03-17</td>\n",
       "    </tr>\n",
       "  </tbody>\n",
       "</table>\n",
       "</div>"
      ],
      "text/plain": [
       "           ds\n",
       "69 2023-03-13\n",
       "70 2023-03-14\n",
       "71 2023-03-15\n",
       "72 2023-03-16\n",
       "73 2023-03-17"
      ]
     },
     "execution_count": 129,
     "metadata": {},
     "output_type": "execute_result"
    }
   ],
   "source": [
    "future = p.make_future_dataframe(periods=50, freq='D')\n",
    "future.tail()"
   ]
  },
  {
   "cell_type": "markdown",
   "metadata": {},
   "source": []
  },
  {
   "cell_type": "code",
   "execution_count": 130,
   "metadata": {},
   "outputs": [
    {
     "data": {
      "text/html": [
       "<div>\n",
       "<style scoped>\n",
       "    .dataframe tbody tr th:only-of-type {\n",
       "        vertical-align: middle;\n",
       "    }\n",
       "\n",
       "    .dataframe tbody tr th {\n",
       "        vertical-align: top;\n",
       "    }\n",
       "\n",
       "    .dataframe thead th {\n",
       "        text-align: right;\n",
       "    }\n",
       "</style>\n",
       "<table border=\"1\" class=\"dataframe\">\n",
       "  <thead>\n",
       "    <tr style=\"text-align: right;\">\n",
       "      <th></th>\n",
       "      <th>ds</th>\n",
       "      <th>trend</th>\n",
       "      <th>yhat_lower</th>\n",
       "      <th>yhat_upper</th>\n",
       "      <th>trend_lower</th>\n",
       "      <th>trend_upper</th>\n",
       "      <th>additive_terms</th>\n",
       "      <th>additive_terms_lower</th>\n",
       "      <th>additive_terms_upper</th>\n",
       "      <th>daily</th>\n",
       "      <th>...</th>\n",
       "      <th>weekly</th>\n",
       "      <th>weekly_lower</th>\n",
       "      <th>weekly_upper</th>\n",
       "      <th>yearly</th>\n",
       "      <th>yearly_lower</th>\n",
       "      <th>yearly_upper</th>\n",
       "      <th>multiplicative_terms</th>\n",
       "      <th>multiplicative_terms_lower</th>\n",
       "      <th>multiplicative_terms_upper</th>\n",
       "      <th>yhat</th>\n",
       "    </tr>\n",
       "  </thead>\n",
       "  <tbody>\n",
       "    <tr>\n",
       "      <th>0</th>\n",
       "      <td>2019-06-27</td>\n",
       "      <td>12.269362</td>\n",
       "      <td>31.913625</td>\n",
       "      <td>38.045188</td>\n",
       "      <td>12.269362</td>\n",
       "      <td>12.269362</td>\n",
       "      <td>22.729968</td>\n",
       "      <td>22.729968</td>\n",
       "      <td>22.729968</td>\n",
       "      <td>195.994404</td>\n",
       "      <td>...</td>\n",
       "      <td>51.999640</td>\n",
       "      <td>51.999640</td>\n",
       "      <td>51.999640</td>\n",
       "      <td>-225.264076</td>\n",
       "      <td>-225.264076</td>\n",
       "      <td>-225.264076</td>\n",
       "      <td>0.0</td>\n",
       "      <td>0.0</td>\n",
       "      <td>0.0</td>\n",
       "      <td>34.999330</td>\n",
       "    </tr>\n",
       "    <tr>\n",
       "      <th>1</th>\n",
       "      <td>2019-07-04</td>\n",
       "      <td>10.912126</td>\n",
       "      <td>23.608716</td>\n",
       "      <td>29.939690</td>\n",
       "      <td>10.912126</td>\n",
       "      <td>10.912126</td>\n",
       "      <td>16.088876</td>\n",
       "      <td>16.088876</td>\n",
       "      <td>16.088876</td>\n",
       "      <td>195.994404</td>\n",
       "      <td>...</td>\n",
       "      <td>51.999640</td>\n",
       "      <td>51.999640</td>\n",
       "      <td>51.999640</td>\n",
       "      <td>-231.905168</td>\n",
       "      <td>-231.905168</td>\n",
       "      <td>-231.905168</td>\n",
       "      <td>0.0</td>\n",
       "      <td>0.0</td>\n",
       "      <td>0.0</td>\n",
       "      <td>27.001002</td>\n",
       "    </tr>\n",
       "    <tr>\n",
       "      <th>2</th>\n",
       "      <td>2019-08-14</td>\n",
       "      <td>2.962603</td>\n",
       "      <td>26.600480</td>\n",
       "      <td>32.851264</td>\n",
       "      <td>2.962603</td>\n",
       "      <td>2.962603</td>\n",
       "      <td>27.055476</td>\n",
       "      <td>27.055476</td>\n",
       "      <td>27.055476</td>\n",
       "      <td>195.994404</td>\n",
       "      <td>...</td>\n",
       "      <td>14.373695</td>\n",
       "      <td>14.373695</td>\n",
       "      <td>14.373695</td>\n",
       "      <td>-183.312622</td>\n",
       "      <td>-183.312622</td>\n",
       "      <td>-183.312622</td>\n",
       "      <td>0.0</td>\n",
       "      <td>0.0</td>\n",
       "      <td>0.0</td>\n",
       "      <td>30.018079</td>\n",
       "    </tr>\n",
       "    <tr>\n",
       "      <th>3</th>\n",
       "      <td>2019-09-09</td>\n",
       "      <td>-2.078558</td>\n",
       "      <td>7.758215</td>\n",
       "      <td>14.386854</td>\n",
       "      <td>-2.078558</td>\n",
       "      <td>-2.078558</td>\n",
       "      <td>13.090025</td>\n",
       "      <td>13.090025</td>\n",
       "      <td>13.090025</td>\n",
       "      <td>195.994404</td>\n",
       "      <td>...</td>\n",
       "      <td>-68.873416</td>\n",
       "      <td>-68.873416</td>\n",
       "      <td>-68.873416</td>\n",
       "      <td>-114.030963</td>\n",
       "      <td>-114.030963</td>\n",
       "      <td>-114.030963</td>\n",
       "      <td>0.0</td>\n",
       "      <td>0.0</td>\n",
       "      <td>0.0</td>\n",
       "      <td>11.011468</td>\n",
       "    </tr>\n",
       "    <tr>\n",
       "      <th>4</th>\n",
       "      <td>2019-09-12</td>\n",
       "      <td>-2.660230</td>\n",
       "      <td>4.571934</td>\n",
       "      <td>11.025445</td>\n",
       "      <td>-2.660230</td>\n",
       "      <td>-2.660230</td>\n",
       "      <td>10.650906</td>\n",
       "      <td>10.650906</td>\n",
       "      <td>10.650906</td>\n",
       "      <td>195.994404</td>\n",
       "      <td>...</td>\n",
       "      <td>51.999640</td>\n",
       "      <td>51.999640</td>\n",
       "      <td>51.999640</td>\n",
       "      <td>-237.343138</td>\n",
       "      <td>-237.343138</td>\n",
       "      <td>-237.343138</td>\n",
       "      <td>0.0</td>\n",
       "      <td>0.0</td>\n",
       "      <td>0.0</td>\n",
       "      <td>7.990676</td>\n",
       "    </tr>\n",
       "  </tbody>\n",
       "</table>\n",
       "<p>5 rows × 22 columns</p>\n",
       "</div>"
      ],
      "text/plain": [
       "          ds      trend  yhat_lower  yhat_upper  trend_lower  trend_upper  \\\n",
       "0 2019-06-27  12.269362   31.913625   38.045188    12.269362    12.269362   \n",
       "1 2019-07-04  10.912126   23.608716   29.939690    10.912126    10.912126   \n",
       "2 2019-08-14   2.962603   26.600480   32.851264     2.962603     2.962603   \n",
       "3 2019-09-09  -2.078558    7.758215   14.386854    -2.078558    -2.078558   \n",
       "4 2019-09-12  -2.660230    4.571934   11.025445    -2.660230    -2.660230   \n",
       "\n",
       "   additive_terms  additive_terms_lower  additive_terms_upper       daily  \\\n",
       "0       22.729968             22.729968             22.729968  195.994404   \n",
       "1       16.088876             16.088876             16.088876  195.994404   \n",
       "2       27.055476             27.055476             27.055476  195.994404   \n",
       "3       13.090025             13.090025             13.090025  195.994404   \n",
       "4       10.650906             10.650906             10.650906  195.994404   \n",
       "\n",
       "   ...     weekly  weekly_lower  weekly_upper      yearly  yearly_lower  \\\n",
       "0  ...  51.999640     51.999640     51.999640 -225.264076   -225.264076   \n",
       "1  ...  51.999640     51.999640     51.999640 -231.905168   -231.905168   \n",
       "2  ...  14.373695     14.373695     14.373695 -183.312622   -183.312622   \n",
       "3  ... -68.873416    -68.873416    -68.873416 -114.030963   -114.030963   \n",
       "4  ...  51.999640     51.999640     51.999640 -237.343138   -237.343138   \n",
       "\n",
       "   yearly_upper  multiplicative_terms  multiplicative_terms_lower  \\\n",
       "0   -225.264076                   0.0                         0.0   \n",
       "1   -231.905168                   0.0                         0.0   \n",
       "2   -183.312622                   0.0                         0.0   \n",
       "3   -114.030963                   0.0                         0.0   \n",
       "4   -237.343138                   0.0                         0.0   \n",
       "\n",
       "   multiplicative_terms_upper       yhat  \n",
       "0                         0.0  34.999330  \n",
       "1                         0.0  27.001002  \n",
       "2                         0.0  30.018079  \n",
       "3                         0.0  11.011468  \n",
       "4                         0.0   7.990676  \n",
       "\n",
       "[5 rows x 22 columns]"
      ]
     },
     "execution_count": 130,
     "metadata": {},
     "output_type": "execute_result"
    }
   ],
   "source": [
    "forecast_prediction = p.predict(future)\n",
    "forecast_prediction.head()"
   ]
  },
  {
   "cell_type": "code",
   "execution_count": 131,
   "metadata": {},
   "outputs": [
    {
     "data": {
      "image/png": "[encoded data removed]",
      "text/plain": [
       "<Figure size 720x432 with 1 Axes>"
      ]
     },
     "metadata": {},
     "output_type": "display_data"
    }
   ],
   "source": [
    "plot1 = p.plot(forecast_prediction)"
   ]
  },
  {
   "cell_type": "code",
   "execution_count": 132,
   "metadata": {},
   "outputs": [
    {
     "data": {
      "image/png": "[encoded data removed]",
      "text/plain": [
       "<Figure size 648x864 with 4 Axes>"
      ]
     },
     "metadata": {},
     "output_type": "display_data"
    }
   ],
   "source": [
    "plot2 = p.plot_components(forecast_prediction)"
   ]
  }
 ],
 "metadata": {
  "kernelspec": {
   "display_name": "base",
   "language": "python",
   "name": "python3"
  },
  "language_info": {
   "codemirror_mode": {
    "name": "ipython",
    "version": 3
   },
   "file_extension": ".py",
   "mimetype": "text/x-python",
   "name": "python",
   "nbconvert_exporter": "python",
   "pygments_lexer": "ipython3",
   "version": "3.9.7"
  },
  "orig_nbformat": 4
 },
 "nbformat": 4,
 "nbformat_minor": 2
}
