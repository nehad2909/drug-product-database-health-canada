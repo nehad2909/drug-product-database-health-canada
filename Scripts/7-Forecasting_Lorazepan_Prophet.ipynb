{
 "cells": [
  {
   "cell_type": "code",
   "execution_count": 37,
   "metadata": {},
   "outputs": [],
   "source": [
    "import pandas as pd\n",
    "import numpy as np\n",
    "import datetime\n",
    "from datetime import datetime\n",
    "# import xlrd\n",
    "import warnings\n",
    "import matplotlib.pyplot as plt\n",
    "import seaborn as sns\n",
    "from prophet import Prophet\n",
    "warnings.filterwarnings('ignore')"
   ]
  },
  {
   "cell_type": "code",
   "execution_count": 38,
   "metadata": {},
   "outputs": [
    {
     "data": {
      "text/html": [
       "<div>\n",
       "<style scoped>\n",
       "    .dataframe tbody tr th:only-of-type {\n",
       "        vertical-align: middle;\n",
       "    }\n",
       "\n",
       "    .dataframe tbody tr th {\n",
       "        vertical-align: top;\n",
       "    }\n",
       "\n",
       "    .dataframe thead th {\n",
       "        text-align: right;\n",
       "    }\n",
       "</style>\n",
       "<table border=\"1\" class=\"dataframe\">\n",
       "  <thead>\n",
       "    <tr style=\"text-align: right;\">\n",
       "      <th></th>\n",
       "      <th>report_id</th>\n",
       "      <th>drug_identification_number</th>\n",
       "      <th>report_type</th>\n",
       "      <th>brand_name</th>\n",
       "      <th>company_name</th>\n",
       "      <th>common_or_proper_name</th>\n",
       "      <th>ingredients</th>\n",
       "      <th>strength(s)</th>\n",
       "      <th>packaging_size</th>\n",
       "      <th>route_of_administration</th>\n",
       "      <th>...</th>\n",
       "      <th>atc_code</th>\n",
       "      <th>atc_description</th>\n",
       "      <th>anticipated_start_date</th>\n",
       "      <th>actual_start_date</th>\n",
       "      <th>estimated_end_date</th>\n",
       "      <th>actual_end_date</th>\n",
       "      <th>reason</th>\n",
       "      <th>date_created</th>\n",
       "      <th>date_updated</th>\n",
       "      <th>tier_3</th>\n",
       "    </tr>\n",
       "  </thead>\n",
       "  <tbody>\n",
       "    <tr>\n",
       "      <th>17163</th>\n",
       "      <td>21685</td>\n",
       "      <td>2340445.0</td>\n",
       "      <td>Shortage</td>\n",
       "      <td>ZYCLARA</td>\n",
       "      <td>VALEANT CANADA LP/VALEANT CANADA S.E.C.</td>\n",
       "      <td>ZYCLARA</td>\n",
       "      <td>IMIQUIMOD</td>\n",
       "      <td>3.75%</td>\n",
       "      <td>na</td>\n",
       "      <td>TOPICAL</td>\n",
       "      <td>...</td>\n",
       "      <td>D06BB</td>\n",
       "      <td>CHEMOTHERAPEUTICS FOR TOPICAL USE</td>\n",
       "      <td>NaN</td>\n",
       "      <td>2017-09-08</td>\n",
       "      <td>2017-09-22</td>\n",
       "      <td>2017-09-22</td>\n",
       "      <td>Other (Please describe in comments)</td>\n",
       "      <td>2017-09-08</td>\n",
       "      <td>2017-09-25</td>\n",
       "      <td>No</td>\n",
       "    </tr>\n",
       "    <tr>\n",
       "      <th>17164</th>\n",
       "      <td>52702</td>\n",
       "      <td>2340445.0</td>\n",
       "      <td>Shortage</td>\n",
       "      <td>ZYCLARA</td>\n",
       "      <td>VALEANT CANADA LP/VALEANT CANADA S.E.C.</td>\n",
       "      <td>ZYCLARA</td>\n",
       "      <td>IMIQUIMOD</td>\n",
       "      <td>3.75%</td>\n",
       "      <td>7.5g pump</td>\n",
       "      <td>TOPICAL</td>\n",
       "      <td>...</td>\n",
       "      <td>D06BB</td>\n",
       "      <td>CHEMOTHERAPEUTICS FOR TOPICAL USE</td>\n",
       "      <td>NaN</td>\n",
       "      <td>2019-04-01</td>\n",
       "      <td>NaN</td>\n",
       "      <td>2019-07-12</td>\n",
       "      <td>Other (Please describe in comments)</td>\n",
       "      <td>2018-06-20</td>\n",
       "      <td>2019-07-13</td>\n",
       "      <td>No</td>\n",
       "    </tr>\n",
       "    <tr>\n",
       "      <th>17165</th>\n",
       "      <td>18241</td>\n",
       "      <td>2257270.0</td>\n",
       "      <td>Shortage</td>\n",
       "      <td>ZYMAR</td>\n",
       "      <td>ALLERGAN INC</td>\n",
       "      <td>ZYMAR 1mL</td>\n",
       "      <td>GATIFLOXACIN</td>\n",
       "      <td>0.3%</td>\n",
       "      <td>1 mL</td>\n",
       "      <td>OPHTHALMIC</td>\n",
       "      <td>...</td>\n",
       "      <td>S01AE</td>\n",
       "      <td>ANTIINFECTIVES</td>\n",
       "      <td>2017-08-03</td>\n",
       "      <td>2017-08-03</td>\n",
       "      <td>2017-09-18</td>\n",
       "      <td>2017-10-06</td>\n",
       "      <td>Disruption of the manufacture of the drug.</td>\n",
       "      <td>2017-08-03</td>\n",
       "      <td>2017-10-13</td>\n",
       "      <td>No</td>\n",
       "    </tr>\n",
       "    <tr>\n",
       "      <th>17166</th>\n",
       "      <td>33440</td>\n",
       "      <td>2257270.0</td>\n",
       "      <td>Shortage</td>\n",
       "      <td>ZYMAR</td>\n",
       "      <td>ALLERGAN INC</td>\n",
       "      <td>ZYMAR 1mL</td>\n",
       "      <td>GATIFLOXACIN</td>\n",
       "      <td>0.3%</td>\n",
       "      <td>5mL</td>\n",
       "      <td>OPHTHALMIC</td>\n",
       "      <td>...</td>\n",
       "      <td>S01AE</td>\n",
       "      <td>ANTIINFECTIVES</td>\n",
       "      <td>2019-09-16</td>\n",
       "      <td>2019-09-16</td>\n",
       "      <td>2019-09-20</td>\n",
       "      <td>2019-09-18</td>\n",
       "      <td>Disruption of the manufacture of the drug.</td>\n",
       "      <td>2017-12-18</td>\n",
       "      <td>2019-09-19</td>\n",
       "      <td>No</td>\n",
       "    </tr>\n",
       "    <tr>\n",
       "      <th>17167</th>\n",
       "      <td>54338</td>\n",
       "      <td>2243686.0</td>\n",
       "      <td>Shortage</td>\n",
       "      <td>ZYVOXAM</td>\n",
       "      <td>PFIZER CANADA INC</td>\n",
       "      <td>Zyvoxam</td>\n",
       "      <td>LINEZOLID</td>\n",
       "      <td>3G</td>\n",
       "      <td>1x240ml Btl</td>\n",
       "      <td>ORAL</td>\n",
       "      <td>...</td>\n",
       "      <td>J01XX</td>\n",
       "      <td>OTHER ANTIBACTERIALS</td>\n",
       "      <td>NaN</td>\n",
       "      <td>2018-08-21</td>\n",
       "      <td>NaN</td>\n",
       "      <td>2018-10-23</td>\n",
       "      <td>Disruption of the manufacture of the drug.</td>\n",
       "      <td>2018-07-04</td>\n",
       "      <td>2018-10-24</td>\n",
       "      <td>No</td>\n",
       "    </tr>\n",
       "  </tbody>\n",
       "</table>\n",
       "<p>5 rows × 22 columns</p>\n",
       "</div>"
      ],
      "text/plain": [
       "       report_id  drug_identification_number report_type brand_name  \\\n",
       "17163      21685                   2340445.0    Shortage    ZYCLARA   \n",
       "17164      52702                   2340445.0    Shortage    ZYCLARA   \n",
       "17165      18241                   2257270.0    Shortage      ZYMAR   \n",
       "17166      33440                   2257270.0    Shortage      ZYMAR   \n",
       "17167      54338                   2243686.0    Shortage    ZYVOXAM   \n",
       "\n",
       "                                  company_name common_or_proper_name  \\\n",
       "17163  VALEANT CANADA LP/VALEANT CANADA S.E.C.               ZYCLARA   \n",
       "17164  VALEANT CANADA LP/VALEANT CANADA S.E.C.               ZYCLARA   \n",
       "17165                             ALLERGAN INC             ZYMAR 1mL   \n",
       "17166                             ALLERGAN INC             ZYMAR 1mL   \n",
       "17167                        PFIZER CANADA INC               Zyvoxam   \n",
       "\n",
       "        ingredients strength(s) packaging_size route_of_administration  ...  \\\n",
       "17163     IMIQUIMOD       3.75%             na                 TOPICAL  ...   \n",
       "17164     IMIQUIMOD       3.75%      7.5g pump                 TOPICAL  ...   \n",
       "17165  GATIFLOXACIN        0.3%           1 mL              OPHTHALMIC  ...   \n",
       "17166  GATIFLOXACIN        0.3%            5mL              OPHTHALMIC  ...   \n",
       "17167     LINEZOLID          3G    1x240ml Btl                    ORAL  ...   \n",
       "\n",
       "      atc_code                    atc_description anticipated_start_date  \\\n",
       "17163    D06BB  CHEMOTHERAPEUTICS FOR TOPICAL USE                    NaN   \n",
       "17164    D06BB  CHEMOTHERAPEUTICS FOR TOPICAL USE                    NaN   \n",
       "17165    S01AE                     ANTIINFECTIVES             2017-08-03   \n",
       "17166    S01AE                     ANTIINFECTIVES             2019-09-16   \n",
       "17167    J01XX               OTHER ANTIBACTERIALS                    NaN   \n",
       "\n",
       "      actual_start_date estimated_end_date actual_end_date  \\\n",
       "17163        2017-09-08         2017-09-22      2017-09-22   \n",
       "17164        2019-04-01                NaN      2019-07-12   \n",
       "17165        2017-08-03         2017-09-18      2017-10-06   \n",
       "17166        2019-09-16         2019-09-20      2019-09-18   \n",
       "17167        2018-08-21                NaN      2018-10-23   \n",
       "\n",
       "                                           reason date_created date_updated  \\\n",
       "17163         Other (Please describe in comments)   2017-09-08   2017-09-25   \n",
       "17164         Other (Please describe in comments)   2018-06-20   2019-07-13   \n",
       "17165  Disruption of the manufacture of the drug.   2017-08-03   2017-10-13   \n",
       "17166  Disruption of the manufacture of the drug.   2017-12-18   2019-09-19   \n",
       "17167  Disruption of the manufacture of the drug.   2018-07-04   2018-10-24   \n",
       "\n",
       "      tier_3  \n",
       "17163     No  \n",
       "17164     No  \n",
       "17165     No  \n",
       "17166     No  \n",
       "17167     No  \n",
       "\n",
       "[5 rows x 22 columns]"
      ]
     },
     "execution_count": 38,
     "metadata": {},
     "output_type": "execute_result"
    }
   ],
   "source": [
    "df = pd.read_csv(\"Shortage data/shortage_final.csv\")\n",
    "\n",
    "# converting headers in lowercase\n",
    "df.columns = df.columns.str.lower()\n",
    "\n",
    "# replacing spaces for \"_\" in headers\n",
    "df.columns = df.columns.str.replace(' ', '_')\n",
    "\n",
    "# Removing NaN actual_start_date and actual_end_date, considering as an incomplete record\n",
    "df=df.dropna(subset=['actual_start_date','actual_end_date'] )\n",
    "\n",
    "# Removing Actuals before 2017\n",
    "df = df.loc[(df['actual_start_date'] >= '2017-01-01')]\n",
    "# Removing outliers before 2010 for End_date\n",
    "df = df.loc[(df['actual_end_date'] >= '2010-01-01')]\n",
    "\n",
    "# Removing duplicates ID Reports\n",
    "df=df.drop_duplicates(\"report_id\", keep=False)\n",
    "\n",
    "df.tail()"
   ]
  },
  {
   "cell_type": "code",
   "execution_count": 39,
   "metadata": {},
   "outputs": [],
   "source": [
    "df['actual_start_date'] = df['actual_start_date'].astype('datetime64[D]')"
   ]
  },
  {
   "cell_type": "code",
   "execution_count": 40,
   "metadata": {},
   "outputs": [],
   "source": [
    "df['actual_end_date'] = df['actual_end_date'].astype('datetime64[D]')"
   ]
  },
  {
   "cell_type": "code",
   "execution_count": 41,
   "metadata": {},
   "outputs": [],
   "source": [
    "df['drug_identification_number'] = df['drug_identification_number'].fillna(0)\n",
    "df['drug_identification_number'] = df['drug_identification_number'].astype('int')"
   ]
  },
  {
   "cell_type": "code",
   "execution_count": 42,
   "metadata": {},
   "outputs": [
    {
     "data": {
      "text/plain": [
       "report_id                              int64\n",
       "drug_identification_number             int32\n",
       "report_type                           object\n",
       "brand_name                            object\n",
       "company_name                          object\n",
       "common_or_proper_name                 object\n",
       "ingredients                           object\n",
       "strength(s)                           object\n",
       "packaging_size                        object\n",
       "route_of_administration               object\n",
       "shortage_status                       object\n",
       "dosage_form(s)                        object\n",
       "atc_code                              object\n",
       "atc_description                       object\n",
       "anticipated_start_date                object\n",
       "actual_start_date             datetime64[ns]\n",
       "estimated_end_date                    object\n",
       "actual_end_date               datetime64[ns]\n",
       "reason                                object\n",
       "date_created                          object\n",
       "date_updated                          object\n",
       "tier_3                                object\n",
       "dtype: object"
      ]
     },
     "execution_count": 42,
     "metadata": {},
     "output_type": "execute_result"
    }
   ],
   "source": [
    "df.dtypes"
   ]
  },
  {
   "cell_type": "code",
   "execution_count": 43,
   "metadata": {},
   "outputs": [],
   "source": [
    "df=df.drop_duplicates(\"report_id\", keep=False)"
   ]
  },
  {
   "cell_type": "code",
   "execution_count": 44,
   "metadata": {},
   "outputs": [],
   "source": [
    "df['Days']= df['actual_end_date']-df['actual_start_date']"
   ]
  },
  {
   "cell_type": "code",
   "execution_count": 45,
   "metadata": {},
   "outputs": [
    {
     "data": {
      "text/plain": [
       "717002     28\n",
       "60208      22\n",
       "60348      21\n",
       "2293838    18\n",
       "2245523    18\n",
       "2242984    17\n",
       "592277     16\n",
       "608165     16\n",
       "812382     15\n",
       "2139510    15\n",
       "Name: drug_identification_number, dtype: int64"
      ]
     },
     "execution_count": 45,
     "metadata": {},
     "output_type": "execute_result"
    }
   ],
   "source": [
    "df.drug_identification_number.value_counts()[:10]"
   ]
  },
  {
   "cell_type": "code",
   "execution_count": 46,
   "metadata": {},
   "outputs": [
    {
     "data": {
      "text/plain": [
       "<AxesSubplot:>"
      ]
     },
     "execution_count": 46,
     "metadata": {},
     "output_type": "execute_result"
    },
    {
     "data": {
      "image/png": "[encoded data removed]",
      "text/plain": [
       "<Figure size 432x288 with 1 Axes>"
      ]
     },
     "metadata": {
      "needs_background": "light"
     },
     "output_type": "display_data"
    }
   ],
   "source": [
    "df.drug_identification_number.value_counts()[:10].plot(kind='bar')"
   ]
  },
  {
   "cell_type": "code",
   "execution_count": 47,
   "metadata": {},
   "outputs": [
    {
     "data": {
      "text/plain": [
       "(13549, 24)"
      ]
     },
     "execution_count": 47,
     "metadata": {},
     "output_type": "execute_result"
    }
   ],
   "source": [
    "df['Days2'] = df['Days'].dt.days\n",
    "df['Days2']=df['Days2'].astype('int')\n",
    "# df.to_csv(\"dattitos.csv\", index=False)\n",
    "df.shape"
   ]
  },
  {
   "cell_type": "code",
   "execution_count": 48,
   "metadata": {},
   "outputs": [
    {
     "data": {
      "text/plain": [
       "(13332, 24)"
      ]
     },
     "execution_count": 48,
     "metadata": {},
     "output_type": "execute_result"
    }
   ],
   "source": [
    "df= df[(df['Days2']>0)]\n",
    "df.shape"
   ]
  },
  {
   "cell_type": "code",
   "execution_count": 49,
   "metadata": {},
   "outputs": [
    {
     "name": "stdout",
     "output_type": "stream",
     "text": [
      "Unique values:  \n",
      " report_id                     13332\n",
      "drug_identification_number     5391\n",
      "report_type                       1\n",
      "brand_name                     3395\n",
      "company_name                    195\n",
      "common_or_proper_name          4551\n",
      "ingredients                    1169\n",
      "strength(s)                     868\n",
      "packaging_size                 2403\n",
      "route_of_administration         178\n",
      "shortage_status                   3\n",
      "dosage_form(s)                  122\n",
      "atc_code                        462\n",
      "atc_description                 201\n",
      "anticipated_start_date         1252\n",
      "actual_start_date              1704\n",
      "estimated_end_date             1597\n",
      "actual_end_date                1670\n",
      "reason                            7\n",
      "date_created                   1516\n",
      "date_updated                   1797\n",
      "tier_3                            2\n",
      "Days                            816\n",
      "Days2                           816\n",
      "dtype: int64\n"
     ]
    }
   ],
   "source": [
    "print (\"Unique values:  \\n\",df.nunique())\n"
   ]
  },
  {
   "cell_type": "code",
   "execution_count": 50,
   "metadata": {},
   "outputs": [],
   "source": [
    "df2 = df[df.drug_identification_number==728187]"
   ]
  },
  {
   "cell_type": "code",
   "execution_count": 51,
   "metadata": {},
   "outputs": [
    {
     "data": {
      "text/plain": [
       "(11, 24)"
      ]
     },
     "execution_count": 51,
     "metadata": {},
     "output_type": "execute_result"
    }
   ],
   "source": [
    "df2.shape"
   ]
  },
  {
   "cell_type": "code",
   "execution_count": 52,
   "metadata": {},
   "outputs": [
    {
     "data": {
      "text/plain": [
       "array([[<AxesSubplot:title={'center':'Days2'}>]], dtype=object)"
      ]
     },
     "execution_count": 52,
     "metadata": {},
     "output_type": "execute_result"
    },
    {
     "data": {
      "image/png": "[encoded data removed]",
      "text/plain": [
       "<Figure size 432x288 with 1 Axes>"
      ]
     },
     "metadata": {
      "needs_background": "light"
     },
     "output_type": "display_data"
    }
   ],
   "source": [
    "df2.hist(column='Days2')"
   ]
  },
  {
   "cell_type": "code",
   "execution_count": 53,
   "metadata": {},
   "outputs": [
    {
     "data": {
      "text/plain": [
       "<AxesSubplot:title={'center':'Days Distribution'}, ylabel='# of Days'>"
      ]
     },
     "execution_count": 53,
     "metadata": {},
     "output_type": "execute_result"
    },
    {
     "data": {
      "image/png": "[encoded data removed]",
      "text/plain": [
       "<Figure size 432x288 with 1 Axes>"
      ]
     },
     "metadata": {
      "needs_background": "light"
     },
     "output_type": "display_data"
    }
   ],
   "source": [
    "# Create a box plot to identify outliers\n",
    "\n",
    "Boxplot, bp=plt.subplots()\n",
    "# bp.set_xlabel('Days')\n",
    "bp.set_ylabel('# of Days')\n",
    "bp.set_title('Days Distribution')\n",
    "bp.grid()\n",
    "df.boxplot(column=\"Days2\", showfliers=False)"
   ]
  },
  {
   "cell_type": "code",
   "execution_count": 54,
   "metadata": {},
   "outputs": [
    {
     "data": {
      "text/html": [
       "<div>\n",
       "<style scoped>\n",
       "    .dataframe tbody tr th:only-of-type {\n",
       "        vertical-align: middle;\n",
       "    }\n",
       "\n",
       "    .dataframe tbody tr th {\n",
       "        vertical-align: top;\n",
       "    }\n",
       "\n",
       "    .dataframe thead th {\n",
       "        text-align: right;\n",
       "    }\n",
       "</style>\n",
       "<table border=\"1\" class=\"dataframe\">\n",
       "  <thead>\n",
       "    <tr style=\"text-align: right;\">\n",
       "      <th></th>\n",
       "      <th>report_id</th>\n",
       "      <th>drug_identification_number</th>\n",
       "      <th>report_type</th>\n",
       "      <th>brand_name</th>\n",
       "      <th>company_name</th>\n",
       "      <th>common_or_proper_name</th>\n",
       "      <th>ingredients</th>\n",
       "      <th>strength(s)</th>\n",
       "      <th>packaging_size</th>\n",
       "      <th>route_of_administration</th>\n",
       "      <th>...</th>\n",
       "      <th>anticipated_start_date</th>\n",
       "      <th>actual_start_date</th>\n",
       "      <th>estimated_end_date</th>\n",
       "      <th>actual_end_date</th>\n",
       "      <th>reason</th>\n",
       "      <th>date_created</th>\n",
       "      <th>date_updated</th>\n",
       "      <th>tier_3</th>\n",
       "      <th>Days</th>\n",
       "      <th>Days2</th>\n",
       "    </tr>\n",
       "  </thead>\n",
       "  <tbody>\n",
       "    <tr>\n",
       "      <th>4808</th>\n",
       "      <td>183870</td>\n",
       "      <td>728187</td>\n",
       "      <td>Shortage</td>\n",
       "      <td>PMS-LORAZEPAM</td>\n",
       "      <td>PHARMASCIENCE INC</td>\n",
       "      <td>LORAZEPAM</td>\n",
       "      <td>LORAZEPAM</td>\n",
       "      <td>0.5MG</td>\n",
       "      <td>100</td>\n",
       "      <td>ORAL\\r\\nORAL</td>\n",
       "      <td>...</td>\n",
       "      <td>NaN</td>\n",
       "      <td>2023-02-07</td>\n",
       "      <td>2023-03-22</td>\n",
       "      <td>2023-03-20</td>\n",
       "      <td>Disruption of the manufacture of the drug.</td>\n",
       "      <td>2023-02-08</td>\n",
       "      <td>2023-03-21</td>\n",
       "      <td>No</td>\n",
       "      <td>41 days</td>\n",
       "      <td>41</td>\n",
       "    </tr>\n",
       "    <tr>\n",
       "      <th>13981</th>\n",
       "      <td>5489</td>\n",
       "      <td>728187</td>\n",
       "      <td>Shortage</td>\n",
       "      <td>PMS-LORAZEPAM TAB 0.5MG</td>\n",
       "      <td>PHARMASCIENCE INC</td>\n",
       "      <td>LORAZEPAM</td>\n",
       "      <td>LORAZEPAM</td>\n",
       "      <td>0.5MG</td>\n",
       "      <td>100</td>\n",
       "      <td>ORAL</td>\n",
       "      <td>...</td>\n",
       "      <td>NaN</td>\n",
       "      <td>2017-09-23</td>\n",
       "      <td>2018-03-20</td>\n",
       "      <td>2017-12-17</td>\n",
       "      <td>Disruption of the manufacture of the drug.</td>\n",
       "      <td>2017-04-04</td>\n",
       "      <td>2017-12-18</td>\n",
       "      <td>No</td>\n",
       "      <td>85 days</td>\n",
       "      <td>85</td>\n",
       "    </tr>\n",
       "    <tr>\n",
       "      <th>13982</th>\n",
       "      <td>5492</td>\n",
       "      <td>728187</td>\n",
       "      <td>Shortage</td>\n",
       "      <td>PMS-LORAZEPAM TAB 0.5MG</td>\n",
       "      <td>PHARMASCIENCE INC</td>\n",
       "      <td>LORAZEPAM</td>\n",
       "      <td>LORAZEPAM</td>\n",
       "      <td>0.5MG</td>\n",
       "      <td>1000</td>\n",
       "      <td>ORAL</td>\n",
       "      <td>...</td>\n",
       "      <td>NaN</td>\n",
       "      <td>2017-09-23</td>\n",
       "      <td>2017-12-18</td>\n",
       "      <td>2017-12-17</td>\n",
       "      <td>Disruption of the manufacture of the drug.</td>\n",
       "      <td>2017-04-04</td>\n",
       "      <td>2017-12-18</td>\n",
       "      <td>No</td>\n",
       "      <td>85 days</td>\n",
       "      <td>85</td>\n",
       "    </tr>\n",
       "    <tr>\n",
       "      <th>13983</th>\n",
       "      <td>5495</td>\n",
       "      <td>728187</td>\n",
       "      <td>Shortage</td>\n",
       "      <td>PMS-LORAZEPAM TAB 0.5MG</td>\n",
       "      <td>PHARMASCIENCE INC</td>\n",
       "      <td>LORAZEPAM</td>\n",
       "      <td>LORAZEPAM</td>\n",
       "      <td>0.5MG</td>\n",
       "      <td>500</td>\n",
       "      <td>ORAL</td>\n",
       "      <td>...</td>\n",
       "      <td>NaN</td>\n",
       "      <td>2017-03-23</td>\n",
       "      <td>2017-09-18</td>\n",
       "      <td>2017-09-18</td>\n",
       "      <td>Disruption of the manufacture of the drug.</td>\n",
       "      <td>2017-04-04</td>\n",
       "      <td>2017-12-18</td>\n",
       "      <td>No</td>\n",
       "      <td>179 days</td>\n",
       "      <td>179</td>\n",
       "    </tr>\n",
       "    <tr>\n",
       "      <th>13984</th>\n",
       "      <td>4234</td>\n",
       "      <td>728187</td>\n",
       "      <td>Shortage</td>\n",
       "      <td>PMS-LORAZEPAM TAB 0.5MG</td>\n",
       "      <td>PHARMASCIENCE INC</td>\n",
       "      <td>LORAZEPAM</td>\n",
       "      <td>LORAZEPAM</td>\n",
       "      <td>0.5MG</td>\n",
       "      <td>100</td>\n",
       "      <td>ORAL</td>\n",
       "      <td>...</td>\n",
       "      <td>NaN</td>\n",
       "      <td>2017-03-23</td>\n",
       "      <td>2017-09-18</td>\n",
       "      <td>2017-09-18</td>\n",
       "      <td>Disruption of the manufacture of the drug.</td>\n",
       "      <td>2017-03-24</td>\n",
       "      <td>2017-12-18</td>\n",
       "      <td>No</td>\n",
       "      <td>179 days</td>\n",
       "      <td>179</td>\n",
       "    </tr>\n",
       "  </tbody>\n",
       "</table>\n",
       "<p>5 rows × 24 columns</p>\n",
       "</div>"
      ],
      "text/plain": [
       "       report_id  drug_identification_number report_type  \\\n",
       "4808      183870                      728187    Shortage   \n",
       "13981       5489                      728187    Shortage   \n",
       "13982       5492                      728187    Shortage   \n",
       "13983       5495                      728187    Shortage   \n",
       "13984       4234                      728187    Shortage   \n",
       "\n",
       "                    brand_name       company_name common_or_proper_name  \\\n",
       "4808             PMS-LORAZEPAM  PHARMASCIENCE INC             LORAZEPAM   \n",
       "13981  PMS-LORAZEPAM TAB 0.5MG  PHARMASCIENCE INC             LORAZEPAM   \n",
       "13982  PMS-LORAZEPAM TAB 0.5MG  PHARMASCIENCE INC             LORAZEPAM   \n",
       "13983  PMS-LORAZEPAM TAB 0.5MG  PHARMASCIENCE INC             LORAZEPAM   \n",
       "13984  PMS-LORAZEPAM TAB 0.5MG  PHARMASCIENCE INC             LORAZEPAM   \n",
       "\n",
       "      ingredients strength(s) packaging_size route_of_administration  ...  \\\n",
       "4808    LORAZEPAM       0.5MG            100            ORAL\\r\\nORAL  ...   \n",
       "13981   LORAZEPAM       0.5MG            100                    ORAL  ...   \n",
       "13982   LORAZEPAM       0.5MG           1000                    ORAL  ...   \n",
       "13983   LORAZEPAM       0.5MG            500                    ORAL  ...   \n",
       "13984   LORAZEPAM       0.5MG            100                    ORAL  ...   \n",
       "\n",
       "      anticipated_start_date actual_start_date estimated_end_date  \\\n",
       "4808                     NaN        2023-02-07         2023-03-22   \n",
       "13981                    NaN        2017-09-23         2018-03-20   \n",
       "13982                    NaN        2017-09-23         2017-12-18   \n",
       "13983                    NaN        2017-03-23         2017-09-18   \n",
       "13984                    NaN        2017-03-23         2017-09-18   \n",
       "\n",
       "      actual_end_date                                      reason  \\\n",
       "4808       2023-03-20  Disruption of the manufacture of the drug.   \n",
       "13981      2017-12-17  Disruption of the manufacture of the drug.   \n",
       "13982      2017-12-17  Disruption of the manufacture of the drug.   \n",
       "13983      2017-09-18  Disruption of the manufacture of the drug.   \n",
       "13984      2017-09-18  Disruption of the manufacture of the drug.   \n",
       "\n",
       "      date_created date_updated tier_3     Days Days2  \n",
       "4808    2023-02-08   2023-03-21     No  41 days    41  \n",
       "13981   2017-04-04   2017-12-18     No  85 days    85  \n",
       "13982   2017-04-04   2017-12-18     No  85 days    85  \n",
       "13983   2017-04-04   2017-12-18     No 179 days   179  \n",
       "13984   2017-03-24   2017-12-18     No 179 days   179  \n",
       "\n",
       "[5 rows x 24 columns]"
      ]
     },
     "execution_count": 54,
     "metadata": {},
     "output_type": "execute_result"
    }
   ],
   "source": [
    "df2.head()"
   ]
  },
  {
   "cell_type": "code",
   "execution_count": 55,
   "metadata": {},
   "outputs": [
    {
     "data": {
      "text/plain": [
       "report_id                               int64\n",
       "drug_identification_number              int32\n",
       "report_type                            object\n",
       "brand_name                             object\n",
       "company_name                           object\n",
       "common_or_proper_name                  object\n",
       "ingredients                            object\n",
       "strength(s)                            object\n",
       "packaging_size                         object\n",
       "route_of_administration                object\n",
       "shortage_status                        object\n",
       "dosage_form(s)                         object\n",
       "atc_code                               object\n",
       "atc_description                        object\n",
       "anticipated_start_date                 object\n",
       "actual_start_date              datetime64[ns]\n",
       "estimated_end_date                     object\n",
       "actual_end_date                datetime64[ns]\n",
       "reason                                 object\n",
       "date_created                           object\n",
       "date_updated                           object\n",
       "tier_3                                 object\n",
       "Days                          timedelta64[ns]\n",
       "Days2                                   int32\n",
       "dtype: object"
      ]
     },
     "execution_count": 55,
     "metadata": {},
     "output_type": "execute_result"
    }
   ],
   "source": [
    "df2.dtypes"
   ]
  },
  {
   "cell_type": "code",
   "execution_count": 56,
   "metadata": {},
   "outputs": [],
   "source": [
    "col_list = ['actual_start_date', 'Days2']"
   ]
  },
  {
   "cell_type": "code",
   "execution_count": 57,
   "metadata": {},
   "outputs": [],
   "source": [
    "df2 = df2[col_list]"
   ]
  },
  {
   "cell_type": "code",
   "execution_count": 58,
   "metadata": {},
   "outputs": [
    {
     "data": {
      "text/html": [
       "<div>\n",
       "<style scoped>\n",
       "    .dataframe tbody tr th:only-of-type {\n",
       "        vertical-align: middle;\n",
       "    }\n",
       "\n",
       "    .dataframe tbody tr th {\n",
       "        vertical-align: top;\n",
       "    }\n",
       "\n",
       "    .dataframe thead th {\n",
       "        text-align: right;\n",
       "    }\n",
       "</style>\n",
       "<table border=\"1\" class=\"dataframe\">\n",
       "  <thead>\n",
       "    <tr style=\"text-align: right;\">\n",
       "      <th></th>\n",
       "      <th>actual_start_date</th>\n",
       "      <th>Days2</th>\n",
       "    </tr>\n",
       "  </thead>\n",
       "  <tbody>\n",
       "    <tr>\n",
       "      <th>4808</th>\n",
       "      <td>2023-02-07</td>\n",
       "      <td>41</td>\n",
       "    </tr>\n",
       "    <tr>\n",
       "      <th>13981</th>\n",
       "      <td>2017-09-23</td>\n",
       "      <td>85</td>\n",
       "    </tr>\n",
       "    <tr>\n",
       "      <th>13982</th>\n",
       "      <td>2017-09-23</td>\n",
       "      <td>85</td>\n",
       "    </tr>\n",
       "    <tr>\n",
       "      <th>13983</th>\n",
       "      <td>2017-03-23</td>\n",
       "      <td>179</td>\n",
       "    </tr>\n",
       "    <tr>\n",
       "      <th>13984</th>\n",
       "      <td>2017-03-23</td>\n",
       "      <td>179</td>\n",
       "    </tr>\n",
       "  </tbody>\n",
       "</table>\n",
       "</div>"
      ],
      "text/plain": [
       "      actual_start_date  Days2\n",
       "4808         2023-02-07     41\n",
       "13981        2017-09-23     85\n",
       "13982        2017-09-23     85\n",
       "13983        2017-03-23    179\n",
       "13984        2017-03-23    179"
      ]
     },
     "execution_count": 58,
     "metadata": {},
     "output_type": "execute_result"
    }
   ],
   "source": [
    "df2.head()"
   ]
  },
  {
   "cell_type": "code",
   "execution_count": 59,
   "metadata": {},
   "outputs": [],
   "source": [
    "df2.columns = ['ds', 'y']"
   ]
  },
  {
   "cell_type": "code",
   "execution_count": 60,
   "metadata": {},
   "outputs": [
    {
     "data": {
      "text/plain": [
       "(11, 2)"
      ]
     },
     "execution_count": 60,
     "metadata": {},
     "output_type": "execute_result"
    }
   ],
   "source": [
    "df2.shape"
   ]
  },
  {
   "cell_type": "code",
   "execution_count": 61,
   "metadata": {},
   "outputs": [],
   "source": [
    "p = Prophet(interval_width=0.5, daily_seasonality=True)"
   ]
  },
  {
   "cell_type": "code",
   "execution_count": 62,
   "metadata": {},
   "outputs": [
    {
     "name": "stderr",
     "output_type": "stream",
     "text": [
      "16:06:17 - cmdstanpy - INFO - Chain [1] start processing\n",
      "16:06:18 - cmdstanpy - INFO - Chain [1] done processing\n"
     ]
    }
   ],
   "source": [
    "model = p.fit(df2)"
   ]
  },
  {
   "cell_type": "code",
   "execution_count": 63,
   "metadata": {},
   "outputs": [
    {
     "data": {
      "text/html": [
       "<div>\n",
       "<style scoped>\n",
       "    .dataframe tbody tr th:only-of-type {\n",
       "        vertical-align: middle;\n",
       "    }\n",
       "\n",
       "    .dataframe tbody tr th {\n",
       "        vertical-align: top;\n",
       "    }\n",
       "\n",
       "    .dataframe thead th {\n",
       "        text-align: right;\n",
       "    }\n",
       "</style>\n",
       "<table border=\"1\" class=\"dataframe\">\n",
       "  <thead>\n",
       "    <tr style=\"text-align: right;\">\n",
       "      <th></th>\n",
       "      <th>ds</th>\n",
       "    </tr>\n",
       "  </thead>\n",
       "  <tbody>\n",
       "    <tr>\n",
       "      <th>365</th>\n",
       "      <td>2024-02-03</td>\n",
       "    </tr>\n",
       "    <tr>\n",
       "      <th>366</th>\n",
       "      <td>2024-02-04</td>\n",
       "    </tr>\n",
       "    <tr>\n",
       "      <th>367</th>\n",
       "      <td>2024-02-05</td>\n",
       "    </tr>\n",
       "    <tr>\n",
       "      <th>368</th>\n",
       "      <td>2024-02-06</td>\n",
       "    </tr>\n",
       "    <tr>\n",
       "      <th>369</th>\n",
       "      <td>2024-02-07</td>\n",
       "    </tr>\n",
       "  </tbody>\n",
       "</table>\n",
       "</div>"
      ],
      "text/plain": [
       "            ds\n",
       "365 2024-02-03\n",
       "366 2024-02-04\n",
       "367 2024-02-05\n",
       "368 2024-02-06\n",
       "369 2024-02-07"
      ]
     },
     "execution_count": 63,
     "metadata": {},
     "output_type": "execute_result"
    }
   ],
   "source": [
    "future = p.make_future_dataframe(periods=365, freq='D')\n",
    "future.tail()"
   ]
  },
  {
   "cell_type": "markdown",
   "metadata": {},
   "source": []
  },
  {
   "cell_type": "code",
   "execution_count": 64,
   "metadata": {},
   "outputs": [
    {
     "data": {
      "text/html": [
       "<div>\n",
       "<style scoped>\n",
       "    .dataframe tbody tr th:only-of-type {\n",
       "        vertical-align: middle;\n",
       "    }\n",
       "\n",
       "    .dataframe tbody tr th {\n",
       "        vertical-align: top;\n",
       "    }\n",
       "\n",
       "    .dataframe thead th {\n",
       "        text-align: right;\n",
       "    }\n",
       "</style>\n",
       "<table border=\"1\" class=\"dataframe\">\n",
       "  <thead>\n",
       "    <tr style=\"text-align: right;\">\n",
       "      <th></th>\n",
       "      <th>ds</th>\n",
       "      <th>trend</th>\n",
       "      <th>yhat_lower</th>\n",
       "      <th>yhat_upper</th>\n",
       "      <th>trend_lower</th>\n",
       "      <th>trend_upper</th>\n",
       "      <th>additive_terms</th>\n",
       "      <th>additive_terms_lower</th>\n",
       "      <th>additive_terms_upper</th>\n",
       "      <th>daily</th>\n",
       "      <th>daily_lower</th>\n",
       "      <th>daily_upper</th>\n",
       "      <th>yearly</th>\n",
       "      <th>yearly_lower</th>\n",
       "      <th>yearly_upper</th>\n",
       "      <th>multiplicative_terms</th>\n",
       "      <th>multiplicative_terms_lower</th>\n",
       "      <th>multiplicative_terms_upper</th>\n",
       "      <th>yhat</th>\n",
       "    </tr>\n",
       "  </thead>\n",
       "  <tbody>\n",
       "    <tr>\n",
       "      <th>0</th>\n",
       "      <td>2017-03-23</td>\n",
       "      <td>10.131133</td>\n",
       "      <td>49.954003</td>\n",
       "      <td>287.267062</td>\n",
       "      <td>10.131133</td>\n",
       "      <td>10.131133</td>\n",
       "      <td>168.861081</td>\n",
       "      <td>168.861081</td>\n",
       "      <td>168.861081</td>\n",
       "      <td>184.484914</td>\n",
       "      <td>184.484914</td>\n",
       "      <td>184.484914</td>\n",
       "      <td>-15.623833</td>\n",
       "      <td>-15.623833</td>\n",
       "      <td>-15.623833</td>\n",
       "      <td>0.0</td>\n",
       "      <td>0.0</td>\n",
       "      <td>0.0</td>\n",
       "      <td>178.992214</td>\n",
       "    </tr>\n",
       "    <tr>\n",
       "      <th>1</th>\n",
       "      <td>2017-04-20</td>\n",
       "      <td>10.075380</td>\n",
       "      <td>763.681433</td>\n",
       "      <td>1018.001274</td>\n",
       "      <td>10.075380</td>\n",
       "      <td>10.075380</td>\n",
       "      <td>880.777692</td>\n",
       "      <td>880.777692</td>\n",
       "      <td>880.777692</td>\n",
       "      <td>184.484914</td>\n",
       "      <td>184.484914</td>\n",
       "      <td>184.484914</td>\n",
       "      <td>696.292779</td>\n",
       "      <td>696.292779</td>\n",
       "      <td>696.292779</td>\n",
       "      <td>0.0</td>\n",
       "      <td>0.0</td>\n",
       "      <td>0.0</td>\n",
       "      <td>890.853072</td>\n",
       "    </tr>\n",
       "    <tr>\n",
       "      <th>2</th>\n",
       "      <td>2017-09-23</td>\n",
       "      <td>9.764572</td>\n",
       "      <td>-40.647534</td>\n",
       "      <td>212.856707</td>\n",
       "      <td>9.764572</td>\n",
       "      <td>9.764572</td>\n",
       "      <td>75.183254</td>\n",
       "      <td>75.183254</td>\n",
       "      <td>75.183254</td>\n",
       "      <td>184.484914</td>\n",
       "      <td>184.484914</td>\n",
       "      <td>184.484914</td>\n",
       "      <td>-109.301660</td>\n",
       "      <td>-109.301660</td>\n",
       "      <td>-109.301660</td>\n",
       "      <td>0.0</td>\n",
       "      <td>0.0</td>\n",
       "      <td>0.0</td>\n",
       "      <td>84.947826</td>\n",
       "    </tr>\n",
       "    <tr>\n",
       "      <th>3</th>\n",
       "      <td>2018-08-23</td>\n",
       "      <td>9.099570</td>\n",
       "      <td>-99.924605</td>\n",
       "      <td>144.451319</td>\n",
       "      <td>9.099570</td>\n",
       "      <td>9.099570</td>\n",
       "      <td>16.838529</td>\n",
       "      <td>16.838529</td>\n",
       "      <td>16.838529</td>\n",
       "      <td>184.484914</td>\n",
       "      <td>184.484914</td>\n",
       "      <td>184.484914</td>\n",
       "      <td>-167.646385</td>\n",
       "      <td>-167.646385</td>\n",
       "      <td>-167.646385</td>\n",
       "      <td>0.0</td>\n",
       "      <td>0.0</td>\n",
       "      <td>0.0</td>\n",
       "      <td>25.938098</td>\n",
       "    </tr>\n",
       "    <tr>\n",
       "      <th>4</th>\n",
       "      <td>2023-02-07</td>\n",
       "      <td>5.856191</td>\n",
       "      <td>-88.043976</td>\n",
       "      <td>163.583506</td>\n",
       "      <td>5.856191</td>\n",
       "      <td>5.856191</td>\n",
       "      <td>35.184406</td>\n",
       "      <td>35.184406</td>\n",
       "      <td>35.184406</td>\n",
       "      <td>184.484914</td>\n",
       "      <td>184.484914</td>\n",
       "      <td>184.484914</td>\n",
       "      <td>-149.300508</td>\n",
       "      <td>-149.300508</td>\n",
       "      <td>-149.300508</td>\n",
       "      <td>0.0</td>\n",
       "      <td>0.0</td>\n",
       "      <td>0.0</td>\n",
       "      <td>41.040596</td>\n",
       "    </tr>\n",
       "  </tbody>\n",
       "</table>\n",
       "</div>"
      ],
      "text/plain": [
       "          ds      trend  yhat_lower   yhat_upper  trend_lower  trend_upper  \\\n",
       "0 2017-03-23  10.131133   49.954003   287.267062    10.131133    10.131133   \n",
       "1 2017-04-20  10.075380  763.681433  1018.001274    10.075380    10.075380   \n",
       "2 2017-09-23   9.764572  -40.647534   212.856707     9.764572     9.764572   \n",
       "3 2018-08-23   9.099570  -99.924605   144.451319     9.099570     9.099570   \n",
       "4 2023-02-07   5.856191  -88.043976   163.583506     5.856191     5.856191   \n",
       "\n",
       "   additive_terms  additive_terms_lower  additive_terms_upper       daily  \\\n",
       "0      168.861081            168.861081            168.861081  184.484914   \n",
       "1      880.777692            880.777692            880.777692  184.484914   \n",
       "2       75.183254             75.183254             75.183254  184.484914   \n",
       "3       16.838529             16.838529             16.838529  184.484914   \n",
       "4       35.184406             35.184406             35.184406  184.484914   \n",
       "\n",
       "   daily_lower  daily_upper      yearly  yearly_lower  yearly_upper  \\\n",
       "0   184.484914   184.484914  -15.623833    -15.623833    -15.623833   \n",
       "1   184.484914   184.484914  696.292779    696.292779    696.292779   \n",
       "2   184.484914   184.484914 -109.301660   -109.301660   -109.301660   \n",
       "3   184.484914   184.484914 -167.646385   -167.646385   -167.646385   \n",
       "4   184.484914   184.484914 -149.300508   -149.300508   -149.300508   \n",
       "\n",
       "   multiplicative_terms  multiplicative_terms_lower  \\\n",
       "0                   0.0                         0.0   \n",
       "1                   0.0                         0.0   \n",
       "2                   0.0                         0.0   \n",
       "3                   0.0                         0.0   \n",
       "4                   0.0                         0.0   \n",
       "\n",
       "   multiplicative_terms_upper        yhat  \n",
       "0                         0.0  178.992214  \n",
       "1                         0.0  890.853072  \n",
       "2                         0.0   84.947826  \n",
       "3                         0.0   25.938098  \n",
       "4                         0.0   41.040596  "
      ]
     },
     "execution_count": 64,
     "metadata": {},
     "output_type": "execute_result"
    }
   ],
   "source": [
    "forecast_prediction = p.predict(future)\n",
    "forecast_prediction.head()"
   ]
  },
  {
   "cell_type": "code",
   "execution_count": 65,
   "metadata": {},
   "outputs": [
    {
     "data": {
      "image/png": "[encoded data removed]",
      "text/plain": [
       "<Figure size 720x432 with 1 Axes>"
      ]
     },
     "metadata": {},
     "output_type": "display_data"
    }
   ],
   "source": [
    "plot1 = p.plot(forecast_prediction)"
   ]
  },
  {
   "cell_type": "code",
   "execution_count": 66,
   "metadata": {},
   "outputs": [
    {
     "data": {
      "image/png": "[encoded data removed]",
      "text/plain": [
       "<Figure size 648x648 with 3 Axes>"
      ]
     },
     "metadata": {},
     "output_type": "display_data"
    }
   ],
   "source": [
    "plot2 = p.plot_components(forecast_prediction)"
   ]
  },
  {
   "cell_type": "code",
   "execution_count": 69,
   "metadata": {},
   "outputs": [
    {
     "data": {
      "text/plain": [
       "(19358.0, 19814.0)"
      ]
     },
     "execution_count": 69,
     "metadata": {},
     "output_type": "execute_result"
    },
    {
     "data": {
      "image/png": "[encoded data removed]",
      "text/plain": [
       "<Figure size 720x432 with 1 Axes>"
      ]
     },
     "metadata": {},
     "output_type": "display_data"
    }
   ],
   "source": [
    "fig = p.plot(forecast_prediction)\n",
    "ax = fig.gca()\n",
    "# setting x limit. date range to plot\n",
    "ax.set_xlim(pd.to_datetime(['2023-01-01', '2024-04-01'])) \n",
    "# ax.set_ylim([0, 700]) "
   ]
  }
 ],
 "metadata": {
  "kernelspec": {
   "display_name": "base",
   "language": "python",
   "name": "python3"
  },
  "language_info": {
   "codemirror_mode": {
    "name": "ipython",
    "version": 3
   },
   "file_extension": ".py",
   "mimetype": "text/x-python",
   "name": "python",
   "nbconvert_exporter": "python",
   "pygments_lexer": "ipython3",
   "version": "3.9.7"
  },
  "orig_nbformat": 4
 },
 "nbformat": 4,
 "nbformat_minor": 2
}
