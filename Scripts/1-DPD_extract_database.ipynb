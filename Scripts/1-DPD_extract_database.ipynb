{
 "cells": [
  {
   "cell_type": "code",
   "execution_count": 15,
   "id": "4c8068dc",
   "metadata": {},
   "outputs": [],
   "source": [
    "import pandas as pd\n",
    "import os\n",
    "import shutil\n",
    "import wget\n",
    "import requests"
   ]
  },
  {
   "cell_type": "code",
   "execution_count": 16,
   "id": "e7e4f0e7",
   "metadata": {},
   "outputs": [],
   "source": [
    "def download_zip_files(url_list):\n",
    "    for url in url_list:\n",
    "        url = url\n",
    "        req = requests.get(url)\n",
    "        filename = url.split('/')[-1]\n",
    "    \n",
    "        with open(filename,'wb') as output_file:\n",
    "            output_file.write(req.content)\n",
    "        print(filename + ' file downloaded')\n"
   ]
  },
  {
   "cell_type": "code",
   "execution_count": 20,
   "id": "b0ea31b4",
   "metadata": {},
   "outputs": [],
   "source": [
    "#Create folders\n",
    "\n",
    "cwd = os.getcwd()\n",
    "#print(cwd)\n",
    "\n",
    "dir = os.path.join(cwd, \"DPD_Files\")\n",
    "if not os.path.exists(dir):\n",
    "    os.mkdir(dir)\n",
    "dir = os.path.join(cwd, \"DPD_Combined_Files\")\n",
    "if not os.path.exists(dir):\n",
    "    os.mkdir(dir)"
   ]
  },
  {
   "cell_type": "code",
   "execution_count": 21,
   "id": "bf892d6d",
   "metadata": {},
   "outputs": [
    {
     "name": "stdout",
     "output_type": "stream",
     "text": [
      "allfiles.zip file downloaded\n",
      "allfiles_ia.zip file downloaded\n",
      "allfiles_ap.zip file downloaded\n",
      "allfiles_dr.zip file downloaded\n"
     ]
    }
   ],
   "source": [
    "url_list = ['https://www.canada.ca/content/dam/hc-sc/documents/services/drug-product-database/allfiles.zip', 'https://www.canada.ca//content/dam/hc-sc/documents/services/drug-product-database/allfiles_ia.zip', 'https://www.canada.ca//content/dam/hc-sc/documents/services/drug-product-database/allfiles_ap.zip', 'https://www.canada.ca//content/dam/hc-sc/documents/services/drug-product-database/allfiles_dr.zip']\n",
    "\n",
    "download_zip_files(url_list)"
   ]
  },
  {
   "cell_type": "code",
   "execution_count": 22,
   "id": "1e7b80c7",
   "metadata": {},
   "outputs": [],
   "source": [
    "#Unzip files\n",
    "\n",
    "shutil.unpack_archive('allfiles.zip', 'DPD_Files')\n",
    "shutil.unpack_archive('allfiles_ap.zip', 'DPD_Files')\n",
    "shutil.unpack_archive('allfiles_dr.zip', 'DPD_Files')\n",
    "shutil.unpack_archive('allfiles_ia.zip', 'DPD_Files')"
   ]
  },
  {
   "cell_type": "code",
   "execution_count": 23,
   "id": "75ded0d1",
   "metadata": {},
   "outputs": [],
   "source": [
    "#Read the drug dataset\n",
    "\n",
    "drug_col =  ['DRUG_CODE', 'PRODUCT_CATEGORIZATION', 'CLASS', 'DRUG_IDENTIFICATION_NUMBER', 'BRAND_NAME', 'DESCRIPTOR', 'PEDIATRIC_FLAG', 'ACCESSION_NUMBER', 'NUMBER_OF_AIS', 'LAST_UPDATE_DATE', 'AI_GROUP_NO', 'CLASS_FFootnote *', 'BRAND_NAME_FFootnote *', 'DESCRIPTOR_FFootnote *']\n",
    "\n",
    "drug = pd.read_csv('DPD_Files/drug.txt', names = drug_col)\n",
    "drug_ap = pd.read_csv('DPD_Files/drug_ap.txt', names = drug_col)\n",
    "drug_dr = pd.read_csv('DPD_Files/drug_dr.txt', names = drug_col)\n",
    "drug_ia = pd.read_csv('DPD_Files/drug_ia.txt', names = drug_col)"
   ]
  },
  {
   "cell_type": "code",
   "execution_count": 24,
   "id": "b770bfac",
   "metadata": {},
   "outputs": [],
   "source": [
    "#Concatenate the drug datasets\n",
    "\n",
    "drug = [drug, drug_ap, drug_dr, drug_ia]\n",
    "drug = pd.concat(drug)\n",
    "\n",
    "drug.to_csv('DPD_Combined_Files/drug.csv', index = False)"
   ]
  },
  {
   "cell_type": "code",
   "execution_count": 25,
   "id": "b45e20f3",
   "metadata": {},
   "outputs": [],
   "source": [
    "#Read the ingredient dataset\n",
    "\n",
    "ingred_col = ['DRUG_CODE', 'ACTIVE_INGREDIENT_CODE', 'INGREDIENT', 'INGREDIENT_SUPPLIED_IND', 'STRENGTH', 'STRENGTH_UNIT', 'STRENGTH_TYPE', 'DOSAGE_VALUE', 'BASE', 'DOSAGE_UNIT', 'NOTES', 'INGREDIENT_FFootnote*', 'STRENGTH_UNIT_FFootnote*', 'STRENGTH_TYPE_FFootnote*', 'DOSAGE_UNIT_FFootnote*']\n",
    "\n",
    "ingred = pd.read_csv('DPD_Files/ingred.txt', names = ingred_col)\n",
    "ingred_ap = pd.read_csv('DPD_Files/ingred_ap.txt', names = ingred_col)\n",
    "ingred_dr = pd.read_csv('DPD_Files/ingred_dr.txt', names = ingred_col)\n",
    "ingred_ia = pd.read_csv('DPD_Files/ingred_ia.txt', names = ingred_col)"
   ]
  },
  {
   "cell_type": "code",
   "execution_count": 26,
   "id": "21d2e4f5",
   "metadata": {},
   "outputs": [],
   "source": [
    "#Concatenate the ingredient datasets\n",
    "\n",
    "ingred = [ingred, ingred_ap, ingred_dr, ingred_ia]\n",
    "ingred = pd.concat(ingred)\n",
    "\n",
    "ingred.to_csv('DPD_Combined_Files/ingred.csv', index = False)"
   ]
  },
  {
   "cell_type": "code",
   "execution_count": 27,
   "id": "59c0fa87",
   "metadata": {},
   "outputs": [],
   "source": [
    "#Read the company dataset\n",
    "\n",
    "comp_col = ['DRUG_CODE', 'MFR_CODE', 'COMPANY_CODE', 'COMPANY_NAME', 'COMPANY_TYPE', 'ADDRESS_MAILING_FLAG', 'ADDRESS_BILLING_FLAG', 'ADDRESS_NOTIFICATION_FLAG', 'ADDRESS_OTHER', 'SUITE_NUMBER', 'STREET_NAME', 'CITY_NAME', 'PROVINCE', 'COUNTRY', 'POSTAL_CODE', 'POST_OFFICE_BOX', 'PROVINCE_FFootnote*', 'COUNTRY_FFootnote*']\n",
    "\n",
    "comp = pd.read_csv('DPD_Files/comp.txt', names = comp_col)\n",
    "comp_ap = pd.read_csv('DPD_Files/comp_ap.txt', names = comp_col)\n",
    "comp_dr = pd.read_csv('DPD_Files/comp_dr.txt', names = comp_col)\n",
    "comp_ia = pd.read_csv('DPD_Files/comp_ia.txt', names = comp_col)"
   ]
  },
  {
   "cell_type": "code",
   "execution_count": 28,
   "id": "89e91ac1",
   "metadata": {},
   "outputs": [],
   "source": [
    "#Concatenate the company datasets\n",
    "\n",
    "company = [comp, comp_ap, comp_dr, comp_ia]\n",
    "company = pd.concat(company)\n",
    "\n",
    "company.to_csv('DPD_Combined_Files/company.csv', index = False)"
   ]
  },
  {
   "cell_type": "code",
   "execution_count": 29,
   "id": "22e9f42e",
   "metadata": {},
   "outputs": [],
   "source": [
    "#Read the status dataset\n",
    "\n",
    "status_col = ['DRUG_CODE', 'CURRENT_STATUS_FLAG', 'STATUS', 'HISTORY_DATE', 'STATUS_FFootnote*', 'LOT_NUMBERFootnote*', 'EXPIRATION_DATEFootnote*']\n",
    "\n",
    "status = pd.read_csv('DPD_Files/status.txt', names = status_col)\n",
    "status_ap = pd.read_csv('DPD_Files/status_ap.txt', names = status_col)\n",
    "status_dr = pd.read_csv('DPD_Files/status_dr.txt', names = status_col)\n",
    "status_ia = pd.read_csv('DPD_Files/status_ia.txt', names = status_col)"
   ]
  },
  {
   "cell_type": "code",
   "execution_count": 30,
   "id": "4ffe711b",
   "metadata": {},
   "outputs": [],
   "source": [
    "#Concatenate the status datasets\n",
    "\n",
    "status = [status, status_ap, status_dr, status_ia]\n",
    "status = pd.concat(status)\n",
    "\n",
    "status.to_csv('DPD_Combined_Files/status.csv', index = False)"
   ]
  },
  {
   "cell_type": "code",
   "execution_count": 31,
   "id": "4e223a53",
   "metadata": {},
   "outputs": [],
   "source": [
    "#Read the company dataset\n",
    "\n",
    "form_col = ['DRUG_CODE', 'PHARM_FORM_CODE', 'PHARMACEUTICAL_FORM', 'PHARMACEUTICAL_FORM_FFootnote*']\n",
    "\n",
    "form = pd.read_csv('DPD_Files/form.txt', names = form_col)\n",
    "form_ap = pd.read_csv('DPD_Files/form_ap.txt', names = form_col)\n",
    "form_dr = pd.read_csv('DPD_Files/form_dr.txt', names = form_col)\n",
    "form_ia = pd.read_csv('DPD_Files/form_ia.txt', names = form_col)"
   ]
  },
  {
   "cell_type": "code",
   "execution_count": 32,
   "id": "93c788b7",
   "metadata": {},
   "outputs": [],
   "source": [
    "#Concatenate the status datasets\n",
    "\n",
    "form = [form, form_ap, form_dr, form_ia]\n",
    "form = pd.concat(form)\n",
    "\n",
    "form.to_csv('DPD_Combined_Files/form.csv', index = False)"
   ]
  },
  {
   "cell_type": "code",
   "execution_count": 33,
   "id": "8e6940c4",
   "metadata": {},
   "outputs": [],
   "source": [
    "#Read the company dataset\n",
    "\n",
    "schedule_col = ['DRUG_CODE', 'SCHEDULE', 'SCHEDULE_FFootnote*']\n",
    "\n",
    "schedule = pd.read_csv('DPD_Files/schedule.txt', names = schedule_col)\n",
    "schedule_ap = pd.read_csv('DPD_Files/schedule_ap.txt', names = schedule_col)\n",
    "schedule_dr = pd.read_csv('DPD_Files/schedule_dr.txt', names = schedule_col)\n",
    "schedule_ia = pd.read_csv('DPD_Files/schedule_ia.txt', names = schedule_col)"
   ]
  },
  {
   "cell_type": "code",
   "execution_count": 34,
   "id": "a512a2ca",
   "metadata": {},
   "outputs": [],
   "source": [
    "#Concatenate the status datasets\n",
    "\n",
    "schedule = [schedule, schedule_ap, schedule_dr, schedule_ia]\n",
    "schedule = pd.concat(schedule)\n",
    "\n",
    "schedule.to_csv('DPD_Combined_Files/schedule.csv', index = False)"
   ]
  },
  {
   "cell_type": "code",
   "execution_count": 35,
   "id": "187494f3",
   "metadata": {},
   "outputs": [],
   "source": [
    "#Read the company dataset\n",
    "\n",
    "ther_col =  ['DRUG_CODE','TC_ATC_NUMBER', 'TC_ATC', 'TC_AHFS_NUMBER']\n",
    "\n",
    "ther = pd.read_csv('DPD_Files/ther.txt', names = ther_col)\n",
    "ther_ap = pd.read_csv('DPD_Files/ther_ap.txt', names = ther_col)\n",
    "ther_dr = pd.read_csv('DPD_Files/ther_dr.txt', names = ther_col)\n",
    "ther_ia = pd.read_csv('DPD_Files/ther_ia.txt', names = ther_col)"
   ]
  },
  {
   "cell_type": "code",
   "execution_count": 36,
   "id": "ef29f8c1",
   "metadata": {},
   "outputs": [],
   "source": [
    "#Concatenate the status datasets\n",
    "\n",
    "ther = [ther, ther_ap, ther_dr, ther_ia]\n",
    "ther = pd.concat(ther)\n",
    "\n",
    "ther.to_csv('DPD_Combined_Files/ther.csv', index = False)"
   ]
  },
  {
   "cell_type": "code",
   "execution_count": 37,
   "id": "92abd732",
   "metadata": {},
   "outputs": [],
   "source": [
    "#Read the company dataset\n",
    "\n",
    "route_col = ['DRUG_CODE', 'ROUTE_OF_ADMINISTRATION_CODE', 'ROUTE_OF_ADMINISTRATION', 'ROUTE_OF_ADMINISTRATION_FFootnote*']\n",
    "\n",
    "route = pd.read_csv('DPD_Files/route.txt', names = route_col)\n",
    "route_ap = pd.read_csv('DPD_Files/route_ap.txt', names = route_col)\n",
    "route_dr = pd.read_csv('DPD_Files/route_dr.txt', names = route_col)\n",
    "route_ia = pd.read_csv('DPD_Files/route_ia.txt', names = route_col)"
   ]
  },
  {
   "cell_type": "code",
   "execution_count": 38,
   "id": "8770898e",
   "metadata": {},
   "outputs": [],
   "source": [
    "#Concatenate the status datasets\n",
    "\n",
    "route = [route, route_ap, route_dr, route_ia]\n",
    "route = pd.concat(route)\n",
    "\n",
    "route.to_csv('DPD_Combined_Files/route.csv', index = False)"
   ]
  }
 ],
 "metadata": {
  "hide_input": false,
  "kernelspec": {
   "display_name": "Python 3",
   "language": "python",
   "name": "python3"
  },
  "language_info": {
   "codemirror_mode": {
    "name": "ipython",
    "version": 3
   },
   "file_extension": ".py",
   "mimetype": "text/x-python",
   "name": "python",
   "nbconvert_exporter": "python",
   "pygments_lexer": "ipython3",
   "version": "3.9.7"
  },
  "varInspector": {
   "cols": {
    "lenName": 16,
    "lenType": 16,
    "lenVar": 40
   },
   "kernels_config": {
    "python": {
     "delete_cmd_postfix": "",
     "delete_cmd_prefix": "del ",
     "library": "var_list.py",
     "varRefreshCmd": "print(var_dic_list())"
    },
    "r": {
     "delete_cmd_postfix": ") ",
     "delete_cmd_prefix": "rm(",
     "library": "var_list.r",
     "varRefreshCmd": "cat(var_dic_list()) "
    }
   },
   "types_to_exclude": [
    "module",
    "function",
    "builtin_function_or_method",
    "instance",
    "_Feature"
   ],
   "window_display": false
  }
 },
 "nbformat": 4,
 "nbformat_minor": 5
}
