{
 "cells": [
  {
   "cell_type": "markdown",
   "metadata": {
    "id": "K9lewkdGChf2"
   },
   "source": [
    "# Attempt 1"
   ]
  },
  {
   "cell_type": "code",
   "execution_count": 9,
   "metadata": {
    "id": "VXrkG3GO93_t"
   },
   "outputs": [],
   "source": [
    "%matplotlib inline\n",
    "import numpy as np \n",
    "import pandas as pd\n",
    "import matplotlib.pyplot as plt\n",
    "import datetime\n",
    "from tabulate import tabulate\n",
    "import warnings\n",
    "warnings.filterwarnings('ignore')\n",
    "import pandas_datareader.data as web\n",
    "import datetime as dt\n",
    "from pandas_datareader import data as pdr\n",
    "import yfinance as yfin\n",
    "yfin.pdr_override()\n",
    "from tabulate import tabulate\n",
    "from statsmodels.tsa.arima.model import ARIMA\n",
    "from statsmodels.graphics.tsaplots import plot_acf, plot_pacf\n",
    "from sklearn.metrics import mean_squared_error, mean_absolute_error\n",
    "from statsmodels.tsa.stattools import adfuller"
   ]
  },
  {
   "cell_type": "code",
   "execution_count": 10,
   "metadata": {
    "id": "6Eyi6KHW9-ho"
   },
   "outputs": [],
   "source": [
    "df = pd.read_csv('/content/combined_data.csv')"
   ]
  },
  {
   "cell_type": "code",
   "execution_count": 3,
   "metadata": {
    "colab": {
     "base_uri": "https://localhost:8080/",
     "height": 582
    },
    "id": "XJnz3Oye-IF1",
    "outputId": "e46d8bd4-d417-463e-ef19-9574d942169d"
   },
   "outputs": [
    {
     "data": {
      "text/html": [
       "\n",
       "  <div id=\"df-d4ff0110-d961-4e5c-aeda-ba39af337119\">\n",
       "    <div class=\"colab-df-container\">\n",
       "      <div>\n",
       "<style scoped>\n",
       "    .dataframe tbody tr th:only-of-type {\n",
       "        vertical-align: middle;\n",
       "    }\n",
       "\n",
       "    .dataframe tbody tr th {\n",
       "        vertical-align: top;\n",
       "    }\n",
       "\n",
       "    .dataframe thead th {\n",
       "        text-align: right;\n",
       "    }\n",
       "</style>\n",
       "<table border=\"1\" class=\"dataframe\">\n",
       "  <thead>\n",
       "    <tr style=\"text-align: right;\">\n",
       "      <th></th>\n",
       "      <th>file_name</th>\n",
       "      <th>report_id</th>\n",
       "      <th>drug_identification_number</th>\n",
       "      <th>brand_name</th>\n",
       "      <th>company_name</th>\n",
       "      <th>common_or_proper_name</th>\n",
       "      <th>ingredients</th>\n",
       "      <th>strength_s</th>\n",
       "      <th>packaging_size</th>\n",
       "      <th>actual_start_date</th>\n",
       "      <th>actual_end_date</th>\n",
       "    </tr>\n",
       "  </thead>\n",
       "  <tbody>\n",
       "    <tr>\n",
       "      <th>0</th>\n",
       "      <td>2017_Canada_Shortage.xlsx</td>\n",
       "      <td>28240</td>\n",
       "      <td>1963937.0</td>\n",
       "      <td>0.9% SODIUM CHLORIDE IRRIGATION USP</td>\n",
       "      <td>B. BRAUN MEDICAL INC</td>\n",
       "      <td>Sodium Chloride</td>\n",
       "      <td>SODIUM CHLORIDE</td>\n",
       "      <td>8.9999999999999993E-3</td>\n",
       "      <td>500mL, 1000mL, 2000mL, 4000mL</td>\n",
       "      <td>2017-11-03T00:00:00Z</td>\n",
       "      <td>NaN</td>\n",
       "    </tr>\n",
       "    <tr>\n",
       "      <th>1</th>\n",
       "      <td>2017_Canada_Shortage.xlsx</td>\n",
       "      <td>24792</td>\n",
       "      <td>2141450.0</td>\n",
       "      <td>20% PROSOL</td>\n",
       "      <td>BAXTER CORPORATION</td>\n",
       "      <td>20% PROSOL</td>\n",
       "      <td>PHENYLALANINE\\r HISTIDINE\\r TRYPTOPHAN\\r LEUCI...</td>\n",
       "      <td>1G\\r 1.18G\\r 0.32G\\r 1.08G\\r 1.96G\\r 0.98G\\r 2...</td>\n",
       "      <td>2000 mL</td>\n",
       "      <td>2017-11-15T00:00:00Z</td>\n",
       "      <td>2017-11-21T00:00:00Z</td>\n",
       "    </tr>\n",
       "    <tr>\n",
       "      <th>2</th>\n",
       "      <td>2017_Canada_Shortage.xlsx</td>\n",
       "      <td>27274</td>\n",
       "      <td>2248489.0</td>\n",
       "      <td>4% ASTRACAINE DENTAL WITH EPINEPHRINE 1:200,00...</td>\n",
       "      <td>DENTSPLY CANADA LIMITED</td>\n",
       "      <td>Articaine Hydrochloride 40 mg/mL and Epinephri...</td>\n",
       "      <td>ARTICAINE HYDROCHLORIDE\\r EPINEPHRINE</td>\n",
       "      <td>40MG\\r 0.005MG</td>\n",
       "      <td>100 1.8 mL cartridges/box</td>\n",
       "      <td>2018-03-01T00:00:00Z</td>\n",
       "      <td>2018-03-29T00:00:00Z</td>\n",
       "    </tr>\n",
       "    <tr>\n",
       "      <th>3</th>\n",
       "      <td>2017_Canada_Shortage.xlsx</td>\n",
       "      <td>26870</td>\n",
       "      <td>2299135.0</td>\n",
       "      <td>40 (MEQ)MMOL/L POTASSIUM CHLORIDE PLUS 5% DEXT...</td>\n",
       "      <td>HOSPIRA HEALTHCARE CORPORATION</td>\n",
       "      <td>Potassium Chloride in 5% Dextrose and 0.9% Sod...</td>\n",
       "      <td>DEXTROSE\\r POTASSIUM CHLORIDE\\r SODIUM CHLORIDE</td>\n",
       "      <td>5.0G\\r 0.3G\\r 0.9G</td>\n",
       "      <td>1000ML</td>\n",
       "      <td>NaN</td>\n",
       "      <td>2017-11-30T00:00:00Z</td>\n",
       "    </tr>\n",
       "    <tr>\n",
       "      <th>4</th>\n",
       "      <td>2017_Canada_Shortage.xlsx</td>\n",
       "      <td>30198</td>\n",
       "      <td>37974.0</td>\n",
       "      <td>50% DEXTROSE INJECTION USP</td>\n",
       "      <td>HOSPIRA HEALTHCARE CORPORATION</td>\n",
       "      <td>50% DEXTROSE</td>\n",
       "      <td>DEXTROSE</td>\n",
       "      <td>500MG</td>\n",
       "      <td>25x50mL GVL</td>\n",
       "      <td>2018-01-19T00:00:00Z</td>\n",
       "      <td>2018-03-02T00:00:00Z</td>\n",
       "    </tr>\n",
       "  </tbody>\n",
       "</table>\n",
       "</div>\n",
       "      <button class=\"colab-df-convert\" onclick=\"convertToInteractive('df-d4ff0110-d961-4e5c-aeda-ba39af337119')\"\n",
       "              title=\"Convert this dataframe to an interactive table.\"\n",
       "              style=\"display:none;\">\n",
       "        \n",
       "  <svg xmlns=\"http://www.w3.org/2000/svg\" height=\"24px\"viewBox=\"0 0 24 24\"\n",
       "       width=\"24px\">\n",
       "    <path d=\"M0 0h24v24H0V0z\" fill=\"none\"/>\n",
       "    <path d=\"M18.56 5.44l.94 2.06.94-2.06 2.06-.94-2.06-.94-.94-2.06-.94 2.06-2.06.94zm-11 1L8.5 8.5l.94-2.06 2.06-.94-2.06-.94L8.5 2.5l-.94 2.06-2.06.94zm10 10l.94 2.06.94-2.06 2.06-.94-2.06-.94-.94-2.06-.94 2.06-2.06.94z\"/><path d=\"M17.41 7.96l-1.37-1.37c-.4-.4-.92-.59-1.43-.59-.52 0-1.04.2-1.43.59L10.3 9.45l-7.72 7.72c-.78.78-.78 2.05 0 2.83L4 21.41c.39.39.9.59 1.41.59.51 0 1.02-.2 1.41-.59l7.78-7.78 2.81-2.81c.8-.78.8-2.07 0-2.86zM5.41 20L4 18.59l7.72-7.72 1.47 1.35L5.41 20z\"/>\n",
       "  </svg>\n",
       "      </button>\n",
       "      \n",
       "  <style>\n",
       "    .colab-df-container {\n",
       "      display:flex;\n",
       "      flex-wrap:wrap;\n",
       "      gap: 12px;\n",
       "    }\n",
       "\n",
       "    .colab-df-convert {\n",
       "      background-color: #E8F0FE;\n",
       "      border: none;\n",
       "      border-radius: 50%;\n",
       "      cursor: pointer;\n",
       "      display: none;\n",
       "      fill: #1967D2;\n",
       "      height: 32px;\n",
       "      padding: 0 0 0 0;\n",
       "      width: 32px;\n",
       "    }\n",
       "\n",
       "    .colab-df-convert:hover {\n",
       "      background-color: #E2EBFA;\n",
       "      box-shadow: 0px 1px 2px rgba(60, 64, 67, 0.3), 0px 1px 3px 1px rgba(60, 64, 67, 0.15);\n",
       "      fill: #174EA6;\n",
       "    }\n",
       "\n",
       "    [theme=dark] .colab-df-convert {\n",
       "      background-color: #3B4455;\n",
       "      fill: #D2E3FC;\n",
       "    }\n",
       "\n",
       "    [theme=dark] .colab-df-convert:hover {\n",
       "      background-color: #434B5C;\n",
       "      box-shadow: 0px 1px 3px 1px rgba(0, 0, 0, 0.15);\n",
       "      filter: drop-shadow(0px 1px 2px rgba(0, 0, 0, 0.3));\n",
       "      fill: #FFFFFF;\n",
       "    }\n",
       "  </style>\n",
       "\n",
       "      <script>\n",
       "        const buttonEl =\n",
       "          document.querySelector('#df-d4ff0110-d961-4e5c-aeda-ba39af337119 button.colab-df-convert');\n",
       "        buttonEl.style.display =\n",
       "          google.colab.kernel.accessAllowed ? 'block' : 'none';\n",
       "\n",
       "        async function convertToInteractive(key) {\n",
       "          const element = document.querySelector('#df-d4ff0110-d961-4e5c-aeda-ba39af337119');\n",
       "          const dataTable =\n",
       "            await google.colab.kernel.invokeFunction('convertToInteractive',\n",
       "                                                     [key], {});\n",
       "          if (!dataTable) return;\n",
       "\n",
       "          const docLinkHtml = 'Like what you see? Visit the ' +\n",
       "            '<a target=\"_blank\" href=https://colab.research.google.com/notebooks/data_table.ipynb>data table notebook</a>'\n",
       "            + ' to learn more about interactive tables.';\n",
       "          element.innerHTML = '';\n",
       "          dataTable['output_type'] = 'display_data';\n",
       "          await google.colab.output.renderOutput(dataTable, element);\n",
       "          const docLink = document.createElement('div');\n",
       "          docLink.innerHTML = docLinkHtml;\n",
       "          element.appendChild(docLink);\n",
       "        }\n",
       "      </script>\n",
       "    </div>\n",
       "  </div>\n",
       "  "
      ],
      "text/plain": [
       "                   file_name  report_id  drug_identification_number  \\\n",
       "0  2017_Canada_Shortage.xlsx      28240                   1963937.0   \n",
       "1  2017_Canada_Shortage.xlsx      24792                   2141450.0   \n",
       "2  2017_Canada_Shortage.xlsx      27274                   2248489.0   \n",
       "3  2017_Canada_Shortage.xlsx      26870                   2299135.0   \n",
       "4  2017_Canada_Shortage.xlsx      30198                     37974.0   \n",
       "\n",
       "                                          brand_name  \\\n",
       "0                0.9% SODIUM CHLORIDE IRRIGATION USP   \n",
       "1                                         20% PROSOL   \n",
       "2  4% ASTRACAINE DENTAL WITH EPINEPHRINE 1:200,00...   \n",
       "3  40 (MEQ)MMOL/L POTASSIUM CHLORIDE PLUS 5% DEXT...   \n",
       "4                         50% DEXTROSE INJECTION USP   \n",
       "\n",
       "                     company_name  \\\n",
       "0            B. BRAUN MEDICAL INC   \n",
       "1              BAXTER CORPORATION   \n",
       "2         DENTSPLY CANADA LIMITED   \n",
       "3  HOSPIRA HEALTHCARE CORPORATION   \n",
       "4  HOSPIRA HEALTHCARE CORPORATION   \n",
       "\n",
       "                               common_or_proper_name  \\\n",
       "0                                    Sodium Chloride   \n",
       "1                                         20% PROSOL   \n",
       "2  Articaine Hydrochloride 40 mg/mL and Epinephri...   \n",
       "3  Potassium Chloride in 5% Dextrose and 0.9% Sod...   \n",
       "4                                       50% DEXTROSE   \n",
       "\n",
       "                                         ingredients  \\\n",
       "0                                    SODIUM CHLORIDE   \n",
       "1  PHENYLALANINE\\r HISTIDINE\\r TRYPTOPHAN\\r LEUCI...   \n",
       "2              ARTICAINE HYDROCHLORIDE\\r EPINEPHRINE   \n",
       "3    DEXTROSE\\r POTASSIUM CHLORIDE\\r SODIUM CHLORIDE   \n",
       "4                                           DEXTROSE   \n",
       "\n",
       "                                          strength_s  \\\n",
       "0                              8.9999999999999993E-3   \n",
       "1  1G\\r 1.18G\\r 0.32G\\r 1.08G\\r 1.96G\\r 0.98G\\r 2...   \n",
       "2                                     40MG\\r 0.005MG   \n",
       "3                                 5.0G\\r 0.3G\\r 0.9G   \n",
       "4                                              500MG   \n",
       "\n",
       "                  packaging_size     actual_start_date       actual_end_date  \n",
       "0  500mL, 1000mL, 2000mL, 4000mL  2017-11-03T00:00:00Z                   NaN  \n",
       "1                        2000 mL  2017-11-15T00:00:00Z  2017-11-21T00:00:00Z  \n",
       "2      100 1.8 mL cartridges/box  2018-03-01T00:00:00Z  2018-03-29T00:00:00Z  \n",
       "3                         1000ML                   NaN  2017-11-30T00:00:00Z  \n",
       "4                    25x50mL GVL  2018-01-19T00:00:00Z  2018-03-02T00:00:00Z  "
      ]
     },
     "execution_count": 3,
     "metadata": {},
     "output_type": "execute_result"
    }
   ],
   "source": [
    "df.head()"
   ]
  },
  {
   "cell_type": "code",
   "execution_count": 11,
   "metadata": {
    "colab": {
     "base_uri": "https://localhost:8080/"
    },
    "id": "EyFegYvw_z3Y",
    "outputId": "a9a24fa3-1310-422a-e942-b9cc4006f142"
   },
   "outputs": [
    {
     "data": {
      "text/plain": [
       "file_name                      object\n",
       "report_id                       int64\n",
       "drug_identification_number    float64\n",
       "brand_name                     object\n",
       "company_name                   object\n",
       "common_or_proper_name          object\n",
       "ingredients                    object\n",
       "strength_s                     object\n",
       "packaging_size                 object\n",
       "actual_start_date              object\n",
       "actual_end_date                object\n",
       "dtype: object"
      ]
     },
     "execution_count": 11,
     "metadata": {},
     "output_type": "execute_result"
    }
   ],
   "source": [
    "df.dtypes"
   ]
  },
  {
   "cell_type": "code",
   "execution_count": 12,
   "metadata": {
    "id": "ZJwxHKNG_4cC"
   },
   "outputs": [],
   "source": [
    "df['actual_start_date'] = df['actual_start_date'].astype('datetime64[D]')"
   ]
  },
  {
   "cell_type": "code",
   "execution_count": 13,
   "metadata": {
    "id": "K7fcgwrI_8Z8"
   },
   "outputs": [],
   "source": [
    "df['actual_end_date'] = df['actual_end_date'].astype('datetime64[D]')"
   ]
  },
  {
   "cell_type": "code",
   "execution_count": 14,
   "metadata": {
    "id": "M5Xd6KJN_-21"
   },
   "outputs": [],
   "source": [
    "df['drug_identification_number'] = df['drug_identification_number'].fillna(0)\n",
    "df['drug_identification_number'] = df['drug_identification_number'].astype('int')"
   ]
  },
  {
   "cell_type": "code",
   "execution_count": 15,
   "metadata": {
    "colab": {
     "base_uri": "https://localhost:8080/"
    },
    "id": "YwKzegBuABrX",
    "outputId": "a6eda324-16e5-4d86-f5a1-6a4fd9355907"
   },
   "outputs": [
    {
     "data": {
      "text/plain": [
       "file_name                             object\n",
       "report_id                              int64\n",
       "drug_identification_number             int64\n",
       "brand_name                            object\n",
       "company_name                          object\n",
       "common_or_proper_name                 object\n",
       "ingredients                           object\n",
       "strength_s                            object\n",
       "packaging_size                        object\n",
       "actual_start_date             datetime64[ns]\n",
       "actual_end_date               datetime64[ns]\n",
       "dtype: object"
      ]
     },
     "execution_count": 15,
     "metadata": {},
     "output_type": "execute_result"
    }
   ],
   "source": [
    "df.dtypes"
   ]
  },
  {
   "cell_type": "code",
   "execution_count": 16,
   "metadata": {
    "id": "CHYa-tYe-I_5"
   },
   "outputs": [],
   "source": [
    "df.dropna(inplace=True)"
   ]
  },
  {
   "cell_type": "code",
   "execution_count": 17,
   "metadata": {
    "id": "qv9bhsrT-O-F"
   },
   "outputs": [],
   "source": [
    "df=df.drop_duplicates(\"report_id\", keep=False)"
   ]
  },
  {
   "cell_type": "code",
   "execution_count": 18,
   "metadata": {
    "id": "QyQ785TNAOvp"
   },
   "outputs": [],
   "source": [
    "df['Days']= df['actual_end_date'] - df['actual_start_date']"
   ]
  },
  {
   "cell_type": "code",
   "execution_count": 19,
   "metadata": {
    "id": "4VdlpGo7ATND"
   },
   "outputs": [],
   "source": [
    "df['Days2'] = df['Days'].dt.days\n",
    "df['Days2']=df['Days2'].astype('int')"
   ]
  },
  {
   "cell_type": "code",
   "execution_count": 20,
   "metadata": {
    "id": "p2PB9qurAWif"
   },
   "outputs": [],
   "source": [
    "df['file_name'] = df['file_name'].str[0:4]"
   ]
  },
  {
   "cell_type": "code",
   "execution_count": 21,
   "metadata": {
    "id": "9ZbDGiyaAaye"
   },
   "outputs": [],
   "source": [
    "df.to_csv(\"data.csv\", index=False)"
   ]
  },
  {
   "cell_type": "code",
   "execution_count": 22,
   "metadata": {
    "colab": {
     "base_uri": "https://localhost:8080/"
    },
    "id": "9Pj6moG5Ad9e",
    "outputId": "7f77eeec-5e12-4e8f-a3f5-b526c11d0f7e"
   },
   "outputs": [
    {
     "data": {
      "text/plain": [
       "0    717002\n",
       "Name: drug_identification_number, dtype: int64"
      ]
     },
     "execution_count": 22,
     "metadata": {},
     "output_type": "execute_result"
    }
   ],
   "source": [
    "din = df['drug_identification_number'].mode()\n",
    "din"
   ]
  },
  {
   "cell_type": "code",
   "execution_count": 23,
   "metadata": {
    "id": "PMbd25D9AhjT"
   },
   "outputs": [],
   "source": [
    "col_list = ['actual_start_date', 'Days2']\n",
    "df2 = df[col_list]\n",
    "df2 = df2.loc[(df['actual_start_date'] >= '2017-01-01')]"
   ]
  },
  {
   "cell_type": "code",
   "execution_count": 24,
   "metadata": {
    "colab": {
     "base_uri": "https://localhost:8080/",
     "height": 206
    },
    "id": "gVnIODZCAlu-",
    "outputId": "e5783c49-8d57-4fa3-e3cc-19de0b55377f"
   },
   "outputs": [
    {
     "data": {
      "text/html": [
       "\n",
       "  <div id=\"df-3df881d5-b35e-4590-a3c8-9c907aaca973\">\n",
       "    <div class=\"colab-df-container\">\n",
       "      <div>\n",
       "<style scoped>\n",
       "    .dataframe tbody tr th:only-of-type {\n",
       "        vertical-align: middle;\n",
       "    }\n",
       "\n",
       "    .dataframe tbody tr th {\n",
       "        vertical-align: top;\n",
       "    }\n",
       "\n",
       "    .dataframe thead th {\n",
       "        text-align: right;\n",
       "    }\n",
       "</style>\n",
       "<table border=\"1\" class=\"dataframe\">\n",
       "  <thead>\n",
       "    <tr style=\"text-align: right;\">\n",
       "      <th></th>\n",
       "      <th>actual_start_date</th>\n",
       "      <th>Days2</th>\n",
       "    </tr>\n",
       "  </thead>\n",
       "  <tbody>\n",
       "    <tr>\n",
       "      <th>1</th>\n",
       "      <td>2017-11-15</td>\n",
       "      <td>6</td>\n",
       "    </tr>\n",
       "    <tr>\n",
       "      <th>2</th>\n",
       "      <td>2018-03-01</td>\n",
       "      <td>28</td>\n",
       "    </tr>\n",
       "    <tr>\n",
       "      <th>4</th>\n",
       "      <td>2018-01-19</td>\n",
       "      <td>42</td>\n",
       "    </tr>\n",
       "    <tr>\n",
       "      <th>6</th>\n",
       "      <td>2017-11-17</td>\n",
       "      <td>122</td>\n",
       "    </tr>\n",
       "    <tr>\n",
       "      <th>8</th>\n",
       "      <td>2017-09-13</td>\n",
       "      <td>428</td>\n",
       "    </tr>\n",
       "  </tbody>\n",
       "</table>\n",
       "</div>\n",
       "      <button class=\"colab-df-convert\" onclick=\"convertToInteractive('df-3df881d5-b35e-4590-a3c8-9c907aaca973')\"\n",
       "              title=\"Convert this dataframe to an interactive table.\"\n",
       "              style=\"display:none;\">\n",
       "        \n",
       "  <svg xmlns=\"http://www.w3.org/2000/svg\" height=\"24px\"viewBox=\"0 0 24 24\"\n",
       "       width=\"24px\">\n",
       "    <path d=\"M0 0h24v24H0V0z\" fill=\"none\"/>\n",
       "    <path d=\"M18.56 5.44l.94 2.06.94-2.06 2.06-.94-2.06-.94-.94-2.06-.94 2.06-2.06.94zm-11 1L8.5 8.5l.94-2.06 2.06-.94-2.06-.94L8.5 2.5l-.94 2.06-2.06.94zm10 10l.94 2.06.94-2.06 2.06-.94-2.06-.94-.94-2.06-.94 2.06-2.06.94z\"/><path d=\"M17.41 7.96l-1.37-1.37c-.4-.4-.92-.59-1.43-.59-.52 0-1.04.2-1.43.59L10.3 9.45l-7.72 7.72c-.78.78-.78 2.05 0 2.83L4 21.41c.39.39.9.59 1.41.59.51 0 1.02-.2 1.41-.59l7.78-7.78 2.81-2.81c.8-.78.8-2.07 0-2.86zM5.41 20L4 18.59l7.72-7.72 1.47 1.35L5.41 20z\"/>\n",
       "  </svg>\n",
       "      </button>\n",
       "      \n",
       "  <style>\n",
       "    .colab-df-container {\n",
       "      display:flex;\n",
       "      flex-wrap:wrap;\n",
       "      gap: 12px;\n",
       "    }\n",
       "\n",
       "    .colab-df-convert {\n",
       "      background-color: #E8F0FE;\n",
       "      border: none;\n",
       "      border-radius: 50%;\n",
       "      cursor: pointer;\n",
       "      display: none;\n",
       "      fill: #1967D2;\n",
       "      height: 32px;\n",
       "      padding: 0 0 0 0;\n",
       "      width: 32px;\n",
       "    }\n",
       "\n",
       "    .colab-df-convert:hover {\n",
       "      background-color: #E2EBFA;\n",
       "      box-shadow: 0px 1px 2px rgba(60, 64, 67, 0.3), 0px 1px 3px 1px rgba(60, 64, 67, 0.15);\n",
       "      fill: #174EA6;\n",
       "    }\n",
       "\n",
       "    [theme=dark] .colab-df-convert {\n",
       "      background-color: #3B4455;\n",
       "      fill: #D2E3FC;\n",
       "    }\n",
       "\n",
       "    [theme=dark] .colab-df-convert:hover {\n",
       "      background-color: #434B5C;\n",
       "      box-shadow: 0px 1px 3px 1px rgba(0, 0, 0, 0.15);\n",
       "      filter: drop-shadow(0px 1px 2px rgba(0, 0, 0, 0.3));\n",
       "      fill: #FFFFFF;\n",
       "    }\n",
       "  </style>\n",
       "\n",
       "      <script>\n",
       "        const buttonEl =\n",
       "          document.querySelector('#df-3df881d5-b35e-4590-a3c8-9c907aaca973 button.colab-df-convert');\n",
       "        buttonEl.style.display =\n",
       "          google.colab.kernel.accessAllowed ? 'block' : 'none';\n",
       "\n",
       "        async function convertToInteractive(key) {\n",
       "          const element = document.querySelector('#df-3df881d5-b35e-4590-a3c8-9c907aaca973');\n",
       "          const dataTable =\n",
       "            await google.colab.kernel.invokeFunction('convertToInteractive',\n",
       "                                                     [key], {});\n",
       "          if (!dataTable) return;\n",
       "\n",
       "          const docLinkHtml = 'Like what you see? Visit the ' +\n",
       "            '<a target=\"_blank\" href=https://colab.research.google.com/notebooks/data_table.ipynb>data table notebook</a>'\n",
       "            + ' to learn more about interactive tables.';\n",
       "          element.innerHTML = '';\n",
       "          dataTable['output_type'] = 'display_data';\n",
       "          await google.colab.output.renderOutput(dataTable, element);\n",
       "          const docLink = document.createElement('div');\n",
       "          docLink.innerHTML = docLinkHtml;\n",
       "          element.appendChild(docLink);\n",
       "        }\n",
       "      </script>\n",
       "    </div>\n",
       "  </div>\n",
       "  "
      ],
      "text/plain": [
       "  actual_start_date  Days2\n",
       "1        2017-11-15      6\n",
       "2        2018-03-01     28\n",
       "4        2018-01-19     42\n",
       "6        2017-11-17    122\n",
       "8        2017-09-13    428"
      ]
     },
     "execution_count": 24,
     "metadata": {},
     "output_type": "execute_result"
    }
   ],
   "source": [
    "df2.head()"
   ]
  },
  {
   "cell_type": "code",
   "execution_count": 25,
   "metadata": {
    "id": "uhXw0tA5AsSE"
   },
   "outputs": [],
   "source": [
    "df2['actual_start_date'] = df2['actual_start_date'].astype('datetime64[D]')"
   ]
  },
  {
   "cell_type": "code",
   "execution_count": 26,
   "metadata": {
    "colab": {
     "base_uri": "https://localhost:8080/"
    },
    "id": "j24o63zmAwIJ",
    "outputId": "c19a3b8b-d023-409e-fc8d-3477ff5c4c30"
   },
   "outputs": [
    {
     "data": {
      "text/plain": [
       "actual_start_date    datetime64[ns]\n",
       "Days2                         int64\n",
       "dtype: object"
      ]
     },
     "execution_count": 26,
     "metadata": {},
     "output_type": "execute_result"
    }
   ],
   "source": [
    "df2.dtypes"
   ]
  },
  {
   "cell_type": "code",
   "execution_count": 27,
   "metadata": {
    "id": "EkRD4uWHAzFH"
   },
   "outputs": [],
   "source": [
    "df2=df2.dropna(subset=['actual_start_date','Days2'] )"
   ]
  },
  {
   "cell_type": "code",
   "execution_count": 28,
   "metadata": {
    "id": "5jm1_a9bA4FL"
   },
   "outputs": [],
   "source": [
    "df2.set_index('actual_start_date', inplace=True)"
   ]
  },
  {
   "cell_type": "code",
   "execution_count": 29,
   "metadata": {
    "colab": {
     "base_uri": "https://localhost:8080/"
    },
    "id": "jgQDyv68A7h4",
    "outputId": "ab223a78-ba67-42e6-a06c-24bea4ad48f6"
   },
   "outputs": [
    {
     "name": "stdout",
     "output_type": "stream",
     "text": [
      "ADF Statistic: -9.697861\n",
      "p-value: 0.000000\n",
      "Critical Values:\n",
      "\t1%: -3.431\n",
      "\t5%: -2.862\n",
      "\t10%: -2.567\n"
     ]
    }
   ],
   "source": [
    "result = adfuller(df2['Days2'])\n",
    "print('ADF Statistic: %f' % result[0])\n",
    "print('p-value: %f' % result[1])\n",
    "print('Critical Values:')\n",
    "for key, value in result[4].items():\n",
    "    print('\\t%s: %.3f' % (key, value))"
   ]
  },
  {
   "cell_type": "code",
   "execution_count": 30,
   "metadata": {
    "id": "VSQN5e8LA_Ew"
   },
   "outputs": [],
   "source": [
    "# If the time series is not stationary, apply differencing to make it stationary\n",
    "if result[1] > 0.05:\n",
    "    diff = df2['Days2'].diff().dropna()\n",
    "else:\n",
    "    diff = df2['Days2']"
   ]
  },
  {
   "cell_type": "code",
   "execution_count": 31,
   "metadata": {
    "colab": {
     "base_uri": "https://localhost:8080/",
     "height": 1000
    },
    "id": "9Nx3UiJNBCLx",
    "outputId": "ad509713-2d6b-4d04-a4d5-59d8128ff1bc"
   },
   "outputs": [
    {
     "data": {
      "image/png": "[encoded data removed]",
      "text/plain": [
       "<Figure size 640x480 with 1 Axes>"
      ]
     },
     "execution_count": 31,
     "metadata": {},
     "output_type": "execute_result"
    },
    {
     "data": {
      "image/png": "[encoded data removed]",
      "text/plain": [
       "<Figure size 640x480 with 1 Axes>"
      ]
     },
     "metadata": {},
     "output_type": "display_data"
    },
    {
     "data": {
      "image/png": "[encoded data removed]",
      "text/plain": [
       "<Figure size 640x480 with 1 Axes>"
      ]
     },
     "metadata": {},
     "output_type": "display_data"
    }
   ],
   "source": [
    "plot_acf(diff)\n",
    "plot_pacf(diff)"
   ]
  },
  {
   "cell_type": "code",
   "execution_count": 32,
   "metadata": {
    "id": "H7F49UQgBFzP"
   },
   "outputs": [],
   "source": [
    "p = 1\n",
    "d = 1\n",
    "q = 1"
   ]
  },
  {
   "cell_type": "code",
   "execution_count": 33,
   "metadata": {
    "id": "iJSuGBzXBHzW"
   },
   "outputs": [],
   "source": [
    "train_size = int(len(diff) * .8)\n",
    "train, test = diff[:train_size], diff[train_size:]"
   ]
  },
  {
   "cell_type": "code",
   "execution_count": 34,
   "metadata": {
    "colab": {
     "base_uri": "https://localhost:8080/"
    },
    "id": "Sq9K3PFqBLAM",
    "outputId": "b862d700-08ea-4e9f-9d5a-5ffdacdbbef3"
   },
   "outputs": [
    {
     "name": "stderr",
     "output_type": "stream",
     "text": [
      "/usr/local/lib/python3.9/dist-packages/statsmodels/tsa/base/tsa_model.py:471: ValueWarning: A date index has been provided, but it has no associated frequency information and so will be ignored when e.g. forecasting.\n",
      "  self._init_dates(dates, freq)\n",
      "/usr/local/lib/python3.9/dist-packages/statsmodels/tsa/base/tsa_model.py:471: ValueWarning: A date index has been provided, but it is not monotonic and so will be ignored when e.g. forecasting.\n",
      "  self._init_dates(dates, freq)\n",
      "/usr/local/lib/python3.9/dist-packages/statsmodels/tsa/base/tsa_model.py:471: ValueWarning: A date index has been provided, but it has no associated frequency information and so will be ignored when e.g. forecasting.\n",
      "  self._init_dates(dates, freq)\n",
      "/usr/local/lib/python3.9/dist-packages/statsmodels/tsa/base/tsa_model.py:471: ValueWarning: A date index has been provided, but it is not monotonic and so will be ignored when e.g. forecasting.\n",
      "  self._init_dates(dates, freq)\n",
      "/usr/local/lib/python3.9/dist-packages/statsmodels/tsa/base/tsa_model.py:471: ValueWarning: A date index has been provided, but it has no associated frequency information and so will be ignored when e.g. forecasting.\n",
      "  self._init_dates(dates, freq)\n",
      "/usr/local/lib/python3.9/dist-packages/statsmodels/tsa/base/tsa_model.py:471: ValueWarning: A date index has been provided, but it is not monotonic and so will be ignored when e.g. forecasting.\n",
      "  self._init_dates(dates, freq)\n"
     ]
    }
   ],
   "source": [
    "model = ARIMA(train, order=(p,d,q))\n",
    "model_fit = model.fit()"
   ]
  },
  {
   "cell_type": "code",
   "execution_count": 35,
   "metadata": {
    "colab": {
     "base_uri": "https://localhost:8080/"
    },
    "id": "2Slm0SkFBOh1",
    "outputId": "b97e531d-26af-456c-e485-daac5c0b6a05"
   },
   "outputs": [
    {
     "name": "stderr",
     "output_type": "stream",
     "text": [
      "/usr/local/lib/python3.9/dist-packages/statsmodels/tsa/base/tsa_model.py:834: ValueWarning: No supported index is available. Prediction results will be given with an integer index beginning at `start`.\n",
      "  return get_prediction_index(\n"
     ]
    }
   ],
   "source": [
    "predictions = model_fit.forecast(steps=len(test))"
   ]
  },
  {
   "cell_type": "code",
   "execution_count": 36,
   "metadata": {
    "colab": {
     "base_uri": "https://localhost:8080/"
    },
    "id": "xekp-dGfBRo4",
    "outputId": "73644fcc-d974-4f23-b646-5b8863c6015f"
   },
   "outputs": [
    {
     "data": {
      "text/plain": [
       "(2210,)"
      ]
     },
     "execution_count": 36,
     "metadata": {},
     "output_type": "execute_result"
    }
   ],
   "source": [
    "predictions.shape"
   ]
  },
  {
   "cell_type": "code",
   "execution_count": 37,
   "metadata": {
    "colab": {
     "base_uri": "https://localhost:8080/"
    },
    "id": "7mMiJdUqBVZH",
    "outputId": "18e6c8d8-3b41-446f-e875-1d677044eecd"
   },
   "outputs": [
    {
     "name": "stdout",
     "output_type": "stream",
     "text": [
      "Mean Squared Error (MSE): 4726.88\n"
     ]
    }
   ],
   "source": [
    "mse = mean_squared_error(test, predictions)\n",
    "print(\"Mean Squared Error (MSE): {:.2f}\".format(mse))"
   ]
  },
  {
   "cell_type": "code",
   "execution_count": 39,
   "metadata": {
    "colab": {
     "base_uri": "https://localhost:8080/",
     "height": 430
    },
    "id": "EoKEdmQOBYXH",
    "outputId": "c05c184c-75bd-4863-c440-bcdcc1b6b164"
   },
   "outputs": [
    {
     "data": {
      "image/png": "[encoded data removed]",
      "text/plain": [
       "<Figure size 640x480 with 1 Axes>"
      ]
     },
     "metadata": {},
     "output_type": "display_data"
    }
   ],
   "source": [
    "# Plot the actual vs predicted values\n",
    "plt.plot(diff.index[train_size:], test, label='Actual')\n",
    "plt.plot(diff.index[train_size:], predictions, label='Predicted')\n",
    "plt.legend()\n",
    "plt.show()"
   ]
  },
  {
   "cell_type": "markdown",
   "metadata": {
    "id": "m9ATtyKd-WK0"
   },
   "source": [
    "# Attempt 2"
   ]
  },
  {
   "cell_type": "code",
   "execution_count": 89,
   "metadata": {
    "id": "Bon_rCLeCnnk"
   },
   "outputs": [],
   "source": [
    "import pandas as pd\n",
    "import numpy as np\n",
    "import matplotlib.pyplot as plt\n",
    "from statsmodels.tsa.arima.model import ARIMA"
   ]
  },
  {
   "cell_type": "code",
   "execution_count": 90,
   "metadata": {
    "id": "C0rKARgXCpNT"
   },
   "outputs": [],
   "source": [
    "# Load data into a pandas dataframe\n",
    "df = pd.read_csv('/content/combined_data.csv', parse_dates=True)"
   ]
  },
  {
   "cell_type": "code",
   "execution_count": 91,
   "metadata": {
    "colab": {
     "base_uri": "https://localhost:8080/",
     "height": 582
    },
    "id": "d_TDTLBDNX8X",
    "outputId": "74cc2cc8-e002-4d14-e51b-1a987426df5a"
   },
   "outputs": [
    {
     "data": {
      "text/html": [
       "\n",
       "  <div id=\"df-5ce58414-4c81-4653-8d0f-bb1debb7aabc\">\n",
       "    <div class=\"colab-df-container\">\n",
       "      <div>\n",
       "<style scoped>\n",
       "    .dataframe tbody tr th:only-of-type {\n",
       "        vertical-align: middle;\n",
       "    }\n",
       "\n",
       "    .dataframe tbody tr th {\n",
       "        vertical-align: top;\n",
       "    }\n",
       "\n",
       "    .dataframe thead th {\n",
       "        text-align: right;\n",
       "    }\n",
       "</style>\n",
       "<table border=\"1\" class=\"dataframe\">\n",
       "  <thead>\n",
       "    <tr style=\"text-align: right;\">\n",
       "      <th></th>\n",
       "      <th>file_name</th>\n",
       "      <th>report_id</th>\n",
       "      <th>drug_identification_number</th>\n",
       "      <th>brand_name</th>\n",
       "      <th>company_name</th>\n",
       "      <th>common_or_proper_name</th>\n",
       "      <th>ingredients</th>\n",
       "      <th>strength_s</th>\n",
       "      <th>packaging_size</th>\n",
       "      <th>actual_start_date</th>\n",
       "      <th>actual_end_date</th>\n",
       "    </tr>\n",
       "  </thead>\n",
       "  <tbody>\n",
       "    <tr>\n",
       "      <th>0</th>\n",
       "      <td>2017_Canada_Shortage.xlsx</td>\n",
       "      <td>28240</td>\n",
       "      <td>1963937.0</td>\n",
       "      <td>0.9% SODIUM CHLORIDE IRRIGATION USP</td>\n",
       "      <td>B. BRAUN MEDICAL INC</td>\n",
       "      <td>Sodium Chloride</td>\n",
       "      <td>SODIUM CHLORIDE</td>\n",
       "      <td>8.9999999999999993E-3</td>\n",
       "      <td>500mL, 1000mL, 2000mL, 4000mL</td>\n",
       "      <td>2017-11-03T00:00:00Z</td>\n",
       "      <td>NaN</td>\n",
       "    </tr>\n",
       "    <tr>\n",
       "      <th>1</th>\n",
       "      <td>2017_Canada_Shortage.xlsx</td>\n",
       "      <td>24792</td>\n",
       "      <td>2141450.0</td>\n",
       "      <td>20% PROSOL</td>\n",
       "      <td>BAXTER CORPORATION</td>\n",
       "      <td>20% PROSOL</td>\n",
       "      <td>PHENYLALANINE\\r HISTIDINE\\r TRYPTOPHAN\\r LEUCI...</td>\n",
       "      <td>1G\\r 1.18G\\r 0.32G\\r 1.08G\\r 1.96G\\r 0.98G\\r 2...</td>\n",
       "      <td>2000 mL</td>\n",
       "      <td>2017-11-15T00:00:00Z</td>\n",
       "      <td>2017-11-21T00:00:00Z</td>\n",
       "    </tr>\n",
       "    <tr>\n",
       "      <th>2</th>\n",
       "      <td>2017_Canada_Shortage.xlsx</td>\n",
       "      <td>27274</td>\n",
       "      <td>2248489.0</td>\n",
       "      <td>4% ASTRACAINE DENTAL WITH EPINEPHRINE 1:200,00...</td>\n",
       "      <td>DENTSPLY CANADA LIMITED</td>\n",
       "      <td>Articaine Hydrochloride 40 mg/mL and Epinephri...</td>\n",
       "      <td>ARTICAINE HYDROCHLORIDE\\r EPINEPHRINE</td>\n",
       "      <td>40MG\\r 0.005MG</td>\n",
       "      <td>100 1.8 mL cartridges/box</td>\n",
       "      <td>2018-03-01T00:00:00Z</td>\n",
       "      <td>2018-03-29T00:00:00Z</td>\n",
       "    </tr>\n",
       "    <tr>\n",
       "      <th>3</th>\n",
       "      <td>2017_Canada_Shortage.xlsx</td>\n",
       "      <td>26870</td>\n",
       "      <td>2299135.0</td>\n",
       "      <td>40 (MEQ)MMOL/L POTASSIUM CHLORIDE PLUS 5% DEXT...</td>\n",
       "      <td>HOSPIRA HEALTHCARE CORPORATION</td>\n",
       "      <td>Potassium Chloride in 5% Dextrose and 0.9% Sod...</td>\n",
       "      <td>DEXTROSE\\r POTASSIUM CHLORIDE\\r SODIUM CHLORIDE</td>\n",
       "      <td>5.0G\\r 0.3G\\r 0.9G</td>\n",
       "      <td>1000ML</td>\n",
       "      <td>NaN</td>\n",
       "      <td>2017-11-30T00:00:00Z</td>\n",
       "    </tr>\n",
       "    <tr>\n",
       "      <th>4</th>\n",
       "      <td>2017_Canada_Shortage.xlsx</td>\n",
       "      <td>30198</td>\n",
       "      <td>37974.0</td>\n",
       "      <td>50% DEXTROSE INJECTION USP</td>\n",
       "      <td>HOSPIRA HEALTHCARE CORPORATION</td>\n",
       "      <td>50% DEXTROSE</td>\n",
       "      <td>DEXTROSE</td>\n",
       "      <td>500MG</td>\n",
       "      <td>25x50mL GVL</td>\n",
       "      <td>2018-01-19T00:00:00Z</td>\n",
       "      <td>2018-03-02T00:00:00Z</td>\n",
       "    </tr>\n",
       "  </tbody>\n",
       "</table>\n",
       "</div>\n",
       "      <button class=\"colab-df-convert\" onclick=\"convertToInteractive('df-5ce58414-4c81-4653-8d0f-bb1debb7aabc')\"\n",
       "              title=\"Convert this dataframe to an interactive table.\"\n",
       "              style=\"display:none;\">\n",
       "        \n",
       "  <svg xmlns=\"http://www.w3.org/2000/svg\" height=\"24px\"viewBox=\"0 0 24 24\"\n",
       "       width=\"24px\">\n",
       "    <path d=\"M0 0h24v24H0V0z\" fill=\"none\"/>\n",
       "    <path d=\"M18.56 5.44l.94 2.06.94-2.06 2.06-.94-2.06-.94-.94-2.06-.94 2.06-2.06.94zm-11 1L8.5 8.5l.94-2.06 2.06-.94-2.06-.94L8.5 2.5l-.94 2.06-2.06.94zm10 10l.94 2.06.94-2.06 2.06-.94-2.06-.94-.94-2.06-.94 2.06-2.06.94z\"/><path d=\"M17.41 7.96l-1.37-1.37c-.4-.4-.92-.59-1.43-.59-.52 0-1.04.2-1.43.59L10.3 9.45l-7.72 7.72c-.78.78-.78 2.05 0 2.83L4 21.41c.39.39.9.59 1.41.59.51 0 1.02-.2 1.41-.59l7.78-7.78 2.81-2.81c.8-.78.8-2.07 0-2.86zM5.41 20L4 18.59l7.72-7.72 1.47 1.35L5.41 20z\"/>\n",
       "  </svg>\n",
       "      </button>\n",
       "      \n",
       "  <style>\n",
       "    .colab-df-container {\n",
       "      display:flex;\n",
       "      flex-wrap:wrap;\n",
       "      gap: 12px;\n",
       "    }\n",
       "\n",
       "    .colab-df-convert {\n",
       "      background-color: #E8F0FE;\n",
       "      border: none;\n",
       "      border-radius: 50%;\n",
       "      cursor: pointer;\n",
       "      display: none;\n",
       "      fill: #1967D2;\n",
       "      height: 32px;\n",
       "      padding: 0 0 0 0;\n",
       "      width: 32px;\n",
       "    }\n",
       "\n",
       "    .colab-df-convert:hover {\n",
       "      background-color: #E2EBFA;\n",
       "      box-shadow: 0px 1px 2px rgba(60, 64, 67, 0.3), 0px 1px 3px 1px rgba(60, 64, 67, 0.15);\n",
       "      fill: #174EA6;\n",
       "    }\n",
       "\n",
       "    [theme=dark] .colab-df-convert {\n",
       "      background-color: #3B4455;\n",
       "      fill: #D2E3FC;\n",
       "    }\n",
       "\n",
       "    [theme=dark] .colab-df-convert:hover {\n",
       "      background-color: #434B5C;\n",
       "      box-shadow: 0px 1px 3px 1px rgba(0, 0, 0, 0.15);\n",
       "      filter: drop-shadow(0px 1px 2px rgba(0, 0, 0, 0.3));\n",
       "      fill: #FFFFFF;\n",
       "    }\n",
       "  </style>\n",
       "\n",
       "      <script>\n",
       "        const buttonEl =\n",
       "          document.querySelector('#df-5ce58414-4c81-4653-8d0f-bb1debb7aabc button.colab-df-convert');\n",
       "        buttonEl.style.display =\n",
       "          google.colab.kernel.accessAllowed ? 'block' : 'none';\n",
       "\n",
       "        async function convertToInteractive(key) {\n",
       "          const element = document.querySelector('#df-5ce58414-4c81-4653-8d0f-bb1debb7aabc');\n",
       "          const dataTable =\n",
       "            await google.colab.kernel.invokeFunction('convertToInteractive',\n",
       "                                                     [key], {});\n",
       "          if (!dataTable) return;\n",
       "\n",
       "          const docLinkHtml = 'Like what you see? Visit the ' +\n",
       "            '<a target=\"_blank\" href=https://colab.research.google.com/notebooks/data_table.ipynb>data table notebook</a>'\n",
       "            + ' to learn more about interactive tables.';\n",
       "          element.innerHTML = '';\n",
       "          dataTable['output_type'] = 'display_data';\n",
       "          await google.colab.output.renderOutput(dataTable, element);\n",
       "          const docLink = document.createElement('div');\n",
       "          docLink.innerHTML = docLinkHtml;\n",
       "          element.appendChild(docLink);\n",
       "        }\n",
       "      </script>\n",
       "    </div>\n",
       "  </div>\n",
       "  "
      ],
      "text/plain": [
       "                   file_name  report_id  drug_identification_number  \\\n",
       "0  2017_Canada_Shortage.xlsx      28240                   1963937.0   \n",
       "1  2017_Canada_Shortage.xlsx      24792                   2141450.0   \n",
       "2  2017_Canada_Shortage.xlsx      27274                   2248489.0   \n",
       "3  2017_Canada_Shortage.xlsx      26870                   2299135.0   \n",
       "4  2017_Canada_Shortage.xlsx      30198                     37974.0   \n",
       "\n",
       "                                          brand_name  \\\n",
       "0                0.9% SODIUM CHLORIDE IRRIGATION USP   \n",
       "1                                         20% PROSOL   \n",
       "2  4% ASTRACAINE DENTAL WITH EPINEPHRINE 1:200,00...   \n",
       "3  40 (MEQ)MMOL/L POTASSIUM CHLORIDE PLUS 5% DEXT...   \n",
       "4                         50% DEXTROSE INJECTION USP   \n",
       "\n",
       "                     company_name  \\\n",
       "0            B. BRAUN MEDICAL INC   \n",
       "1              BAXTER CORPORATION   \n",
       "2         DENTSPLY CANADA LIMITED   \n",
       "3  HOSPIRA HEALTHCARE CORPORATION   \n",
       "4  HOSPIRA HEALTHCARE CORPORATION   \n",
       "\n",
       "                               common_or_proper_name  \\\n",
       "0                                    Sodium Chloride   \n",
       "1                                         20% PROSOL   \n",
       "2  Articaine Hydrochloride 40 mg/mL and Epinephri...   \n",
       "3  Potassium Chloride in 5% Dextrose and 0.9% Sod...   \n",
       "4                                       50% DEXTROSE   \n",
       "\n",
       "                                         ingredients  \\\n",
       "0                                    SODIUM CHLORIDE   \n",
       "1  PHENYLALANINE\\r HISTIDINE\\r TRYPTOPHAN\\r LEUCI...   \n",
       "2              ARTICAINE HYDROCHLORIDE\\r EPINEPHRINE   \n",
       "3    DEXTROSE\\r POTASSIUM CHLORIDE\\r SODIUM CHLORIDE   \n",
       "4                                           DEXTROSE   \n",
       "\n",
       "                                          strength_s  \\\n",
       "0                              8.9999999999999993E-3   \n",
       "1  1G\\r 1.18G\\r 0.32G\\r 1.08G\\r 1.96G\\r 0.98G\\r 2...   \n",
       "2                                     40MG\\r 0.005MG   \n",
       "3                                 5.0G\\r 0.3G\\r 0.9G   \n",
       "4                                              500MG   \n",
       "\n",
       "                  packaging_size     actual_start_date       actual_end_date  \n",
       "0  500mL, 1000mL, 2000mL, 4000mL  2017-11-03T00:00:00Z                   NaN  \n",
       "1                        2000 mL  2017-11-15T00:00:00Z  2017-11-21T00:00:00Z  \n",
       "2      100 1.8 mL cartridges/box  2018-03-01T00:00:00Z  2018-03-29T00:00:00Z  \n",
       "3                         1000ML                   NaN  2017-11-30T00:00:00Z  \n",
       "4                    25x50mL GVL  2018-01-19T00:00:00Z  2018-03-02T00:00:00Z  "
      ]
     },
     "execution_count": 91,
     "metadata": {},
     "output_type": "execute_result"
    }
   ],
   "source": [
    "df.head()"
   ]
  },
  {
   "cell_type": "code",
   "execution_count": 92,
   "metadata": {
    "id": "0Vs-h6ELNa27"
   },
   "outputs": [],
   "source": [
    "df.dropna(subset=['actual_start_date', 'actual_end_date'], inplace=True)"
   ]
  },
  {
   "cell_type": "code",
   "execution_count": 93,
   "metadata": {
    "id": "HbQJBZkXPNsG"
   },
   "outputs": [],
   "source": [
    "df = df.drop_duplicates(\"report_id\", keep=False)"
   ]
  },
  {
   "cell_type": "code",
   "execution_count": 94,
   "metadata": {
    "id": "n5a5NoQdPcbz"
   },
   "outputs": [],
   "source": [
    "df['actual_start_date'] = df['actual_start_date'].astype('datetime64[D]')\n",
    "df['actual_end_date'] = df['actual_end_date'].astype('datetime64[D]')"
   ]
  },
  {
   "cell_type": "code",
   "execution_count": 95,
   "metadata": {
    "id": "WCT_46wFPfT4"
   },
   "outputs": [],
   "source": [
    "df['drug_identification_number'] = df['drug_identification_number'].fillna(0)\n",
    "df['drug_identification_number'] = df['drug_identification_number'].astype('int')"
   ]
  },
  {
   "cell_type": "code",
   "execution_count": 96,
   "metadata": {
    "id": "b8shXjudPRFz"
   },
   "outputs": [],
   "source": [
    "df['Days'] = df['actual_end_date'] - df['actual_start_date']"
   ]
  },
  {
   "cell_type": "code",
   "execution_count": 97,
   "metadata": {
    "id": "8_jLeSijPmp1"
   },
   "outputs": [],
   "source": [
    "df['Days2'] = df['Days'].dt.days\n",
    "df['Days2']=df['Days2'].astype('int')"
   ]
  },
  {
   "cell_type": "code",
   "execution_count": 98,
   "metadata": {
    "id": "GVvAt6saPpk2"
   },
   "outputs": [],
   "source": [
    "df['file_name'] = df['file_name'].str[0:4]"
   ]
  },
  {
   "cell_type": "code",
   "execution_count": 99,
   "metadata": {
    "colab": {
     "base_uri": "https://localhost:8080/"
    },
    "id": "06EnbuP_PuHf",
    "outputId": "2c18bf4b-b490-45ab-90d0-8c86017482db"
   },
   "outputs": [
    {
     "data": {
      "text/plain": [
       "0    717002\n",
       "Name: drug_identification_number, dtype: int64"
      ]
     },
     "execution_count": 99,
     "metadata": {},
     "output_type": "execute_result"
    }
   ],
   "source": [
    "din = df['drug_identification_number'].mode()\n",
    "din"
   ]
  },
  {
   "cell_type": "code",
   "execution_count": 100,
   "metadata": {
    "colab": {
     "base_uri": "https://localhost:8080/",
     "height": 513
    },
    "id": "TBTiu71pNfM0",
    "outputId": "338478c1-b757-4d04-8419-107daa4e4ff6"
   },
   "outputs": [
    {
     "data": {
      "text/html": [
       "\n",
       "  <div id=\"df-0470f29e-dab9-4dcd-b0bf-710810bb76bf\">\n",
       "    <div class=\"colab-df-container\">\n",
       "      <div>\n",
       "<style scoped>\n",
       "    .dataframe tbody tr th:only-of-type {\n",
       "        vertical-align: middle;\n",
       "    }\n",
       "\n",
       "    .dataframe tbody tr th {\n",
       "        vertical-align: top;\n",
       "    }\n",
       "\n",
       "    .dataframe thead th {\n",
       "        text-align: right;\n",
       "    }\n",
       "</style>\n",
       "<table border=\"1\" class=\"dataframe\">\n",
       "  <thead>\n",
       "    <tr style=\"text-align: right;\">\n",
       "      <th></th>\n",
       "      <th>file_name</th>\n",
       "      <th>report_id</th>\n",
       "      <th>drug_identification_number</th>\n",
       "      <th>brand_name</th>\n",
       "      <th>company_name</th>\n",
       "      <th>common_or_proper_name</th>\n",
       "      <th>ingredients</th>\n",
       "      <th>strength_s</th>\n",
       "      <th>packaging_size</th>\n",
       "      <th>actual_start_date</th>\n",
       "      <th>actual_end_date</th>\n",
       "      <th>Days</th>\n",
       "      <th>Days2</th>\n",
       "    </tr>\n",
       "  </thead>\n",
       "  <tbody>\n",
       "    <tr>\n",
       "      <th>1</th>\n",
       "      <td>2017</td>\n",
       "      <td>24792</td>\n",
       "      <td>2141450</td>\n",
       "      <td>20% PROSOL</td>\n",
       "      <td>BAXTER CORPORATION</td>\n",
       "      <td>20% PROSOL</td>\n",
       "      <td>PHENYLALANINE\\r HISTIDINE\\r TRYPTOPHAN\\r LEUCI...</td>\n",
       "      <td>1G\\r 1.18G\\r 0.32G\\r 1.08G\\r 1.96G\\r 0.98G\\r 2...</td>\n",
       "      <td>2000 mL</td>\n",
       "      <td>2017-11-15</td>\n",
       "      <td>2017-11-21</td>\n",
       "      <td>6 days</td>\n",
       "      <td>6</td>\n",
       "    </tr>\n",
       "    <tr>\n",
       "      <th>2</th>\n",
       "      <td>2017</td>\n",
       "      <td>27274</td>\n",
       "      <td>2248489</td>\n",
       "      <td>4% ASTRACAINE DENTAL WITH EPINEPHRINE 1:200,00...</td>\n",
       "      <td>DENTSPLY CANADA LIMITED</td>\n",
       "      <td>Articaine Hydrochloride 40 mg/mL and Epinephri...</td>\n",
       "      <td>ARTICAINE HYDROCHLORIDE\\r EPINEPHRINE</td>\n",
       "      <td>40MG\\r 0.005MG</td>\n",
       "      <td>100 1.8 mL cartridges/box</td>\n",
       "      <td>2018-03-01</td>\n",
       "      <td>2018-03-29</td>\n",
       "      <td>28 days</td>\n",
       "      <td>28</td>\n",
       "    </tr>\n",
       "    <tr>\n",
       "      <th>4</th>\n",
       "      <td>2017</td>\n",
       "      <td>30198</td>\n",
       "      <td>37974</td>\n",
       "      <td>50% DEXTROSE INJECTION USP</td>\n",
       "      <td>HOSPIRA HEALTHCARE CORPORATION</td>\n",
       "      <td>50% DEXTROSE</td>\n",
       "      <td>DEXTROSE</td>\n",
       "      <td>500MG</td>\n",
       "      <td>25x50mL GVL</td>\n",
       "      <td>2018-01-19</td>\n",
       "      <td>2018-03-02</td>\n",
       "      <td>42 days</td>\n",
       "      <td>42</td>\n",
       "    </tr>\n",
       "    <tr>\n",
       "      <th>5</th>\n",
       "      <td>2017</td>\n",
       "      <td>10415</td>\n",
       "      <td>2364182</td>\n",
       "      <td>ABSTRAL</td>\n",
       "      <td>PALADIN LABS INC</td>\n",
       "      <td>FENTANYL</td>\n",
       "      <td>FENTANYL</td>\n",
       "      <td>200MCG</td>\n",
       "      <td>10 Tabs</td>\n",
       "      <td>2015-11-27</td>\n",
       "      <td>2015-11-27</td>\n",
       "      <td>0 days</td>\n",
       "      <td>0</td>\n",
       "    </tr>\n",
       "    <tr>\n",
       "      <th>6</th>\n",
       "      <td>2017</td>\n",
       "      <td>29649</td>\n",
       "      <td>2303450</td>\n",
       "      <td>ACCEL PIOGLITAZONE</td>\n",
       "      <td>ACCEL PHARMA INC</td>\n",
       "      <td>ACCEL PIOGLITAZONE</td>\n",
       "      <td>PIOGLITAZONE</td>\n",
       "      <td>30MG</td>\n",
       "      <td>100 tablets</td>\n",
       "      <td>2017-11-17</td>\n",
       "      <td>2018-03-19</td>\n",
       "      <td>122 days</td>\n",
       "      <td>122</td>\n",
       "    </tr>\n",
       "  </tbody>\n",
       "</table>\n",
       "</div>\n",
       "      <button class=\"colab-df-convert\" onclick=\"convertToInteractive('df-0470f29e-dab9-4dcd-b0bf-710810bb76bf')\"\n",
       "              title=\"Convert this dataframe to an interactive table.\"\n",
       "              style=\"display:none;\">\n",
       "        \n",
       "  <svg xmlns=\"http://www.w3.org/2000/svg\" height=\"24px\"viewBox=\"0 0 24 24\"\n",
       "       width=\"24px\">\n",
       "    <path d=\"M0 0h24v24H0V0z\" fill=\"none\"/>\n",
       "    <path d=\"M18.56 5.44l.94 2.06.94-2.06 2.06-.94-2.06-.94-.94-2.06-.94 2.06-2.06.94zm-11 1L8.5 8.5l.94-2.06 2.06-.94-2.06-.94L8.5 2.5l-.94 2.06-2.06.94zm10 10l.94 2.06.94-2.06 2.06-.94-2.06-.94-.94-2.06-.94 2.06-2.06.94z\"/><path d=\"M17.41 7.96l-1.37-1.37c-.4-.4-.92-.59-1.43-.59-.52 0-1.04.2-1.43.59L10.3 9.45l-7.72 7.72c-.78.78-.78 2.05 0 2.83L4 21.41c.39.39.9.59 1.41.59.51 0 1.02-.2 1.41-.59l7.78-7.78 2.81-2.81c.8-.78.8-2.07 0-2.86zM5.41 20L4 18.59l7.72-7.72 1.47 1.35L5.41 20z\"/>\n",
       "  </svg>\n",
       "      </button>\n",
       "      \n",
       "  <style>\n",
       "    .colab-df-container {\n",
       "      display:flex;\n",
       "      flex-wrap:wrap;\n",
       "      gap: 12px;\n",
       "    }\n",
       "\n",
       "    .colab-df-convert {\n",
       "      background-color: #E8F0FE;\n",
       "      border: none;\n",
       "      border-radius: 50%;\n",
       "      cursor: pointer;\n",
       "      display: none;\n",
       "      fill: #1967D2;\n",
       "      height: 32px;\n",
       "      padding: 0 0 0 0;\n",
       "      width: 32px;\n",
       "    }\n",
       "\n",
       "    .colab-df-convert:hover {\n",
       "      background-color: #E2EBFA;\n",
       "      box-shadow: 0px 1px 2px rgba(60, 64, 67, 0.3), 0px 1px 3px 1px rgba(60, 64, 67, 0.15);\n",
       "      fill: #174EA6;\n",
       "    }\n",
       "\n",
       "    [theme=dark] .colab-df-convert {\n",
       "      background-color: #3B4455;\n",
       "      fill: #D2E3FC;\n",
       "    }\n",
       "\n",
       "    [theme=dark] .colab-df-convert:hover {\n",
       "      background-color: #434B5C;\n",
       "      box-shadow: 0px 1px 3px 1px rgba(0, 0, 0, 0.15);\n",
       "      filter: drop-shadow(0px 1px 2px rgba(0, 0, 0, 0.3));\n",
       "      fill: #FFFFFF;\n",
       "    }\n",
       "  </style>\n",
       "\n",
       "      <script>\n",
       "        const buttonEl =\n",
       "          document.querySelector('#df-0470f29e-dab9-4dcd-b0bf-710810bb76bf button.colab-df-convert');\n",
       "        buttonEl.style.display =\n",
       "          google.colab.kernel.accessAllowed ? 'block' : 'none';\n",
       "\n",
       "        async function convertToInteractive(key) {\n",
       "          const element = document.querySelector('#df-0470f29e-dab9-4dcd-b0bf-710810bb76bf');\n",
       "          const dataTable =\n",
       "            await google.colab.kernel.invokeFunction('convertToInteractive',\n",
       "                                                     [key], {});\n",
       "          if (!dataTable) return;\n",
       "\n",
       "          const docLinkHtml = 'Like what you see? Visit the ' +\n",
       "            '<a target=\"_blank\" href=https://colab.research.google.com/notebooks/data_table.ipynb>data table notebook</a>'\n",
       "            + ' to learn more about interactive tables.';\n",
       "          element.innerHTML = '';\n",
       "          dataTable['output_type'] = 'display_data';\n",
       "          await google.colab.output.renderOutput(dataTable, element);\n",
       "          const docLink = document.createElement('div');\n",
       "          docLink.innerHTML = docLinkHtml;\n",
       "          element.appendChild(docLink);\n",
       "        }\n",
       "      </script>\n",
       "    </div>\n",
       "  </div>\n",
       "  "
      ],
      "text/plain": [
       "  file_name  report_id  drug_identification_number  \\\n",
       "1      2017      24792                     2141450   \n",
       "2      2017      27274                     2248489   \n",
       "4      2017      30198                       37974   \n",
       "5      2017      10415                     2364182   \n",
       "6      2017      29649                     2303450   \n",
       "\n",
       "                                          brand_name  \\\n",
       "1                                         20% PROSOL   \n",
       "2  4% ASTRACAINE DENTAL WITH EPINEPHRINE 1:200,00...   \n",
       "4                         50% DEXTROSE INJECTION USP   \n",
       "5                                            ABSTRAL   \n",
       "6                                 ACCEL PIOGLITAZONE   \n",
       "\n",
       "                     company_name  \\\n",
       "1              BAXTER CORPORATION   \n",
       "2         DENTSPLY CANADA LIMITED   \n",
       "4  HOSPIRA HEALTHCARE CORPORATION   \n",
       "5                PALADIN LABS INC   \n",
       "6                ACCEL PHARMA INC   \n",
       "\n",
       "                               common_or_proper_name  \\\n",
       "1                                         20% PROSOL   \n",
       "2  Articaine Hydrochloride 40 mg/mL and Epinephri...   \n",
       "4                                       50% DEXTROSE   \n",
       "5                                           FENTANYL   \n",
       "6                                 ACCEL PIOGLITAZONE   \n",
       "\n",
       "                                         ingredients  \\\n",
       "1  PHENYLALANINE\\r HISTIDINE\\r TRYPTOPHAN\\r LEUCI...   \n",
       "2              ARTICAINE HYDROCHLORIDE\\r EPINEPHRINE   \n",
       "4                                           DEXTROSE   \n",
       "5                                           FENTANYL   \n",
       "6                                       PIOGLITAZONE   \n",
       "\n",
       "                                          strength_s  \\\n",
       "1  1G\\r 1.18G\\r 0.32G\\r 1.08G\\r 1.96G\\r 0.98G\\r 2...   \n",
       "2                                     40MG\\r 0.005MG   \n",
       "4                                              500MG   \n",
       "5                                             200MCG   \n",
       "6                                               30MG   \n",
       "\n",
       "              packaging_size actual_start_date actual_end_date     Days  Days2  \n",
       "1                    2000 mL        2017-11-15      2017-11-21   6 days      6  \n",
       "2  100 1.8 mL cartridges/box        2018-03-01      2018-03-29  28 days     28  \n",
       "4                25x50mL GVL        2018-01-19      2018-03-02  42 days     42  \n",
       "5                    10 Tabs        2015-11-27      2015-11-27   0 days      0  \n",
       "6                100 tablets        2017-11-17      2018-03-19 122 days    122  "
      ]
     },
     "execution_count": 100,
     "metadata": {},
     "output_type": "execute_result"
    }
   ],
   "source": [
    "df.head()"
   ]
  },
  {
   "cell_type": "code",
   "execution_count": 101,
   "metadata": {
    "id": "st3NMb0EP97U"
   },
   "outputs": [],
   "source": [
    "df_trainable = df.copy()"
   ]
  },
  {
   "cell_type": "code",
   "execution_count": 102,
   "metadata": {
    "id": "s7XZW9yOQBa4"
   },
   "outputs": [],
   "source": [
    "df_trainable = df_trainable[['actual_start_date', 'Days2']]"
   ]
  },
  {
   "cell_type": "code",
   "execution_count": 103,
   "metadata": {
    "id": "d5GLog2jOByg"
   },
   "outputs": [],
   "source": [
    "df_trainable.set_index('actual_start_date', inplace=True)"
   ]
  },
  {
   "cell_type": "code",
   "execution_count": 105,
   "metadata": {
    "id": "DK46HxB5StnC"
   },
   "outputs": [],
   "source": [
    "df_trainable.sort_index(inplace=True)"
   ]
  },
  {
   "cell_type": "code",
   "execution_count": 106,
   "metadata": {
    "id": "H7ju37G0OVrZ"
   },
   "outputs": [],
   "source": [
    "# Split data into training and testing sets\n",
    "train_data = df_trainable[df_trainable.index < '2022-01-01']['Days2']\n",
    "test_data = df_trainable[df_trainable.index >= '2022-01-01']['Days2']"
   ]
  },
  {
   "cell_type": "code",
   "execution_count": 107,
   "metadata": {
    "colab": {
     "base_uri": "https://localhost:8080/"
    },
    "id": "QSWHEcWZRwGM",
    "outputId": "e4312ee3-3680-440c-c94f-864bedd0cfee"
   },
   "outputs": [
    {
     "data": {
      "text/plain": [
       "actual_start_date\n",
       "2002-01-01    5685\n",
       "2012-03-23    2931\n",
       "2012-03-23    2931\n",
       "2013-03-01    1496\n",
       "2013-05-14    1774\n",
       "Name: Days2, dtype: int64"
      ]
     },
     "execution_count": 107,
     "metadata": {},
     "output_type": "execute_result"
    }
   ],
   "source": [
    "train_data.head()"
   ]
  },
  {
   "cell_type": "code",
   "execution_count": 108,
   "metadata": {
    "colab": {
     "base_uri": "https://localhost:8080/"
    },
    "id": "JEGac5k3Onwd",
    "outputId": "da167d85-ddcb-40af-e46d-5a48c5e71b30"
   },
   "outputs": [
    {
     "name": "stderr",
     "output_type": "stream",
     "text": [
      "/usr/local/lib/python3.9/dist-packages/statsmodels/tsa/base/tsa_model.py:471: ValueWarning: A date index has been provided, but it has no associated frequency information and so will be ignored when e.g. forecasting.\n",
      "  self._init_dates(dates, freq)\n",
      "/usr/local/lib/python3.9/dist-packages/statsmodels/tsa/base/tsa_model.py:471: ValueWarning: A date index has been provided, but it has no associated frequency information and so will be ignored when e.g. forecasting.\n",
      "  self._init_dates(dates, freq)\n",
      "/usr/local/lib/python3.9/dist-packages/statsmodels/tsa/base/tsa_model.py:471: ValueWarning: A date index has been provided, but it has no associated frequency information and so will be ignored when e.g. forecasting.\n",
      "  self._init_dates(dates, freq)\n"
     ]
    }
   ],
   "source": [
    "# Train ARIMA model\n",
    "model = ARIMA(train_data, order=(1, 1, 1))\n",
    "fitted_model = model.fit()"
   ]
  },
  {
   "cell_type": "code",
   "execution_count": 109,
   "metadata": {
    "id": "y7AKyxu4CxhG"
   },
   "outputs": [],
   "source": [
    "# Make predictions on test data\n",
    "predicted_values = fitted_model.predict()"
   ]
  },
  {
   "cell_type": "code",
   "execution_count": 110,
   "metadata": {
    "colab": {
     "base_uri": "https://localhost:8080/"
    },
    "id": "os4kNQsxSPbT",
    "outputId": "456c18b8-5fd6-41db-e50d-805f0f71257f"
   },
   "outputs": [
    {
     "data": {
      "text/plain": [
       "actual_start_date\n",
       "2002-01-01       0.000000\n",
       "2012-03-23    5531.661916\n",
       "2012-03-23    4033.423667\n",
       "2013-03-01    3700.789301\n",
       "2013-05-14    2973.963500\n",
       "                 ...     \n",
       "2021-12-30      77.478846\n",
       "2021-12-31      46.130471\n",
       "2021-12-31      46.825486\n",
       "2021-12-31      45.969577\n",
       "2021-12-31      89.698315\n",
       "Name: predicted_mean, Length: 9290, dtype: float64"
      ]
     },
     "execution_count": 110,
     "metadata": {},
     "output_type": "execute_result"
    }
   ],
   "source": [
    "predicted_values"
   ]
  },
  {
   "cell_type": "code",
   "execution_count": 112,
   "metadata": {
    "colab": {
     "base_uri": "https://localhost:8080/",
     "height": 435
    },
    "id": "dR_-A8lRRH5V",
    "outputId": "a3ec6a82-00ab-472a-8234-e944553f515b"
   },
   "outputs": [
    {
     "data": {
      "image/png": "[encoded data removed]",
      "text/plain": [
       "<Figure size 640x480 with 1 Axes>"
      ]
     },
     "metadata": {},
     "output_type": "display_data"
    }
   ],
   "source": [
    "# Plot original data and predicted values\n",
    "plt.plot(df_trainable.index, df_trainable['Days2'], label='Original')\n",
    "plt.plot(predicted_values.index, predicted_values, label='Predicted')\n",
    "plt.legend()\n",
    "plt.show()"
   ]
  },
  {
   "cell_type": "code",
   "execution_count": null,
   "metadata": {
    "id": "pHJxs4pVSY0e"
   },
   "outputs": [],
   "source": []
  },
  {
   "cell_type": "markdown",
   "metadata": {
    "id": "T1UNVG8kbyU-"
   },
   "source": [
    "# Attempt 2 - Continuation"
   ]
  },
  {
   "cell_type": "code",
   "execution_count": 115,
   "metadata": {
    "id": "tL0xja9tb01y"
   },
   "outputs": [],
   "source": [
    "name_groups = df.groupby('common_or_proper_name')"
   ]
  },
  {
   "cell_type": "code",
   "execution_count": 119,
   "metadata": {
    "colab": {
     "base_uri": "https://localhost:8080/"
    },
    "id": "geFem0Jjb4WK",
    "outputId": "de916e1b-b074-4b37-eed7-7ceaefe2552c"
   },
   "outputs": [
    {
     "data": {
      "text/plain": [
       "common_or_proper_name\n",
       "% 5 Dextrose Injection USP                                                                       125.000000\n",
       "(hepatitis B vaccine [recombinant])                                                              769.750000\n",
       "(measles, mumps and rubella virus vaccine, live, attenuated) Lyophilized powder for injection     25.400000\n",
       "(mirtazapine) Orally Disintegrating Tablets                                                       37.666667\n",
       "(mirtazapine) Tablets                                                                              4.000000\n",
       "                                                                                                    ...    \n",
       "ursodiol                                                                                          19.000000\n",
       "vancomycin hydrochloride                                                                          47.000000\n",
       "verteporfin                                                                                      522.000000\n",
       "viacoram                                                                                          24.000000\n",
       "vilazodone hydrochloride tablets                                                                  44.500000\n",
       "Name: Days2, Length: 4191, dtype: float64"
      ]
     },
     "execution_count": 119,
     "metadata": {},
     "output_type": "execute_result"
    }
   ],
   "source": [
    "name_groups['Days2'].mean()"
   ]
  },
  {
   "cell_type": "code",
   "execution_count": 122,
   "metadata": {
    "id": "8XUp95EmcIVo"
   },
   "outputs": [],
   "source": [
    "df_drug_hepatitis = df[df.common_or_proper_name == '(hepatitis B vaccine [recombinant])']"
   ]
  },
  {
   "cell_type": "code",
   "execution_count": 123,
   "metadata": {
    "colab": {
     "base_uri": "https://localhost:8080/",
     "height": 447
    },
    "id": "BhjC5EjWd12l",
    "outputId": "b749ad7f-72fe-4ae0-d7c2-2d068ebb1ab4"
   },
   "outputs": [
    {
     "data": {
      "text/html": [
       "\n",
       "  <div id=\"df-90ad111f-a220-4826-bae0-25de959a1d32\">\n",
       "    <div class=\"colab-df-container\">\n",
       "      <div>\n",
       "<style scoped>\n",
       "    .dataframe tbody tr th:only-of-type {\n",
       "        vertical-align: middle;\n",
       "    }\n",
       "\n",
       "    .dataframe tbody tr th {\n",
       "        vertical-align: top;\n",
       "    }\n",
       "\n",
       "    .dataframe thead th {\n",
       "        text-align: right;\n",
       "    }\n",
       "</style>\n",
       "<table border=\"1\" class=\"dataframe\">\n",
       "  <thead>\n",
       "    <tr style=\"text-align: right;\">\n",
       "      <th></th>\n",
       "      <th>file_name</th>\n",
       "      <th>report_id</th>\n",
       "      <th>drug_identification_number</th>\n",
       "      <th>brand_name</th>\n",
       "      <th>company_name</th>\n",
       "      <th>common_or_proper_name</th>\n",
       "      <th>ingredients</th>\n",
       "      <th>strength_s</th>\n",
       "      <th>packaging_size</th>\n",
       "      <th>actual_start_date</th>\n",
       "      <th>actual_end_date</th>\n",
       "      <th>Days</th>\n",
       "      <th>Days2</th>\n",
       "    </tr>\n",
       "  </thead>\n",
       "  <tbody>\n",
       "    <tr>\n",
       "      <th>2989</th>\n",
       "      <td>2017</td>\n",
       "      <td>18922</td>\n",
       "      <td>2245977</td>\n",
       "      <td>RECOMBIVAX HB     -(ADULT DIALYSIS-PRESERVATIV...</td>\n",
       "      <td>MERCK CANADA INC</td>\n",
       "      <td>(hepatitis B vaccine [recombinant])</td>\n",
       "      <td>HEPATITIS B SURFACE ANTIGEN</td>\n",
       "      <td>40MCG</td>\n",
       "      <td>40MCG/1ML 1DOSE VIAL</td>\n",
       "      <td>2017-10-03</td>\n",
       "      <td>2017-10-06</td>\n",
       "      <td>3 days</td>\n",
       "      <td>3</td>\n",
       "    </tr>\n",
       "    <tr>\n",
       "      <th>2990</th>\n",
       "      <td>2017</td>\n",
       "      <td>873</td>\n",
       "      <td>2243676</td>\n",
       "      <td>RECOMBIVAX HB     -(PRESERVATIVE FREE)</td>\n",
       "      <td>MERCK CANADA INC</td>\n",
       "      <td>(hepatitis B vaccine [recombinant])</td>\n",
       "      <td>HEPATITIS B SURFACE ANTIGEN</td>\n",
       "      <td>10MCG</td>\n",
       "      <td>10MCG/1ML 10X1DOSE VIAL</td>\n",
       "      <td>2017-08-04</td>\n",
       "      <td>2022-06-22</td>\n",
       "      <td>1783 days</td>\n",
       "      <td>1783</td>\n",
       "    </tr>\n",
       "    <tr>\n",
       "      <th>2991</th>\n",
       "      <td>2017</td>\n",
       "      <td>15524</td>\n",
       "      <td>2243676</td>\n",
       "      <td>RECOMBIVAX HB     -(PRESERVATIVE FREE)</td>\n",
       "      <td>MERCK CANADA INC</td>\n",
       "      <td>(hepatitis B vaccine [recombinant])</td>\n",
       "      <td>HEPATITIS B SURFACE ANTIGEN</td>\n",
       "      <td>10MCG</td>\n",
       "      <td>5MCG/0.5ML 1DOSE VIAL (Ped)</td>\n",
       "      <td>2017-08-02</td>\n",
       "      <td>2017-08-24</td>\n",
       "      <td>22 days</td>\n",
       "      <td>22</td>\n",
       "    </tr>\n",
       "    <tr>\n",
       "      <th>2992</th>\n",
       "      <td>2017</td>\n",
       "      <td>23503</td>\n",
       "      <td>2243676</td>\n",
       "      <td>RECOMBIVAX HB     -(PRESERVATIVE FREE)</td>\n",
       "      <td>MERCK CANADA INC</td>\n",
       "      <td>(hepatitis B vaccine [recombinant])</td>\n",
       "      <td>HEPATITIS B SURFACE ANTIGEN</td>\n",
       "      <td>10MCG</td>\n",
       "      <td>10MCG/1ML  1DOSE VIAL</td>\n",
       "      <td>2017-09-21</td>\n",
       "      <td>2021-03-15</td>\n",
       "      <td>1271 days</td>\n",
       "      <td>1271</td>\n",
       "    </tr>\n",
       "  </tbody>\n",
       "</table>\n",
       "</div>\n",
       "      <button class=\"colab-df-convert\" onclick=\"convertToInteractive('df-90ad111f-a220-4826-bae0-25de959a1d32')\"\n",
       "              title=\"Convert this dataframe to an interactive table.\"\n",
       "              style=\"display:none;\">\n",
       "        \n",
       "  <svg xmlns=\"http://www.w3.org/2000/svg\" height=\"24px\"viewBox=\"0 0 24 24\"\n",
       "       width=\"24px\">\n",
       "    <path d=\"M0 0h24v24H0V0z\" fill=\"none\"/>\n",
       "    <path d=\"M18.56 5.44l.94 2.06.94-2.06 2.06-.94-2.06-.94-.94-2.06-.94 2.06-2.06.94zm-11 1L8.5 8.5l.94-2.06 2.06-.94-2.06-.94L8.5 2.5l-.94 2.06-2.06.94zm10 10l.94 2.06.94-2.06 2.06-.94-2.06-.94-.94-2.06-.94 2.06-2.06.94z\"/><path d=\"M17.41 7.96l-1.37-1.37c-.4-.4-.92-.59-1.43-.59-.52 0-1.04.2-1.43.59L10.3 9.45l-7.72 7.72c-.78.78-.78 2.05 0 2.83L4 21.41c.39.39.9.59 1.41.59.51 0 1.02-.2 1.41-.59l7.78-7.78 2.81-2.81c.8-.78.8-2.07 0-2.86zM5.41 20L4 18.59l7.72-7.72 1.47 1.35L5.41 20z\"/>\n",
       "  </svg>\n",
       "      </button>\n",
       "      \n",
       "  <style>\n",
       "    .colab-df-container {\n",
       "      display:flex;\n",
       "      flex-wrap:wrap;\n",
       "      gap: 12px;\n",
       "    }\n",
       "\n",
       "    .colab-df-convert {\n",
       "      background-color: #E8F0FE;\n",
       "      border: none;\n",
       "      border-radius: 50%;\n",
       "      cursor: pointer;\n",
       "      display: none;\n",
       "      fill: #1967D2;\n",
       "      height: 32px;\n",
       "      padding: 0 0 0 0;\n",
       "      width: 32px;\n",
       "    }\n",
       "\n",
       "    .colab-df-convert:hover {\n",
       "      background-color: #E2EBFA;\n",
       "      box-shadow: 0px 1px 2px rgba(60, 64, 67, 0.3), 0px 1px 3px 1px rgba(60, 64, 67, 0.15);\n",
       "      fill: #174EA6;\n",
       "    }\n",
       "\n",
       "    [theme=dark] .colab-df-convert {\n",
       "      background-color: #3B4455;\n",
       "      fill: #D2E3FC;\n",
       "    }\n",
       "\n",
       "    [theme=dark] .colab-df-convert:hover {\n",
       "      background-color: #434B5C;\n",
       "      box-shadow: 0px 1px 3px 1px rgba(0, 0, 0, 0.15);\n",
       "      filter: drop-shadow(0px 1px 2px rgba(0, 0, 0, 0.3));\n",
       "      fill: #FFFFFF;\n",
       "    }\n",
       "  </style>\n",
       "\n",
       "      <script>\n",
       "        const buttonEl =\n",
       "          document.querySelector('#df-90ad111f-a220-4826-bae0-25de959a1d32 button.colab-df-convert');\n",
       "        buttonEl.style.display =\n",
       "          google.colab.kernel.accessAllowed ? 'block' : 'none';\n",
       "\n",
       "        async function convertToInteractive(key) {\n",
       "          const element = document.querySelector('#df-90ad111f-a220-4826-bae0-25de959a1d32');\n",
       "          const dataTable =\n",
       "            await google.colab.kernel.invokeFunction('convertToInteractive',\n",
       "                                                     [key], {});\n",
       "          if (!dataTable) return;\n",
       "\n",
       "          const docLinkHtml = 'Like what you see? Visit the ' +\n",
       "            '<a target=\"_blank\" href=https://colab.research.google.com/notebooks/data_table.ipynb>data table notebook</a>'\n",
       "            + ' to learn more about interactive tables.';\n",
       "          element.innerHTML = '';\n",
       "          dataTable['output_type'] = 'display_data';\n",
       "          await google.colab.output.renderOutput(dataTable, element);\n",
       "          const docLink = document.createElement('div');\n",
       "          docLink.innerHTML = docLinkHtml;\n",
       "          element.appendChild(docLink);\n",
       "        }\n",
       "      </script>\n",
       "    </div>\n",
       "  </div>\n",
       "  "
      ],
      "text/plain": [
       "     file_name  report_id  drug_identification_number  \\\n",
       "2989      2017      18922                     2245977   \n",
       "2990      2017        873                     2243676   \n",
       "2991      2017      15524                     2243676   \n",
       "2992      2017      23503                     2243676   \n",
       "\n",
       "                                             brand_name      company_name  \\\n",
       "2989  RECOMBIVAX HB     -(ADULT DIALYSIS-PRESERVATIV...  MERCK CANADA INC   \n",
       "2990             RECOMBIVAX HB     -(PRESERVATIVE FREE)  MERCK CANADA INC   \n",
       "2991             RECOMBIVAX HB     -(PRESERVATIVE FREE)  MERCK CANADA INC   \n",
       "2992             RECOMBIVAX HB     -(PRESERVATIVE FREE)  MERCK CANADA INC   \n",
       "\n",
       "                    common_or_proper_name                  ingredients  \\\n",
       "2989  (hepatitis B vaccine [recombinant])  HEPATITIS B SURFACE ANTIGEN   \n",
       "2990  (hepatitis B vaccine [recombinant])  HEPATITIS B SURFACE ANTIGEN   \n",
       "2991  (hepatitis B vaccine [recombinant])  HEPATITIS B SURFACE ANTIGEN   \n",
       "2992  (hepatitis B vaccine [recombinant])  HEPATITIS B SURFACE ANTIGEN   \n",
       "\n",
       "     strength_s               packaging_size actual_start_date  \\\n",
       "2989      40MCG         40MCG/1ML 1DOSE VIAL        2017-10-03   \n",
       "2990      10MCG      10MCG/1ML 10X1DOSE VIAL        2017-08-04   \n",
       "2991      10MCG  5MCG/0.5ML 1DOSE VIAL (Ped)        2017-08-02   \n",
       "2992      10MCG        10MCG/1ML  1DOSE VIAL        2017-09-21   \n",
       "\n",
       "     actual_end_date      Days  Days2  \n",
       "2989      2017-10-06    3 days      3  \n",
       "2990      2022-06-22 1783 days   1783  \n",
       "2991      2017-08-24   22 days     22  \n",
       "2992      2021-03-15 1271 days   1271  "
      ]
     },
     "execution_count": 123,
     "metadata": {},
     "output_type": "execute_result"
    }
   ],
   "source": [
    "df_drug_hepatitis.head()"
   ]
  },
  {
   "cell_type": "code",
   "execution_count": 126,
   "metadata": {
    "id": "j91McNjEeEtB"
   },
   "outputs": [],
   "source": [
    "df_trainable = df_drug_hepatitis.copy()"
   ]
  },
  {
   "cell_type": "code",
   "execution_count": 127,
   "metadata": {
    "id": "-yo0Gj-WeJsH"
   },
   "outputs": [],
   "source": [
    "df_trainable = df_trainable[['actual_start_date', 'Days2']]"
   ]
  },
  {
   "cell_type": "code",
   "execution_count": 128,
   "metadata": {
    "id": "bfnvR4i9eQVT"
   },
   "outputs": [],
   "source": [
    "df_trainable.set_index('actual_start_date', inplace=True)"
   ]
  },
  {
   "cell_type": "code",
   "execution_count": 129,
   "metadata": {
    "id": "Db413nZieTMj"
   },
   "outputs": [],
   "source": [
    "df_trainable.sort_index(inplace=True)"
   ]
  },
  {
   "cell_type": "code",
   "execution_count": 130,
   "metadata": {
    "id": "wstFaiVReV15"
   },
   "outputs": [],
   "source": [
    "# Split data into training and testing sets\n",
    "train_data = df_trainable[df_trainable.index < '2022-01-01']['Days2']\n",
    "test_data = df_trainable[df_trainable.index >= '2022-01-01']['Days2']"
   ]
  },
  {
   "cell_type": "code",
   "execution_count": 131,
   "metadata": {
    "colab": {
     "base_uri": "https://localhost:8080/"
    },
    "id": "XzaLR9VbeX3v",
    "outputId": "42310b1e-58e6-4b4a-93f5-9fc25ef59fa1"
   },
   "outputs": [
    {
     "name": "stderr",
     "output_type": "stream",
     "text": [
      "/usr/local/lib/python3.9/dist-packages/statsmodels/tsa/base/tsa_model.py:471: ValueWarning: A date index has been provided, but it has no associated frequency information and so will be ignored when e.g. forecasting.\n",
      "  self._init_dates(dates, freq)\n",
      "/usr/local/lib/python3.9/dist-packages/statsmodels/tsa/base/tsa_model.py:471: ValueWarning: A date index has been provided, but it has no associated frequency information and so will be ignored when e.g. forecasting.\n",
      "  self._init_dates(dates, freq)\n",
      "/usr/local/lib/python3.9/dist-packages/statsmodels/tsa/base/tsa_model.py:471: ValueWarning: A date index has been provided, but it has no associated frequency information and so will be ignored when e.g. forecasting.\n",
      "  self._init_dates(dates, freq)\n"
     ]
    }
   ],
   "source": [
    "# Train ARIMA model\n",
    "model = ARIMA(train_data, order=(1, 1, 1))\n",
    "fitted_model = model.fit()"
   ]
  },
  {
   "cell_type": "code",
   "execution_count": 132,
   "metadata": {
    "id": "7zcksvLrebMK"
   },
   "outputs": [],
   "source": [
    "# Make predictions on test data\n",
    "predicted_values = fitted_model.predict()"
   ]
  },
  {
   "cell_type": "code",
   "execution_count": 133,
   "metadata": {
    "colab": {
     "base_uri": "https://localhost:8080/",
     "height": 430
    },
    "id": "B_TxYAMZedxO",
    "outputId": "103c2892-ae86-42f6-faa7-34727c7f4f00"
   },
   "outputs": [
    {
     "data": {
      "image/png": "[encoded data removed]",
      "text/plain": [
       "<Figure size 640x480 with 1 Axes>"
      ]
     },
     "metadata": {},
     "output_type": "display_data"
    }
   ],
   "source": [
    "# Plot original data and predicted values\n",
    "plt.plot(df_trainable.index, df_trainable['Days2'], label='Original')\n",
    "plt.plot(predicted_values.index, predicted_values, label='Predicted')\n",
    "plt.legend()\n",
    "plt.show()"
   ]
  },
  {
   "cell_type": "code",
   "execution_count": null,
   "metadata": {
    "id": "8ULRDkzEehph"
   },
   "outputs": [],
   "source": []
  }
 ],
 "metadata": {
  "colab": {
   "collapsed_sections": [
    "K9lewkdGChf2"
   ],
   "provenance": []
  },
  "kernelspec": {
   "display_name": "Python 3 (ipykernel)",
   "language": "python",
   "name": "python3"
  },
  "language_info": {
   "codemirror_mode": {
    "name": "ipython",
    "version": 3
   },
   "file_extension": ".py",
   "mimetype": "text/x-python",
   "name": "python",
   "nbconvert_exporter": "python",
   "pygments_lexer": "ipython3",
   "version": "3.7.16"
  }
 },
 "nbformat": 4,
 "nbformat_minor": 4
}
