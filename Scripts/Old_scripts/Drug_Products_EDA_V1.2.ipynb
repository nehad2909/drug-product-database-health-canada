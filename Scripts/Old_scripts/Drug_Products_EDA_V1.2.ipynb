{
 "cells": [
  {
   "cell_type": "markdown",
   "id": "be1117ff",
   "metadata": {},
   "source": [
    "# Data Assessment"
   ]
  },
  {
   "cell_type": "markdown",
   "id": "c4e64a7b",
   "metadata": {},
   "source": [
    "### Group 2"
   ]
  },
  {
   "cell_type": "markdown",
   "id": "42101a5e",
   "metadata": {},
   "source": [
    "## Project Title - Analysis of human drug products approved for use be Health Canada"
   ]
  },
  {
   "cell_type": "markdown",
   "id": "81c41e8d",
   "metadata": {},
   "source": [
    "The data we are using for our analysis consists of 4 zipped files - approved, marketed, cancelled and dormant. Each zipped file contains products for human, veterinary, disinfectant and radiopharmaceutical use. Moreover, each zipped file contains around 12 text files(csv files) which represent the actual tables. Now, to analyze the whole data and the relationship between them, It is necessary to store the files in a common platform. For this, we performed the following operations:\n",
    "\n",
    "- Extracted the files and stored them in a common folder\n",
    "- Concatenate similar files from different categories\n",
    "- stored the merged file in a common folder (This is our fina folder)\n",
    "\n",
    "Note:- After looking at the data closely, we identified that some of the tables are not important so, we excluded 4 tables and we are keeping 8 tables in our analysis. Important datasets and performed the above operations on selected files only. Also, we are doing our analysis on human related drugs only. So later, we will filter our datasets for the human class only.\n"
   ]
  },
  {
   "cell_type": "code",
   "execution_count": 1,
   "id": "4c8068dc",
   "metadata": {},
   "outputs": [],
   "source": [
    "#Import the necessary libraries\n",
    "\n",
    "import pandas as pd\n",
    "import numpy as np\n",
    "import seaborn as sns\n",
    "import matplotlib.pyplot as plt\n",
    "import os\n",
    "import shutil"
   ]
  },
  {
   "cell_type": "code",
   "execution_count": 2,
   "id": "b0ea31b4",
   "metadata": {},
   "outputs": [],
   "source": [
    "#Create folders\n",
    "\n",
    "cwd = os.getcwd()\n",
    "#print(cwd)\n",
    "\n",
    "dir = os.path.join(cwd, \"Temp\")\n",
    "if not os.path.exists(dir):\n",
    "    os.mkdir(dir)\n",
    "dir = os.path.join(cwd, \"DPD_Files\")\n",
    "if not os.path.exists(dir):\n",
    "    os.mkdir(dir)\n",
    "dir = os.path.join(cwd, \"DPD_Merged_Files\")\n",
    "if not os.path.exists(dir):\n",
    "    os.mkdir(dir)"
   ]
  },
  {
   "cell_type": "code",
   "execution_count": 3,
   "id": "0e2da6bf",
   "metadata": {},
   "outputs": [],
   "source": [
    "#Unzip files\n",
    "\n",
    "shutil.unpack_archive('allfiles.zip', 'Temp')\n",
    "shutil.unpack_archive('Temp/allfiles/allfiles.zip', 'DPD_Files')"
   ]
  },
  {
   "cell_type": "code",
   "execution_count": 4,
   "id": "1e7b80c7",
   "metadata": {},
   "outputs": [],
   "source": [
    "#Unzip files\n",
    "\n",
    "shutil.unpack_archive('allfiles_ap.zip', 'DPD_Files')\n",
    "shutil.unpack_archive('allfiles_dr.zip', 'DPD_Files')\n",
    "shutil.unpack_archive('allfiles_ia.zip', 'DPD_Files')"
   ]
  },
  {
   "cell_type": "code",
   "execution_count": 5,
   "id": "75ded0d1",
   "metadata": {},
   "outputs": [],
   "source": [
    "#Read the drug dataset\n",
    "\n",
    "drug_col =  ['DRUG_CODE', 'PRODUCT_CATEGORIZATION', 'CLASS', 'DRUG_IDENTIFICATION_NUMBER', 'BRAND_NAME', 'DESCRIPTOR', 'PEDIATRIC_FLAG', 'ACCESSION_NUMBER', 'NUMBER_OF_AIS', 'LAST_UPDATE_DATE', 'AI_GROUP_NO', 'CLASS_FFootnote *', 'BRAND_NAME_FFootnote *', 'DESCRIPTOR_FFootnote *']\n",
    "\n",
    "drug = pd.read_csv('DPD_Files/drug.txt', names = drug_col)\n",
    "drug_ap = pd.read_csv('DPD_Files/drug_ap.txt', names = drug_col)\n",
    "drug_dr = pd.read_csv('DPD_Files/drug_dr.txt', names = drug_col)\n",
    "drug_ia = pd.read_csv('DPD_Files/drug_ia.txt', names = drug_col)"
   ]
  },
  {
   "cell_type": "code",
   "execution_count": 6,
   "id": "b770bfac",
   "metadata": {},
   "outputs": [],
   "source": [
    "#Concatenate the drug datasets\n",
    "\n",
    "drug = [drug, drug_ap, drug_dr, drug_ia]\n",
    "drug = pd.concat(drug)\n",
    "\n",
    "drug.to_csv('DPD_Merged_Files/drug.csv', index = False)"
   ]
  },
  {
   "cell_type": "code",
   "execution_count": 7,
   "id": "b45e20f3",
   "metadata": {},
   "outputs": [],
   "source": [
    "#Read the ingredient dataset\n",
    "\n",
    "ingred_col = ['DRUG_CODE', 'ACTIVE_INGREDIENT_CODE', 'INGREDIENT', 'INGREDIENT_SUPPLIED_IND', 'STRENGTH', 'STRENGTH_UNIT', 'STRENGTH_TYPE', 'DOSAGE_VALUE', 'BASE', 'DOSAGE_UNIT', 'NOTES', 'INGREDIENT_FFootnote*', 'STRENGTH_UNIT_FFootnote*', 'STRENGTH_TYPE_FFootnote*', 'DOSAGE_UNIT_FFootnote*']\n",
    "\n",
    "ingred = pd.read_csv('DPD_Files/ingred.txt', names = ingred_col)\n",
    "ingred_ap = pd.read_csv('DPD_Files/ingred_ap.txt', names = ingred_col)\n",
    "ingred_dr = pd.read_csv('DPD_Files/ingred_dr.txt', names = ingred_col)\n",
    "ingred_ia = pd.read_csv('DPD_Files/ingred_ia.txt', names = ingred_col)"
   ]
  },
  {
   "cell_type": "code",
   "execution_count": 8,
   "id": "21d2e4f5",
   "metadata": {},
   "outputs": [],
   "source": [
    "#Concatenate the ingredient datasets\n",
    "\n",
    "ingred = [ingred, ingred_ap, ingred_dr, ingred_ia]\n",
    "ingred = pd.concat(ingred)\n",
    "\n",
    "ingred.to_csv('DPD_Merged_Files/ingred.csv', index = False)"
   ]
  },
  {
   "cell_type": "code",
   "execution_count": 9,
   "id": "59c0fa87",
   "metadata": {},
   "outputs": [],
   "source": [
    "#Read the company dataset\n",
    "\n",
    "comp_col = ['DRUG_CODE', 'MFR_CODE', 'COMPANY_CODE', 'COMPANY_NAME', 'COMPANY_TYPE', 'ADDRESS_MAILING_FLAG', 'ADDRESS_BILLING_FLAG', 'ADDRESS_NOTIFICATION_FLAG', 'ADDRESS_OTHER', 'SUITE_NUMBER', 'STREET_NAME', 'CITY_NAME', 'PROVINCE', 'COUNTRY', 'POSTAL_CODE', 'POST_OFFICE_BOX', 'PROVINCE_FFootnote*', 'COUNTRY_FFootnote*']\n",
    "\n",
    "comp = pd.read_csv('DPD_Files/comp.txt', names = comp_col)\n",
    "comp_ap = pd.read_csv('DPD_Files/comp_ap.txt', names = comp_col)\n",
    "comp_dr = pd.read_csv('DPD_Files/comp_dr.txt', names = comp_col)\n",
    "comp_ia = pd.read_csv('DPD_Files/comp_ia.txt', names = comp_col)"
   ]
  },
  {
   "cell_type": "code",
   "execution_count": 10,
   "id": "89e91ac1",
   "metadata": {},
   "outputs": [],
   "source": [
    "#Concatenate the company datasets\n",
    "\n",
    "company = [comp, comp_ap, comp_dr, comp_ia]\n",
    "company = pd.concat(company)\n",
    "\n",
    "company.to_csv('DPD_Merged_Files/company.csv', index = False)"
   ]
  },
  {
   "cell_type": "code",
   "execution_count": 11,
   "id": "22e9f42e",
   "metadata": {},
   "outputs": [],
   "source": [
    "#Read the status dataset\n",
    "\n",
    "status_col = ['DRUG_CODE', 'CURRENT_STATUS_FLAG', 'STATUS', 'HISTORY_DATE', 'STATUS_FFootnote*', 'LOT_NUMBERFootnote*', 'EXPIRATION_DATEFootnote*']\n",
    "\n",
    "status = pd.read_csv('DPD_Files/status.txt', names = status_col)\n",
    "status_ap = pd.read_csv('DPD_Files/status_ap.txt', names = status_col)\n",
    "status_dr = pd.read_csv('DPD_Files/status_dr.txt', names = status_col)\n",
    "status_ia = pd.read_csv('DPD_Files/status_ia.txt', names = status_col)"
   ]
  },
  {
   "cell_type": "code",
   "execution_count": 12,
   "id": "4ffe711b",
   "metadata": {},
   "outputs": [],
   "source": [
    "#Concatenate the status datasets\n",
    "\n",
    "status = [status, status_ap, status_dr, status_ia]\n",
    "status = pd.concat(status)\n",
    "\n",
    "status.to_csv('DPD_Merged_Files/status.csv', index = False)"
   ]
  },
  {
   "cell_type": "code",
   "execution_count": 13,
   "id": "4e223a53",
   "metadata": {},
   "outputs": [],
   "source": [
    "#Read the company dataset\n",
    "\n",
    "form_col = ['DRUG_CODE', 'PHARM_FORM_CODE', 'PHARMACEUTICAL_FORM', 'PHARMACEUTICAL_FORM_FFootnote*']\n",
    "\n",
    "form = pd.read_csv('DPD_Files/form.txt', names = form_col)\n",
    "form_ap = pd.read_csv('DPD_Files/form_ap.txt', names = form_col)\n",
    "form_dr = pd.read_csv('DPD_Files/form_dr.txt', names = form_col)\n",
    "form_ia = pd.read_csv('DPD_Files/form_ia.txt', names = form_col)"
   ]
  },
  {
   "cell_type": "code",
   "execution_count": 14,
   "id": "93c788b7",
   "metadata": {},
   "outputs": [],
   "source": [
    "#Concatenate the status datasets\n",
    "\n",
    "form = [form, form_ap, form_dr, form_ia]\n",
    "form = pd.concat(form)\n",
    "\n",
    "form.to_csv('DPD_Merged_Files/form.csv', index = False)"
   ]
  },
  {
   "cell_type": "code",
   "execution_count": 15,
   "id": "8e6940c4",
   "metadata": {},
   "outputs": [],
   "source": [
    "#Read the company dataset\n",
    "\n",
    "schedule_col = ['DRUG_CODE', 'SCHEDULE', 'SCHEDULE_FFootnote*']\n",
    "\n",
    "schedule = pd.read_csv('DPD_Files/schedule.txt', names = schedule_col)\n",
    "schedule_ap = pd.read_csv('DPD_Files/schedule_ap.txt', names = schedule_col)\n",
    "schedule_dr = pd.read_csv('DPD_Files/schedule_dr.txt', names = schedule_col)\n",
    "schedule_ia = pd.read_csv('DPD_Files/schedule_ia.txt', names = schedule_col)"
   ]
  },
  {
   "cell_type": "code",
   "execution_count": 16,
   "id": "a512a2ca",
   "metadata": {},
   "outputs": [],
   "source": [
    "#Concatenate the status datasets\n",
    "\n",
    "schedule = [schedule, schedule_ap, schedule_dr, schedule_ia]\n",
    "schedule = pd.concat(schedule)\n",
    "\n",
    "schedule.to_csv('DPD_Merged_Files/schedule.csv', index = False)"
   ]
  },
  {
   "cell_type": "code",
   "execution_count": 17,
   "id": "187494f3",
   "metadata": {},
   "outputs": [],
   "source": [
    "#Read the company dataset\n",
    "\n",
    "ther_col =  ['DRUG_CODE','TC_ATC_NUMBER', 'TC_ATC', 'TC_AHFS_NUMBER']\n",
    "\n",
    "ther = pd.read_csv('DPD_Files/ther.txt', names = ther_col)\n",
    "ther_ap = pd.read_csv('DPD_Files/ther_ap.txt', names = ther_col)\n",
    "ther_dr = pd.read_csv('DPD_Files/ther_dr.txt', names = ther_col)\n",
    "ther_ia = pd.read_csv('DPD_Files/ther_ia.txt', names = ther_col)"
   ]
  },
  {
   "cell_type": "code",
   "execution_count": 18,
   "id": "ef29f8c1",
   "metadata": {},
   "outputs": [],
   "source": [
    "#Concatenate the status datasets\n",
    "\n",
    "ther = [ther, ther_ap, ther_dr, ther_ia]\n",
    "ther = pd.concat(ther)\n",
    "\n",
    "ther.to_csv('DPD_Merged_Files/ther.csv', index = False)"
   ]
  },
  {
   "cell_type": "code",
   "execution_count": 19,
   "id": "92abd732",
   "metadata": {},
   "outputs": [],
   "source": [
    "#Read the company dataset\n",
    "\n",
    "route_col = ['DRUG_CODE', 'ROUTE_OF_ADMINISTRATION_CODE', 'ROUTE_OF_ADMINISTRATION', 'ROUTE_OF_ADMINISTRATION_FFootnote*']\n",
    "\n",
    "route = pd.read_csv('DPD_Files/route.txt', names = route_col)\n",
    "route_ap = pd.read_csv('DPD_Files/route_ap.txt', names = route_col)\n",
    "route_dr = pd.read_csv('DPD_Files/route_dr.txt', names = route_col)\n",
    "route_ia = pd.read_csv('DPD_Files/route_ia.txt', names = route_col)"
   ]
  },
  {
   "cell_type": "code",
   "execution_count": 20,
   "id": "8770898e",
   "metadata": {},
   "outputs": [],
   "source": [
    "#Concatenate the status datasets\n",
    "\n",
    "route = [route, route_ap, route_dr, route_ia]\n",
    "route = pd.concat(route)\n",
    "\n",
    "route.to_csv('DPD_Merged_Files/route.csv', index = False)"
   ]
  },
  {
   "cell_type": "markdown",
   "id": "b5eb3605",
   "metadata": {},
   "source": [
    "## Data Exploration:"
   ]
  },
  {
   "cell_type": "code",
   "execution_count": 21,
   "id": "1b75b90e",
   "metadata": {},
   "outputs": [
    {
     "data": {
      "text/html": [
       "<div>\n",
       "<style scoped>\n",
       "    .dataframe tbody tr th:only-of-type {\n",
       "        vertical-align: middle;\n",
       "    }\n",
       "\n",
       "    .dataframe tbody tr th {\n",
       "        vertical-align: top;\n",
       "    }\n",
       "\n",
       "    .dataframe thead th {\n",
       "        text-align: right;\n",
       "    }\n",
       "</style>\n",
       "<table border=\"1\" class=\"dataframe\">\n",
       "  <thead>\n",
       "    <tr style=\"text-align: right;\">\n",
       "      <th></th>\n",
       "      <th>DRUG_CODE</th>\n",
       "      <th>PRODUCT_CATEGORIZATION</th>\n",
       "      <th>CLASS</th>\n",
       "      <th>DRUG_IDENTIFICATION_NUMBER</th>\n",
       "      <th>BRAND_NAME</th>\n",
       "      <th>DESCRIPTOR</th>\n",
       "      <th>PEDIATRIC_FLAG</th>\n",
       "      <th>ACCESSION_NUMBER</th>\n",
       "      <th>NUMBER_OF_AIS</th>\n",
       "      <th>LAST_UPDATE_DATE</th>\n",
       "      <th>AI_GROUP_NO</th>\n",
       "      <th>CLASS_FFootnote *</th>\n",
       "      <th>BRAND_NAME_FFootnote *</th>\n",
       "      <th>DESCRIPTOR_FFootnote *</th>\n",
       "    </tr>\n",
       "  </thead>\n",
       "  <tbody>\n",
       "    <tr>\n",
       "      <th>0</th>\n",
       "      <td>10000</td>\n",
       "      <td>NaN</td>\n",
       "      <td>Veterinary</td>\n",
       "      <td>813761</td>\n",
       "      <td>LINCOMIX</td>\n",
       "      <td>NaN</td>\n",
       "      <td>N</td>\n",
       "      <td>69580</td>\n",
       "      <td>1</td>\n",
       "      <td>03-DEC-2018</td>\n",
       "      <td>105826008</td>\n",
       "      <td>Vétérinaire</td>\n",
       "      <td>NaN</td>\n",
       "      <td>NaN</td>\n",
       "    </tr>\n",
       "    <tr>\n",
       "      <th>1</th>\n",
       "      <td>100000</td>\n",
       "      <td>CAT IV - SUNBURN PROTECTANTS</td>\n",
       "      <td>Human</td>\n",
       "      <td>2510804</td>\n",
       "      <td>COOLA CLASSIC FACE SPF 50 SUNSCREEN LOTION FRA...</td>\n",
       "      <td>NaN</td>\n",
       "      <td>N</td>\n",
       "      <td>NaN</td>\n",
       "      <td>4</td>\n",
       "      <td>22-JUL-2021</td>\n",
       "      <td>451521100</td>\n",
       "      <td>Humain</td>\n",
       "      <td>NaN</td>\n",
       "      <td>NaN</td>\n",
       "    </tr>\n",
       "    <tr>\n",
       "      <th>2</th>\n",
       "      <td>100001</td>\n",
       "      <td>CAT IV - SUNBURN PROTECTANTS</td>\n",
       "      <td>Human</td>\n",
       "      <td>2510812</td>\n",
       "      <td>COOLA CLASSIC FACE SPF 50 SUNSCREEN LOTION WHI...</td>\n",
       "      <td>NaN</td>\n",
       "      <td>N</td>\n",
       "      <td>NaN</td>\n",
       "      <td>4</td>\n",
       "      <td>22-JUL-2021</td>\n",
       "      <td>451521100</td>\n",
       "      <td>Humain</td>\n",
       "      <td>NaN</td>\n",
       "      <td>NaN</td>\n",
       "    </tr>\n",
       "    <tr>\n",
       "      <th>3</th>\n",
       "      <td>100002</td>\n",
       "      <td>NaN</td>\n",
       "      <td>Human</td>\n",
       "      <td>2510839</td>\n",
       "      <td>VYEPTI</td>\n",
       "      <td>SINGLE USE VIAL</td>\n",
       "      <td>N</td>\n",
       "      <td>NaN</td>\n",
       "      <td>1</td>\n",
       "      <td>23-AUG-2022</td>\n",
       "      <td>162703001</td>\n",
       "      <td>Humain</td>\n",
       "      <td>NaN</td>\n",
       "      <td>FIOLE À USAGE UNIQUE</td>\n",
       "    </tr>\n",
       "    <tr>\n",
       "      <th>4</th>\n",
       "      <td>100004</td>\n",
       "      <td>NaN</td>\n",
       "      <td>Human</td>\n",
       "      <td>2510847</td>\n",
       "      <td>VAXZEVRIA</td>\n",
       "      <td>VIAL CONTAINS 10 DOSES OF 0.5ML</td>\n",
       "      <td>N</td>\n",
       "      <td>NaN</td>\n",
       "      <td>1</td>\n",
       "      <td>18-MAY-2022</td>\n",
       "      <td>162722001</td>\n",
       "      <td>Humain</td>\n",
       "      <td>NaN</td>\n",
       "      <td>FIOLE CONTIENT 10 DOSES DE 0,5 ML</td>\n",
       "    </tr>\n",
       "  </tbody>\n",
       "</table>\n",
       "</div>"
      ],
      "text/plain": [
       "   DRUG_CODE        PRODUCT_CATEGORIZATION       CLASS  \\\n",
       "0      10000                           NaN  Veterinary   \n",
       "1     100000  CAT IV - SUNBURN PROTECTANTS       Human   \n",
       "2     100001  CAT IV - SUNBURN PROTECTANTS       Human   \n",
       "3     100002                           NaN       Human   \n",
       "4     100004                           NaN       Human   \n",
       "\n",
       "  DRUG_IDENTIFICATION_NUMBER  \\\n",
       "0                     813761   \n",
       "1                    2510804   \n",
       "2                    2510812   \n",
       "3                    2510839   \n",
       "4                    2510847   \n",
       "\n",
       "                                          BRAND_NAME  \\\n",
       "0                                           LINCOMIX   \n",
       "1  COOLA CLASSIC FACE SPF 50 SUNSCREEN LOTION FRA...   \n",
       "2  COOLA CLASSIC FACE SPF 50 SUNSCREEN LOTION WHI...   \n",
       "3                                             VYEPTI   \n",
       "4                                          VAXZEVRIA   \n",
       "\n",
       "                        DESCRIPTOR PEDIATRIC_FLAG ACCESSION_NUMBER  \\\n",
       "0                              NaN              N            69580   \n",
       "1                              NaN              N              NaN   \n",
       "2                              NaN              N              NaN   \n",
       "3                  SINGLE USE VIAL              N              NaN   \n",
       "4  VIAL CONTAINS 10 DOSES OF 0.5ML              N              NaN   \n",
       "\n",
       "   NUMBER_OF_AIS LAST_UPDATE_DATE  AI_GROUP_NO CLASS_FFootnote *  \\\n",
       "0              1      03-DEC-2018    105826008       Vétérinaire   \n",
       "1              4      22-JUL-2021    451521100            Humain   \n",
       "2              4      22-JUL-2021    451521100            Humain   \n",
       "3              1      23-AUG-2022    162703001            Humain   \n",
       "4              1      18-MAY-2022    162722001            Humain   \n",
       "\n",
       "  BRAND_NAME_FFootnote *             DESCRIPTOR_FFootnote *  \n",
       "0                    NaN                                NaN  \n",
       "1                    NaN                                NaN  \n",
       "2                    NaN                                NaN  \n",
       "3                    NaN               FIOLE À USAGE UNIQUE  \n",
       "4                    NaN  FIOLE CONTIENT 10 DOSES DE 0,5 ML  "
      ]
     },
     "execution_count": 21,
     "metadata": {},
     "output_type": "execute_result"
    }
   ],
   "source": [
    "drug.head()"
   ]
  },
  {
   "cell_type": "code",
   "execution_count": 22,
   "id": "1450c1c2",
   "metadata": {},
   "outputs": [],
   "source": [
    "test_col =  ['DRUG_CODE', 'PRODUCT_CATEGORIZATION', 'CLASS', 'DRUG_IDENTIFICATION_NUMBER', 'BRAND_NAME', 'DESCRIPTOR', 'PEDIATRIC_FLAG', 'ACCESSION_NUMBER', 'NUMBER_OF_AIS', 'LAST_UPDATE_DATE', 'AI_GROUP_NO', 'CLASS_FFootnote *', 'BRAND_NAME_FFootnote *', 'DESCRIPTOR_FFootnote *']\n"
   ]
  },
  {
   "cell_type": "code",
   "execution_count": 23,
   "id": "36c5784c",
   "metadata": {},
   "outputs": [
    {
     "name": "stdout",
     "output_type": "stream",
     "text": [
      "<class 'pandas.core.frame.DataFrame'>\n",
      "Int64Index: 54822 entries, 0 to 35023\n",
      "Data columns (total 14 columns):\n",
      " #   Column                      Non-Null Count  Dtype \n",
      "---  ------                      --------------  ----- \n",
      " 0   DRUG_CODE                   54822 non-null  int64 \n",
      " 1   PRODUCT_CATEGORIZATION      7872 non-null   object\n",
      " 2   CLASS                       54822 non-null  object\n",
      " 3   DRUG_IDENTIFICATION_NUMBER  54822 non-null  object\n",
      " 4   BRAND_NAME                  54822 non-null  object\n",
      " 5   DESCRIPTOR                  2946 non-null   object\n",
      " 6   PEDIATRIC_FLAG              54822 non-null  object\n",
      " 7   ACCESSION_NUMBER            21134 non-null  object\n",
      " 8   NUMBER_OF_AIS               54822 non-null  int64 \n",
      " 9   LAST_UPDATE_DATE            54822 non-null  object\n",
      " 10  AI_GROUP_NO                 54822 non-null  int64 \n",
      " 11  CLASS_FFootnote *           54822 non-null  object\n",
      " 12  BRAND_NAME_FFootnote *      1442 non-null   object\n",
      " 13  DESCRIPTOR_FFootnote *      786 non-null    object\n",
      "dtypes: int64(3), object(11)\n",
      "memory usage: 6.3+ MB\n"
     ]
    }
   ],
   "source": [
    "drug.info()"
   ]
  },
  {
   "cell_type": "code",
   "execution_count": 24,
   "id": "30440c17",
   "metadata": {},
   "outputs": [
    {
     "data": {
      "text/plain": [
       "DRUG_CODE                         0\n",
       "PRODUCT_CATEGORIZATION        46950\n",
       "CLASS                             0\n",
       "DRUG_IDENTIFICATION_NUMBER        0\n",
       "BRAND_NAME                        0\n",
       "DESCRIPTOR                    51876\n",
       "PEDIATRIC_FLAG                    0\n",
       "ACCESSION_NUMBER              33688\n",
       "NUMBER_OF_AIS                     0\n",
       "LAST_UPDATE_DATE                  0\n",
       "AI_GROUP_NO                       0\n",
       "CLASS_FFootnote *                 0\n",
       "BRAND_NAME_FFootnote *        53380\n",
       "DESCRIPTOR_FFootnote *        54036\n",
       "dtype: int64"
      ]
     },
     "execution_count": 24,
     "metadata": {},
     "output_type": "execute_result"
    }
   ],
   "source": [
    "drug.isna().sum()"
   ]
  },
  {
   "cell_type": "markdown",
   "id": "a9aa417f",
   "metadata": {},
   "source": []
  },
  {
   "cell_type": "code",
   "execution_count": 25,
   "id": "07de2e6f",
   "metadata": {},
   "outputs": [
    {
     "data": {
      "text/html": [
       "<div>\n",
       "<style scoped>\n",
       "    .dataframe tbody tr th:only-of-type {\n",
       "        vertical-align: middle;\n",
       "    }\n",
       "\n",
       "    .dataframe tbody tr th {\n",
       "        vertical-align: top;\n",
       "    }\n",
       "\n",
       "    .dataframe thead th {\n",
       "        text-align: right;\n",
       "    }\n",
       "</style>\n",
       "<table border=\"1\" class=\"dataframe\">\n",
       "  <thead>\n",
       "    <tr style=\"text-align: right;\">\n",
       "      <th></th>\n",
       "      <th>DRUG_CODE</th>\n",
       "      <th>ACTIVE_INGREDIENT_CODE</th>\n",
       "      <th>INGREDIENT</th>\n",
       "      <th>INGREDIENT_SUPPLIED_IND</th>\n",
       "      <th>STRENGTH</th>\n",
       "      <th>STRENGTH_UNIT</th>\n",
       "      <th>STRENGTH_TYPE</th>\n",
       "      <th>DOSAGE_VALUE</th>\n",
       "      <th>BASE</th>\n",
       "      <th>DOSAGE_UNIT</th>\n",
       "      <th>NOTES</th>\n",
       "      <th>INGREDIENT_FFootnote*</th>\n",
       "      <th>STRENGTH_UNIT_FFootnote*</th>\n",
       "      <th>STRENGTH_TYPE_FFootnote*</th>\n",
       "      <th>DOSAGE_UNIT_FFootnote*</th>\n",
       "    </tr>\n",
       "  </thead>\n",
       "  <tbody>\n",
       "    <tr>\n",
       "      <th>0</th>\n",
       "      <td>43063</td>\n",
       "      <td>424</td>\n",
       "      <td>AZITHROMYCIN</td>\n",
       "      <td>I</td>\n",
       "      <td>250.0</td>\n",
       "      <td>MG</td>\n",
       "      <td>NaN</td>\n",
       "      <td>NaN</td>\n",
       "      <td>N</td>\n",
       "      <td>NaN</td>\n",
       "      <td>HISTORIC FREEFORM TEXT: AZITHROMYCIN ((AZITHRO...</td>\n",
       "      <td>Azithromycine</td>\n",
       "      <td>MG</td>\n",
       "      <td>NaN</td>\n",
       "      <td>NaN</td>\n",
       "    </tr>\n",
       "    <tr>\n",
       "      <th>1</th>\n",
       "      <td>43041</td>\n",
       "      <td>11085</td>\n",
       "      <td>DOBUTAMINE (DOBUTAMINE HYDROCHLORIDE)</td>\n",
       "      <td>I</td>\n",
       "      <td>250.0</td>\n",
       "      <td>MG</td>\n",
       "      <td>NaN</td>\n",
       "      <td>20.0</td>\n",
       "      <td>N</td>\n",
       "      <td>ML</td>\n",
       "      <td>HISTORIC FREEFORM TEXT: DOBUTAMINE ((AS DOBUTA...</td>\n",
       "      <td>Dobutamine (Chlorhydrate de dobutamine)</td>\n",
       "      <td>MG</td>\n",
       "      <td>NaN</td>\n",
       "      <td>ML</td>\n",
       "    </tr>\n",
       "    <tr>\n",
       "      <th>2</th>\n",
       "      <td>42652</td>\n",
       "      <td>150</td>\n",
       "      <td>ACETYLSALICYLIC ACID</td>\n",
       "      <td>I</td>\n",
       "      <td>325.0</td>\n",
       "      <td>MG</td>\n",
       "      <td>NaN</td>\n",
       "      <td>NaN</td>\n",
       "      <td>N</td>\n",
       "      <td>EVT</td>\n",
       "      <td>HISTORIC FREEFORM TEXT: ACETYLSALICYLIC ACID Q...</td>\n",
       "      <td>Acide acétylsalicylique</td>\n",
       "      <td>MG</td>\n",
       "      <td>NaN</td>\n",
       "      <td>NaN</td>\n",
       "    </tr>\n",
       "    <tr>\n",
       "      <th>3</th>\n",
       "      <td>46832</td>\n",
       "      <td>16202</td>\n",
       "      <td>RABIES VACCINE INACTIVATED (HUMAN DIPLOID-CELL...</td>\n",
       "      <td>I</td>\n",
       "      <td>2.5</td>\n",
       "      <td>UNIT</td>\n",
       "      <td>NaN</td>\n",
       "      <td>NaN</td>\n",
       "      <td>N</td>\n",
       "      <td>VIAL</td>\n",
       "      <td>HISTORIC FREEFORM TEXT: RABIES VACCINE DRIED H...</td>\n",
       "      <td>Vaccin antirabique inactivé (cultivé sur cellu...</td>\n",
       "      <td>Unité</td>\n",
       "      <td>NaN</td>\n",
       "      <td>Fiole</td>\n",
       "    </tr>\n",
       "    <tr>\n",
       "      <th>4</th>\n",
       "      <td>43846</td>\n",
       "      <td>1755</td>\n",
       "      <td>CARBOPLATIN</td>\n",
       "      <td>I</td>\n",
       "      <td>10.0</td>\n",
       "      <td>MG</td>\n",
       "      <td>NaN</td>\n",
       "      <td>NaN</td>\n",
       "      <td>N</td>\n",
       "      <td>ML</td>\n",
       "      <td>HISTORIC FREEFORM TEXT: CARBOPLATIN</td>\n",
       "      <td>Carboplatine</td>\n",
       "      <td>MG</td>\n",
       "      <td>NaN</td>\n",
       "      <td>ML</td>\n",
       "    </tr>\n",
       "  </tbody>\n",
       "</table>\n",
       "</div>"
      ],
      "text/plain": [
       "   DRUG_CODE  ACTIVE_INGREDIENT_CODE  \\\n",
       "0      43063                     424   \n",
       "1      43041                   11085   \n",
       "2      42652                     150   \n",
       "3      46832                   16202   \n",
       "4      43846                    1755   \n",
       "\n",
       "                                          INGREDIENT INGREDIENT_SUPPLIED_IND  \\\n",
       "0                                       AZITHROMYCIN                       I   \n",
       "1              DOBUTAMINE (DOBUTAMINE HYDROCHLORIDE)                       I   \n",
       "2                               ACETYLSALICYLIC ACID                       I   \n",
       "3  RABIES VACCINE INACTIVATED (HUMAN DIPLOID-CELL...                       I   \n",
       "4                                        CARBOPLATIN                       I   \n",
       "\n",
       "   STRENGTH STRENGTH_UNIT  STRENGTH_TYPE  DOSAGE_VALUE BASE DOSAGE_UNIT  \\\n",
       "0     250.0            MG            NaN           NaN    N         NaN   \n",
       "1     250.0            MG            NaN          20.0    N          ML   \n",
       "2     325.0            MG            NaN           NaN    N         EVT   \n",
       "3       2.5          UNIT            NaN           NaN    N        VIAL   \n",
       "4      10.0            MG            NaN           NaN    N          ML   \n",
       "\n",
       "                                               NOTES  \\\n",
       "0  HISTORIC FREEFORM TEXT: AZITHROMYCIN ((AZITHRO...   \n",
       "1  HISTORIC FREEFORM TEXT: DOBUTAMINE ((AS DOBUTA...   \n",
       "2  HISTORIC FREEFORM TEXT: ACETYLSALICYLIC ACID Q...   \n",
       "3  HISTORIC FREEFORM TEXT: RABIES VACCINE DRIED H...   \n",
       "4                HISTORIC FREEFORM TEXT: CARBOPLATIN   \n",
       "\n",
       "                               INGREDIENT_FFootnote* STRENGTH_UNIT_FFootnote*  \\\n",
       "0                                      Azithromycine                       MG   \n",
       "1            Dobutamine (Chlorhydrate de dobutamine)                       MG   \n",
       "2                            Acide acétylsalicylique                       MG   \n",
       "3  Vaccin antirabique inactivé (cultivé sur cellu...                    Unité   \n",
       "4                                       Carboplatine                       MG   \n",
       "\n",
       "   STRENGTH_TYPE_FFootnote* DOSAGE_UNIT_FFootnote*  \n",
       "0                       NaN                    NaN  \n",
       "1                       NaN                     ML  \n",
       "2                       NaN                    NaN  \n",
       "3                       NaN                  Fiole  \n",
       "4                       NaN                     ML  "
      ]
     },
     "execution_count": 25,
     "metadata": {},
     "output_type": "execute_result"
    }
   ],
   "source": [
    "ingred.head()"
   ]
  },
  {
   "cell_type": "code",
   "execution_count": 26,
   "id": "07b7682a",
   "metadata": {},
   "outputs": [
    {
     "name": "stdout",
     "output_type": "stream",
     "text": [
      "<class 'pandas.core.frame.DataFrame'>\n",
      "Int64Index: 115753 entries, 0 to 85334\n",
      "Data columns (total 15 columns):\n",
      " #   Column                    Non-Null Count   Dtype  \n",
      "---  ------                    --------------   -----  \n",
      " 0   DRUG_CODE                 115753 non-null  int64  \n",
      " 1   ACTIVE_INGREDIENT_CODE    115753 non-null  int64  \n",
      " 2   INGREDIENT                115753 non-null  object \n",
      " 3   INGREDIENT_SUPPLIED_IND   115753 non-null  object \n",
      " 4   STRENGTH                  115593 non-null  float64\n",
      " 5   STRENGTH_UNIT             115753 non-null  object \n",
      " 6   STRENGTH_TYPE             0 non-null       float64\n",
      " 7   DOSAGE_VALUE              11288 non-null   float64\n",
      " 8   BASE                      115753 non-null  object \n",
      " 9   DOSAGE_UNIT               63339 non-null   object \n",
      " 10  NOTES                     62987 non-null   object \n",
      " 11  INGREDIENT_FFootnote*     115664 non-null  object \n",
      " 12  STRENGTH_UNIT_FFootnote*  115753 non-null  object \n",
      " 13  STRENGTH_TYPE_FFootnote*  0 non-null       float64\n",
      " 14  DOSAGE_UNIT_FFootnote*    63061 non-null   object \n",
      "dtypes: float64(4), int64(2), object(9)\n",
      "memory usage: 14.1+ MB\n"
     ]
    }
   ],
   "source": [
    "ingred.info()"
   ]
  },
  {
   "cell_type": "code",
   "execution_count": 27,
   "id": "5caeedc7",
   "metadata": {},
   "outputs": [
    {
     "data": {
      "text/plain": [
       "DRUG_CODE                        0\n",
       "ACTIVE_INGREDIENT_CODE           0\n",
       "INGREDIENT                       0\n",
       "INGREDIENT_SUPPLIED_IND          0\n",
       "STRENGTH                       160\n",
       "STRENGTH_UNIT                    0\n",
       "STRENGTH_TYPE               115753\n",
       "DOSAGE_VALUE                104465\n",
       "BASE                             0\n",
       "DOSAGE_UNIT                  52414\n",
       "NOTES                        52766\n",
       "INGREDIENT_FFootnote*           89\n",
       "STRENGTH_UNIT_FFootnote*         0\n",
       "STRENGTH_TYPE_FFootnote*    115753\n",
       "DOSAGE_UNIT_FFootnote*       52692\n",
       "dtype: int64"
      ]
     },
     "execution_count": 27,
     "metadata": {},
     "output_type": "execute_result"
    }
   ],
   "source": [
    "ingred.isna().sum()"
   ]
  },
  {
   "cell_type": "markdown",
   "id": "a244786c",
   "metadata": {},
   "source": []
  },
  {
   "cell_type": "code",
   "execution_count": 28,
   "id": "222c31a9",
   "metadata": {},
   "outputs": [
    {
     "data": {
      "text/html": [
       "<div>\n",
       "<style scoped>\n",
       "    .dataframe tbody tr th:only-of-type {\n",
       "        vertical-align: middle;\n",
       "    }\n",
       "\n",
       "    .dataframe tbody tr th {\n",
       "        vertical-align: top;\n",
       "    }\n",
       "\n",
       "    .dataframe thead th {\n",
       "        text-align: right;\n",
       "    }\n",
       "</style>\n",
       "<table border=\"1\" class=\"dataframe\">\n",
       "  <thead>\n",
       "    <tr style=\"text-align: right;\">\n",
       "      <th></th>\n",
       "      <th>DRUG_CODE</th>\n",
       "      <th>MFR_CODE</th>\n",
       "      <th>COMPANY_CODE</th>\n",
       "      <th>COMPANY_NAME</th>\n",
       "      <th>COMPANY_TYPE</th>\n",
       "      <th>ADDRESS_MAILING_FLAG</th>\n",
       "      <th>ADDRESS_BILLING_FLAG</th>\n",
       "      <th>ADDRESS_NOTIFICATION_FLAG</th>\n",
       "      <th>ADDRESS_OTHER</th>\n",
       "      <th>SUITE_NUMBER</th>\n",
       "      <th>STREET_NAME</th>\n",
       "      <th>CITY_NAME</th>\n",
       "      <th>PROVINCE</th>\n",
       "      <th>COUNTRY</th>\n",
       "      <th>POSTAL_CODE</th>\n",
       "      <th>POST_OFFICE_BOX</th>\n",
       "      <th>PROVINCE_FFootnote*</th>\n",
       "      <th>COUNTRY_FFootnote*</th>\n",
       "    </tr>\n",
       "  </thead>\n",
       "  <tbody>\n",
       "    <tr>\n",
       "      <th>0</th>\n",
       "      <td>30557</td>\n",
       "      <td>ATL07</td>\n",
       "      <td>3659</td>\n",
       "      <td>LABORATOIRE ATLAS INC</td>\n",
       "      <td>DIN OWNER</td>\n",
       "      <td>Y</td>\n",
       "      <td>Y</td>\n",
       "      <td>Y</td>\n",
       "      <td>N</td>\n",
       "      <td>NaN</td>\n",
       "      <td>9600 BOUL. DES SCIENCES</td>\n",
       "      <td>MONTREAL</td>\n",
       "      <td>QUEBEC</td>\n",
       "      <td>CANADA</td>\n",
       "      <td>H1J 3B6</td>\n",
       "      <td>NaN</td>\n",
       "      <td>QUÉBEC</td>\n",
       "      <td>CANADA</td>\n",
       "    </tr>\n",
       "    <tr>\n",
       "      <th>1</th>\n",
       "      <td>28306</td>\n",
       "      <td>SOC07</td>\n",
       "      <td>5166</td>\n",
       "      <td>GROUPE SAVON OLYMPIC INC.</td>\n",
       "      <td>DIN OWNER</td>\n",
       "      <td>Y</td>\n",
       "      <td>Y</td>\n",
       "      <td>Y</td>\n",
       "      <td>N</td>\n",
       "      <td>NaN</td>\n",
       "      <td>2700 BOUL. DANIEL-JOHNSON</td>\n",
       "      <td>LAVAL</td>\n",
       "      <td>QUEBEC</td>\n",
       "      <td>CANADA</td>\n",
       "      <td>H7P 5Z7</td>\n",
       "      <td>NaN</td>\n",
       "      <td>QUÉBEC</td>\n",
       "      <td>CANADA</td>\n",
       "    </tr>\n",
       "    <tr>\n",
       "      <th>2</th>\n",
       "      <td>26307</td>\n",
       "      <td>GCC08</td>\n",
       "      <td>4231</td>\n",
       "      <td>GERMIPHENE CORPORATION</td>\n",
       "      <td>DIN OWNER</td>\n",
       "      <td>Y</td>\n",
       "      <td>Y</td>\n",
       "      <td>Y</td>\n",
       "      <td>N</td>\n",
       "      <td>NaN</td>\n",
       "      <td>1379 COLBORNE STREET EAST</td>\n",
       "      <td>BRANTFORD</td>\n",
       "      <td>ONTARIO</td>\n",
       "      <td>CANADA</td>\n",
       "      <td>N3T 5M1</td>\n",
       "      <td>NaN</td>\n",
       "      <td>ONTARIO</td>\n",
       "      <td>CANADA</td>\n",
       "    </tr>\n",
       "    <tr>\n",
       "      <th>3</th>\n",
       "      <td>62499</td>\n",
       "      <td>SRO08</td>\n",
       "      <td>5181</td>\n",
       "      <td>EMD SERONO, A DIVISION OF EMD INC., CANADA</td>\n",
       "      <td>DIN OWNER</td>\n",
       "      <td>Y</td>\n",
       "      <td>Y</td>\n",
       "      <td>Y</td>\n",
       "      <td>N</td>\n",
       "      <td>NaN</td>\n",
       "      <td>2695 NORTH SHERIDAN WAY, SUITE 200</td>\n",
       "      <td>MISSISSAUGA</td>\n",
       "      <td>ONTARIO</td>\n",
       "      <td>CANADA</td>\n",
       "      <td>L5K 2N6</td>\n",
       "      <td>NaN</td>\n",
       "      <td>ONTARIO</td>\n",
       "      <td>CANADA</td>\n",
       "    </tr>\n",
       "    <tr>\n",
       "      <th>4</th>\n",
       "      <td>38055</td>\n",
       "      <td>ODN07</td>\n",
       "      <td>4835</td>\n",
       "      <td>ODAN LABORATORIES LTD</td>\n",
       "      <td>DIN OWNER</td>\n",
       "      <td>Y</td>\n",
       "      <td>Y</td>\n",
       "      <td>Y</td>\n",
       "      <td>N</td>\n",
       "      <td>NaN</td>\n",
       "      <td>325 STILLVIEW AVENUE</td>\n",
       "      <td>POINTE-CLAIRE</td>\n",
       "      <td>QUEBEC</td>\n",
       "      <td>CANADA</td>\n",
       "      <td>H9R 2Y6</td>\n",
       "      <td>NaN</td>\n",
       "      <td>QUÉBEC</td>\n",
       "      <td>CANADA</td>\n",
       "    </tr>\n",
       "  </tbody>\n",
       "</table>\n",
       "</div>"
      ],
      "text/plain": [
       "   DRUG_CODE MFR_CODE  COMPANY_CODE  \\\n",
       "0      30557    ATL07          3659   \n",
       "1      28306    SOC07          5166   \n",
       "2      26307    GCC08          4231   \n",
       "3      62499    SRO08          5181   \n",
       "4      38055    ODN07          4835   \n",
       "\n",
       "                                 COMPANY_NAME COMPANY_TYPE  \\\n",
       "0                       LABORATOIRE ATLAS INC    DIN OWNER   \n",
       "1                   GROUPE SAVON OLYMPIC INC.    DIN OWNER   \n",
       "2                      GERMIPHENE CORPORATION    DIN OWNER   \n",
       "3  EMD SERONO, A DIVISION OF EMD INC., CANADA    DIN OWNER   \n",
       "4                       ODAN LABORATORIES LTD    DIN OWNER   \n",
       "\n",
       "  ADDRESS_MAILING_FLAG ADDRESS_BILLING_FLAG ADDRESS_NOTIFICATION_FLAG  \\\n",
       "0                    Y                    Y                         Y   \n",
       "1                    Y                    Y                         Y   \n",
       "2                    Y                    Y                         Y   \n",
       "3                    Y                    Y                         Y   \n",
       "4                    Y                    Y                         Y   \n",
       "\n",
       "  ADDRESS_OTHER SUITE_NUMBER                         STREET_NAME  \\\n",
       "0             N          NaN             9600 BOUL. DES SCIENCES   \n",
       "1             N          NaN           2700 BOUL. DANIEL-JOHNSON   \n",
       "2             N          NaN           1379 COLBORNE STREET EAST   \n",
       "3             N          NaN  2695 NORTH SHERIDAN WAY, SUITE 200   \n",
       "4             N          NaN                325 STILLVIEW AVENUE   \n",
       "\n",
       "       CITY_NAME PROVINCE COUNTRY POSTAL_CODE POST_OFFICE_BOX  \\\n",
       "0       MONTREAL   QUEBEC  CANADA     H1J 3B6             NaN   \n",
       "1          LAVAL   QUEBEC  CANADA     H7P 5Z7             NaN   \n",
       "2      BRANTFORD  ONTARIO  CANADA     N3T 5M1             NaN   \n",
       "3    MISSISSAUGA  ONTARIO  CANADA     L5K 2N6             NaN   \n",
       "4  POINTE-CLAIRE   QUEBEC  CANADA     H9R 2Y6             NaN   \n",
       "\n",
       "  PROVINCE_FFootnote* COUNTRY_FFootnote*  \n",
       "0              QUÉBEC             CANADA  \n",
       "1              QUÉBEC             CANADA  \n",
       "2             ONTARIO             CANADA  \n",
       "3             ONTARIO             CANADA  \n",
       "4              QUÉBEC             CANADA  "
      ]
     },
     "execution_count": 28,
     "metadata": {},
     "output_type": "execute_result"
    }
   ],
   "source": [
    "company.head()"
   ]
  },
  {
   "cell_type": "code",
   "execution_count": 29,
   "id": "fac0ecc0",
   "metadata": {},
   "outputs": [
    {
     "name": "stdout",
     "output_type": "stream",
     "text": [
      "<class 'pandas.core.frame.DataFrame'>\n",
      "Int64Index: 54822 entries, 0 to 35023\n",
      "Data columns (total 18 columns):\n",
      " #   Column                     Non-Null Count  Dtype \n",
      "---  ------                     --------------  ----- \n",
      " 0   DRUG_CODE                  54822 non-null  int64 \n",
      " 1   MFR_CODE                   31955 non-null  object\n",
      " 2   COMPANY_CODE               54822 non-null  int64 \n",
      " 3   COMPANY_NAME               54822 non-null  object\n",
      " 4   COMPANY_TYPE               54822 non-null  object\n",
      " 5   ADDRESS_MAILING_FLAG       54822 non-null  object\n",
      " 6   ADDRESS_BILLING_FLAG       54822 non-null  object\n",
      " 7   ADDRESS_NOTIFICATION_FLAG  54822 non-null  object\n",
      " 8   ADDRESS_OTHER              35527 non-null  object\n",
      " 9   SUITE_NUMBER               9343 non-null   object\n",
      " 10  STREET_NAME                54720 non-null  object\n",
      " 11  CITY_NAME                  54822 non-null  object\n",
      " 12  PROVINCE                   54822 non-null  object\n",
      " 13  COUNTRY                    54822 non-null  object\n",
      " 14  POSTAL_CODE                54791 non-null  object\n",
      " 15  POST_OFFICE_BOX            1764 non-null   object\n",
      " 16  PROVINCE_FFootnote*        53359 non-null  object\n",
      " 17  COUNTRY_FFootnote*         54822 non-null  object\n",
      "dtypes: int64(2), object(16)\n",
      "memory usage: 7.9+ MB\n"
     ]
    }
   ],
   "source": [
    "company.info()"
   ]
  },
  {
   "cell_type": "code",
   "execution_count": 30,
   "id": "ae6a7681",
   "metadata": {},
   "outputs": [
    {
     "data": {
      "text/plain": [
       "DRUG_CODE                        0\n",
       "MFR_CODE                     22867\n",
       "COMPANY_CODE                     0\n",
       "COMPANY_NAME                     0\n",
       "COMPANY_TYPE                     0\n",
       "ADDRESS_MAILING_FLAG             0\n",
       "ADDRESS_BILLING_FLAG             0\n",
       "ADDRESS_NOTIFICATION_FLAG        0\n",
       "ADDRESS_OTHER                19295\n",
       "SUITE_NUMBER                 45479\n",
       "STREET_NAME                    102\n",
       "CITY_NAME                        0\n",
       "PROVINCE                         0\n",
       "COUNTRY                          0\n",
       "POSTAL_CODE                     31\n",
       "POST_OFFICE_BOX              53058\n",
       "PROVINCE_FFootnote*           1463\n",
       "COUNTRY_FFootnote*               0\n",
       "dtype: int64"
      ]
     },
     "execution_count": 30,
     "metadata": {},
     "output_type": "execute_result"
    }
   ],
   "source": [
    "company.isna().sum()"
   ]
  },
  {
   "cell_type": "code",
   "execution_count": 31,
   "id": "01233d31",
   "metadata": {},
   "outputs": [
    {
     "data": {
      "text/html": [
       "<div>\n",
       "<style scoped>\n",
       "    .dataframe tbody tr th:only-of-type {\n",
       "        vertical-align: middle;\n",
       "    }\n",
       "\n",
       "    .dataframe tbody tr th {\n",
       "        vertical-align: top;\n",
       "    }\n",
       "\n",
       "    .dataframe thead th {\n",
       "        text-align: right;\n",
       "    }\n",
       "</style>\n",
       "<table border=\"1\" class=\"dataframe\">\n",
       "  <thead>\n",
       "    <tr style=\"text-align: right;\">\n",
       "      <th></th>\n",
       "      <th>DRUG_CODE</th>\n",
       "      <th>CURRENT_STATUS_FLAG</th>\n",
       "      <th>STATUS</th>\n",
       "      <th>HISTORY_DATE</th>\n",
       "      <th>STATUS_FFootnote*</th>\n",
       "      <th>LOT_NUMBERFootnote*</th>\n",
       "      <th>EXPIRATION_DATEFootnote*</th>\n",
       "    </tr>\n",
       "  </thead>\n",
       "  <tbody>\n",
       "    <tr>\n",
       "      <th>0</th>\n",
       "      <td>10000</td>\n",
       "      <td>N</td>\n",
       "      <td>APPROVED</td>\n",
       "      <td>02-MAR-2004</td>\n",
       "      <td>APPROUVÉ</td>\n",
       "      <td>NaN</td>\n",
       "      <td>NaN</td>\n",
       "    </tr>\n",
       "    <tr>\n",
       "      <th>1</th>\n",
       "      <td>10000</td>\n",
       "      <td>N</td>\n",
       "      <td>APPROVED</td>\n",
       "      <td>08-FEB-2018</td>\n",
       "      <td>APPROUVÉ</td>\n",
       "      <td>NaN</td>\n",
       "      <td>NaN</td>\n",
       "    </tr>\n",
       "    <tr>\n",
       "      <th>2</th>\n",
       "      <td>10000</td>\n",
       "      <td>N</td>\n",
       "      <td>APPROVED</td>\n",
       "      <td>15-MAY-1997</td>\n",
       "      <td>APPROUVÉ</td>\n",
       "      <td>NaN</td>\n",
       "      <td>NaN</td>\n",
       "    </tr>\n",
       "    <tr>\n",
       "      <th>3</th>\n",
       "      <td>10000</td>\n",
       "      <td>N</td>\n",
       "      <td>APPROVED</td>\n",
       "      <td>24-FEB-2004</td>\n",
       "      <td>APPROUVÉ</td>\n",
       "      <td>NaN</td>\n",
       "      <td>NaN</td>\n",
       "    </tr>\n",
       "    <tr>\n",
       "      <th>4</th>\n",
       "      <td>10000</td>\n",
       "      <td>N</td>\n",
       "      <td>APPROVED</td>\n",
       "      <td>27-JAN-2014</td>\n",
       "      <td>APPROUVÉ</td>\n",
       "      <td>NaN</td>\n",
       "      <td>NaN</td>\n",
       "    </tr>\n",
       "  </tbody>\n",
       "</table>\n",
       "</div>"
      ],
      "text/plain": [
       "   DRUG_CODE CURRENT_STATUS_FLAG    STATUS HISTORY_DATE STATUS_FFootnote*  \\\n",
       "0      10000                   N  APPROVED  02-MAR-2004          APPROUVÉ   \n",
       "1      10000                   N  APPROVED  08-FEB-2018          APPROUVÉ   \n",
       "2      10000                   N  APPROVED  15-MAY-1997          APPROUVÉ   \n",
       "3      10000                   N  APPROVED  24-FEB-2004          APPROUVÉ   \n",
       "4      10000                   N  APPROVED  27-JAN-2014          APPROUVÉ   \n",
       "\n",
       "  LOT_NUMBERFootnote* EXPIRATION_DATEFootnote*  \n",
       "0                 NaN                      NaN  \n",
       "1                 NaN                      NaN  \n",
       "2                 NaN                      NaN  \n",
       "3                 NaN                      NaN  \n",
       "4                 NaN                      NaN  "
      ]
     },
     "execution_count": 31,
     "metadata": {},
     "output_type": "execute_result"
    }
   ],
   "source": [
    "status.head()"
   ]
  },
  {
   "cell_type": "code",
   "execution_count": 32,
   "id": "9b304543",
   "metadata": {},
   "outputs": [
    {
     "name": "stdout",
     "output_type": "stream",
     "text": [
      "<class 'pandas.core.frame.DataFrame'>\n",
      "Int64Index: 158922 entries, 0 to 95218\n",
      "Data columns (total 7 columns):\n",
      " #   Column                    Non-Null Count   Dtype \n",
      "---  ------                    --------------   ----- \n",
      " 0   DRUG_CODE                 158922 non-null  int64 \n",
      " 1   CURRENT_STATUS_FLAG       158922 non-null  object\n",
      " 2   STATUS                    158922 non-null  object\n",
      " 3   HISTORY_DATE              158922 non-null  object\n",
      " 4   STATUS_FFootnote*         158922 non-null  object\n",
      " 5   LOT_NUMBERFootnote*       4281 non-null    object\n",
      " 6   EXPIRATION_DATEFootnote*  4264 non-null    object\n",
      "dtypes: int64(1), object(6)\n",
      "memory usage: 9.7+ MB\n"
     ]
    }
   ],
   "source": [
    "status.info()"
   ]
  },
  {
   "cell_type": "code",
   "execution_count": 33,
   "id": "32f24b5a",
   "metadata": {},
   "outputs": [
    {
     "data": {
      "text/plain": [
       "DRUG_CODE                        0\n",
       "CURRENT_STATUS_FLAG              0\n",
       "STATUS                           0\n",
       "HISTORY_DATE                     0\n",
       "STATUS_FFootnote*                0\n",
       "LOT_NUMBERFootnote*         154641\n",
       "EXPIRATION_DATEFootnote*    154658\n",
       "dtype: int64"
      ]
     },
     "execution_count": 33,
     "metadata": {},
     "output_type": "execute_result"
    }
   ],
   "source": [
    "status.isna().sum()"
   ]
  },
  {
   "cell_type": "code",
   "execution_count": 34,
   "id": "47556750",
   "metadata": {},
   "outputs": [
    {
     "data": {
      "text/html": [
       "<div>\n",
       "<style scoped>\n",
       "    .dataframe tbody tr th:only-of-type {\n",
       "        vertical-align: middle;\n",
       "    }\n",
       "\n",
       "    .dataframe tbody tr th {\n",
       "        vertical-align: top;\n",
       "    }\n",
       "\n",
       "    .dataframe thead th {\n",
       "        text-align: right;\n",
       "    }\n",
       "</style>\n",
       "<table border=\"1\" class=\"dataframe\">\n",
       "  <thead>\n",
       "    <tr style=\"text-align: right;\">\n",
       "      <th></th>\n",
       "      <th>DRUG_CODE</th>\n",
       "      <th>PHARM_FORM_CODE</th>\n",
       "      <th>PHARMACEUTICAL_FORM</th>\n",
       "      <th>PHARMACEUTICAL_FORM_FFootnote*</th>\n",
       "    </tr>\n",
       "  </thead>\n",
       "  <tbody>\n",
       "    <tr>\n",
       "      <th>0</th>\n",
       "      <td>10000</td>\n",
       "      <td>56</td>\n",
       "      <td>POWDER FOR SOLUTION</td>\n",
       "      <td>Poudre pour solution</td>\n",
       "    </tr>\n",
       "    <tr>\n",
       "      <th>1</th>\n",
       "      <td>100000</td>\n",
       "      <td>36</td>\n",
       "      <td>LOTION</td>\n",
       "      <td>Lotion</td>\n",
       "    </tr>\n",
       "    <tr>\n",
       "      <th>2</th>\n",
       "      <td>100001</td>\n",
       "      <td>36</td>\n",
       "      <td>LOTION</td>\n",
       "      <td>Lotion</td>\n",
       "    </tr>\n",
       "    <tr>\n",
       "      <th>3</th>\n",
       "      <td>100002</td>\n",
       "      <td>134</td>\n",
       "      <td>SOLUTION</td>\n",
       "      <td>Solution</td>\n",
       "    </tr>\n",
       "    <tr>\n",
       "      <th>4</th>\n",
       "      <td>100004</td>\n",
       "      <td>134</td>\n",
       "      <td>SOLUTION</td>\n",
       "      <td>Solution</td>\n",
       "    </tr>\n",
       "  </tbody>\n",
       "</table>\n",
       "</div>"
      ],
      "text/plain": [
       "   DRUG_CODE  PHARM_FORM_CODE  PHARMACEUTICAL_FORM  \\\n",
       "0      10000               56  POWDER FOR SOLUTION   \n",
       "1     100000               36               LOTION   \n",
       "2     100001               36               LOTION   \n",
       "3     100002              134             SOLUTION   \n",
       "4     100004              134             SOLUTION   \n",
       "\n",
       "  PHARMACEUTICAL_FORM_FFootnote*  \n",
       "0           Poudre pour solution  \n",
       "1                         Lotion  \n",
       "2                         Lotion  \n",
       "3                       Solution  \n",
       "4                       Solution  "
      ]
     },
     "execution_count": 34,
     "metadata": {},
     "output_type": "execute_result"
    }
   ],
   "source": [
    "form.head()"
   ]
  },
  {
   "cell_type": "code",
   "execution_count": 35,
   "id": "1c83860f",
   "metadata": {},
   "outputs": [
    {
     "name": "stdout",
     "output_type": "stream",
     "text": [
      "<class 'pandas.core.frame.DataFrame'>\n",
      "Int64Index: 59223 entries, 0 to 38905\n",
      "Data columns (total 4 columns):\n",
      " #   Column                          Non-Null Count  Dtype \n",
      "---  ------                          --------------  ----- \n",
      " 0   DRUG_CODE                       59223 non-null  int64 \n",
      " 1   PHARM_FORM_CODE                 59223 non-null  int64 \n",
      " 2   PHARMACEUTICAL_FORM             59223 non-null  object\n",
      " 3   PHARMACEUTICAL_FORM_FFootnote*  59192 non-null  object\n",
      "dtypes: int64(2), object(2)\n",
      "memory usage: 2.3+ MB\n"
     ]
    }
   ],
   "source": [
    "form.info()"
   ]
  },
  {
   "cell_type": "code",
   "execution_count": 36,
   "id": "cd2ef722",
   "metadata": {},
   "outputs": [
    {
     "data": {
      "text/plain": [
       "DRUG_CODE                          0\n",
       "PHARM_FORM_CODE                    0\n",
       "PHARMACEUTICAL_FORM                0\n",
       "PHARMACEUTICAL_FORM_FFootnote*    31\n",
       "dtype: int64"
      ]
     },
     "execution_count": 36,
     "metadata": {},
     "output_type": "execute_result"
    }
   ],
   "source": [
    "form.isna().sum()"
   ]
  },
  {
   "cell_type": "code",
   "execution_count": 37,
   "id": "9d2dde1c",
   "metadata": {},
   "outputs": [
    {
     "data": {
      "text/html": [
       "<div>\n",
       "<style scoped>\n",
       "    .dataframe tbody tr th:only-of-type {\n",
       "        vertical-align: middle;\n",
       "    }\n",
       "\n",
       "    .dataframe tbody tr th {\n",
       "        vertical-align: top;\n",
       "    }\n",
       "\n",
       "    .dataframe thead th {\n",
       "        text-align: right;\n",
       "    }\n",
       "</style>\n",
       "<table border=\"1\" class=\"dataframe\">\n",
       "  <thead>\n",
       "    <tr style=\"text-align: right;\">\n",
       "      <th></th>\n",
       "      <th>DRUG_CODE</th>\n",
       "      <th>SCHEDULE</th>\n",
       "      <th>SCHEDULE_FFootnote*</th>\n",
       "    </tr>\n",
       "  </thead>\n",
       "  <tbody>\n",
       "    <tr>\n",
       "      <th>0</th>\n",
       "      <td>10000</td>\n",
       "      <td>Prescription</td>\n",
       "      <td>Prescription</td>\n",
       "    </tr>\n",
       "    <tr>\n",
       "      <th>1</th>\n",
       "      <td>100000</td>\n",
       "      <td>OTC</td>\n",
       "      <td>En vente libre</td>\n",
       "    </tr>\n",
       "    <tr>\n",
       "      <th>2</th>\n",
       "      <td>100001</td>\n",
       "      <td>OTC</td>\n",
       "      <td>En vente libre</td>\n",
       "    </tr>\n",
       "    <tr>\n",
       "      <th>3</th>\n",
       "      <td>100002</td>\n",
       "      <td>Prescription</td>\n",
       "      <td>Prescription</td>\n",
       "    </tr>\n",
       "    <tr>\n",
       "      <th>4</th>\n",
       "      <td>100002</td>\n",
       "      <td>Schedule D</td>\n",
       "      <td>Annexe D</td>\n",
       "    </tr>\n",
       "  </tbody>\n",
       "</table>\n",
       "</div>"
      ],
      "text/plain": [
       "   DRUG_CODE      SCHEDULE SCHEDULE_FFootnote*\n",
       "0      10000  Prescription        Prescription\n",
       "1     100000           OTC      En vente libre\n",
       "2     100001           OTC      En vente libre\n",
       "3     100002  Prescription        Prescription\n",
       "4     100002    Schedule D            Annexe D"
      ]
     },
     "execution_count": 37,
     "metadata": {},
     "output_type": "execute_result"
    }
   ],
   "source": [
    "schedule.head()"
   ]
  },
  {
   "cell_type": "code",
   "execution_count": 38,
   "id": "4d041236",
   "metadata": {},
   "outputs": [
    {
     "name": "stdout",
     "output_type": "stream",
     "text": [
      "<class 'pandas.core.frame.DataFrame'>\n",
      "Int64Index: 55150 entries, 0 to 34881\n",
      "Data columns (total 3 columns):\n",
      " #   Column               Non-Null Count  Dtype \n",
      "---  ------               --------------  ----- \n",
      " 0   DRUG_CODE            55150 non-null  int64 \n",
      " 1   SCHEDULE             55150 non-null  object\n",
      " 2   SCHEDULE_FFootnote*  55150 non-null  object\n",
      "dtypes: int64(1), object(2)\n",
      "memory usage: 1.7+ MB\n"
     ]
    }
   ],
   "source": [
    "schedule.info()"
   ]
  },
  {
   "cell_type": "code",
   "execution_count": 39,
   "id": "44397120",
   "metadata": {},
   "outputs": [
    {
     "data": {
      "text/plain": [
       "DRUG_CODE              0\n",
       "SCHEDULE               0\n",
       "SCHEDULE_FFootnote*    0\n",
       "dtype: int64"
      ]
     },
     "execution_count": 39,
     "metadata": {},
     "output_type": "execute_result"
    }
   ],
   "source": [
    "schedule.isna().sum()"
   ]
  },
  {
   "cell_type": "code",
   "execution_count": 40,
   "id": "99cb79cf",
   "metadata": {},
   "outputs": [
    {
     "data": {
      "text/html": [
       "<div>\n",
       "<style scoped>\n",
       "    .dataframe tbody tr th:only-of-type {\n",
       "        vertical-align: middle;\n",
       "    }\n",
       "\n",
       "    .dataframe tbody tr th {\n",
       "        vertical-align: top;\n",
       "    }\n",
       "\n",
       "    .dataframe thead th {\n",
       "        text-align: right;\n",
       "    }\n",
       "</style>\n",
       "<table border=\"1\" class=\"dataframe\">\n",
       "  <thead>\n",
       "    <tr style=\"text-align: right;\">\n",
       "      <th></th>\n",
       "      <th>DRUG_CODE</th>\n",
       "      <th>TC_ATC_NUMBER</th>\n",
       "      <th>TC_ATC</th>\n",
       "      <th>TC_AHFS_NUMBER</th>\n",
       "    </tr>\n",
       "  </thead>\n",
       "  <tbody>\n",
       "    <tr>\n",
       "      <th>0</th>\n",
       "      <td>11942</td>\n",
       "      <td>J05AF01</td>\n",
       "      <td>ZIDOVUDINE</td>\n",
       "      <td>NaN</td>\n",
       "    </tr>\n",
       "    <tr>\n",
       "      <th>1</th>\n",
       "      <td>18315</td>\n",
       "      <td>N02AA03</td>\n",
       "      <td>HYDROMORPHONE</td>\n",
       "      <td>NaN</td>\n",
       "    </tr>\n",
       "    <tr>\n",
       "      <th>2</th>\n",
       "      <td>18319</td>\n",
       "      <td>B05ZA</td>\n",
       "      <td>HEMODIALYTICS, CONCENTRATES</td>\n",
       "      <td>NaN</td>\n",
       "    </tr>\n",
       "    <tr>\n",
       "      <th>3</th>\n",
       "      <td>18321</td>\n",
       "      <td>B05ZA</td>\n",
       "      <td>HEMODIALYTICS, CONCENTRATES</td>\n",
       "      <td>NaN</td>\n",
       "    </tr>\n",
       "    <tr>\n",
       "      <th>4</th>\n",
       "      <td>18323</td>\n",
       "      <td>N02AA03</td>\n",
       "      <td>HYDROMORPHONE</td>\n",
       "      <td>NaN</td>\n",
       "    </tr>\n",
       "  </tbody>\n",
       "</table>\n",
       "</div>"
      ],
      "text/plain": [
       "   DRUG_CODE TC_ATC_NUMBER                       TC_ATC  TC_AHFS_NUMBER\n",
       "0      11942       J05AF01                   ZIDOVUDINE             NaN\n",
       "1      18315       N02AA03                HYDROMORPHONE             NaN\n",
       "2      18319         B05ZA  HEMODIALYTICS, CONCENTRATES             NaN\n",
       "3      18321         B05ZA  HEMODIALYTICS, CONCENTRATES             NaN\n",
       "4      18323       N02AA03                HYDROMORPHONE             NaN"
      ]
     },
     "execution_count": 40,
     "metadata": {},
     "output_type": "execute_result"
    }
   ],
   "source": [
    "ther.head()"
   ]
  },
  {
   "cell_type": "code",
   "execution_count": 41,
   "id": "f71d210e",
   "metadata": {},
   "outputs": [
    {
     "name": "stdout",
     "output_type": "stream",
     "text": [
      "<class 'pandas.core.frame.DataFrame'>\n",
      "Int64Index: 53763 entries, 0 to 34395\n",
      "Data columns (total 4 columns):\n",
      " #   Column          Non-Null Count  Dtype  \n",
      "---  ------          --------------  -----  \n",
      " 0   DRUG_CODE       53763 non-null  int64  \n",
      " 1   TC_ATC_NUMBER   47225 non-null  object \n",
      " 2   TC_ATC          47225 non-null  object \n",
      " 3   TC_AHFS_NUMBER  0 non-null      float64\n",
      "dtypes: float64(1), int64(1), object(2)\n",
      "memory usage: 2.1+ MB\n"
     ]
    }
   ],
   "source": [
    "ther.info()"
   ]
  },
  {
   "cell_type": "code",
   "execution_count": 42,
   "id": "3a1b1d58",
   "metadata": {},
   "outputs": [
    {
     "data": {
      "text/plain": [
       "DRUG_CODE             0\n",
       "TC_ATC_NUMBER      6538\n",
       "TC_ATC             6538\n",
       "TC_AHFS_NUMBER    53763\n",
       "dtype: int64"
      ]
     },
     "execution_count": 42,
     "metadata": {},
     "output_type": "execute_result"
    }
   ],
   "source": [
    "ther.isna().sum()"
   ]
  },
  {
   "cell_type": "code",
   "execution_count": 43,
   "id": "d0b473b9",
   "metadata": {},
   "outputs": [
    {
     "data": {
      "text/html": [
       "<div>\n",
       "<style scoped>\n",
       "    .dataframe tbody tr th:only-of-type {\n",
       "        vertical-align: middle;\n",
       "    }\n",
       "\n",
       "    .dataframe tbody tr th {\n",
       "        vertical-align: top;\n",
       "    }\n",
       "\n",
       "    .dataframe thead th {\n",
       "        text-align: right;\n",
       "    }\n",
       "</style>\n",
       "<table border=\"1\" class=\"dataframe\">\n",
       "  <thead>\n",
       "    <tr style=\"text-align: right;\">\n",
       "      <th></th>\n",
       "      <th>DRUG_CODE</th>\n",
       "      <th>ROUTE_OF_ADMINISTRATION_CODE</th>\n",
       "      <th>ROUTE_OF_ADMINISTRATION</th>\n",
       "      <th>ROUTE_OF_ADMINISTRATION_FFootnote*</th>\n",
       "    </tr>\n",
       "  </thead>\n",
       "  <tbody>\n",
       "    <tr>\n",
       "      <th>0</th>\n",
       "      <td>10000</td>\n",
       "      <td>56</td>\n",
       "      <td>ORAL</td>\n",
       "      <td>Orale</td>\n",
       "    </tr>\n",
       "    <tr>\n",
       "      <th>1</th>\n",
       "      <td>100000</td>\n",
       "      <td>70</td>\n",
       "      <td>TOPICAL</td>\n",
       "      <td>Topique</td>\n",
       "    </tr>\n",
       "    <tr>\n",
       "      <th>2</th>\n",
       "      <td>100001</td>\n",
       "      <td>70</td>\n",
       "      <td>TOPICAL</td>\n",
       "      <td>Topique</td>\n",
       "    </tr>\n",
       "    <tr>\n",
       "      <th>3</th>\n",
       "      <td>100002</td>\n",
       "      <td>49</td>\n",
       "      <td>INTRAVENOUS</td>\n",
       "      <td>Intraveineuse</td>\n",
       "    </tr>\n",
       "    <tr>\n",
       "      <th>4</th>\n",
       "      <td>100004</td>\n",
       "      <td>22</td>\n",
       "      <td>INTRAMUSCULAR</td>\n",
       "      <td>Intramusculaire</td>\n",
       "    </tr>\n",
       "  </tbody>\n",
       "</table>\n",
       "</div>"
      ],
      "text/plain": [
       "   DRUG_CODE  ROUTE_OF_ADMINISTRATION_CODE ROUTE_OF_ADMINISTRATION  \\\n",
       "0      10000                            56                    ORAL   \n",
       "1     100000                            70                 TOPICAL   \n",
       "2     100001                            70                 TOPICAL   \n",
       "3     100002                            49             INTRAVENOUS   \n",
       "4     100004                            22           INTRAMUSCULAR   \n",
       "\n",
       "  ROUTE_OF_ADMINISTRATION_FFootnote*  \n",
       "0                              Orale  \n",
       "1                            Topique  \n",
       "2                            Topique  \n",
       "3                      Intraveineuse  \n",
       "4                    Intramusculaire  "
      ]
     },
     "execution_count": 43,
     "metadata": {},
     "output_type": "execute_result"
    }
   ],
   "source": [
    "route.head()"
   ]
  },
  {
   "cell_type": "code",
   "execution_count": 44,
   "id": "8fb90c70",
   "metadata": {},
   "outputs": [
    {
     "name": "stdout",
     "output_type": "stream",
     "text": [
      "<class 'pandas.core.frame.DataFrame'>\n",
      "Int64Index: 62920 entries, 0 to 38027\n",
      "Data columns (total 4 columns):\n",
      " #   Column                              Non-Null Count  Dtype \n",
      "---  ------                              --------------  ----- \n",
      " 0   DRUG_CODE                           62920 non-null  int64 \n",
      " 1   ROUTE_OF_ADMINISTRATION_CODE        62920 non-null  int64 \n",
      " 2   ROUTE_OF_ADMINISTRATION             62920 non-null  object\n",
      " 3   ROUTE_OF_ADMINISTRATION_FFootnote*  62914 non-null  object\n",
      "dtypes: int64(2), object(2)\n",
      "memory usage: 2.4+ MB\n"
     ]
    }
   ],
   "source": [
    "route.info()"
   ]
  },
  {
   "cell_type": "code",
   "execution_count": 45,
   "id": "8ba56a95",
   "metadata": {},
   "outputs": [
    {
     "data": {
      "text/plain": [
       "DRUG_CODE                             0\n",
       "ROUTE_OF_ADMINISTRATION_CODE          0\n",
       "ROUTE_OF_ADMINISTRATION               0\n",
       "ROUTE_OF_ADMINISTRATION_FFootnote*    6\n",
       "dtype: int64"
      ]
     },
     "execution_count": 45,
     "metadata": {},
     "output_type": "execute_result"
    }
   ],
   "source": [
    "route.isna().sum()"
   ]
  },
  {
   "cell_type": "code",
   "execution_count": null,
   "id": "ad5ab81e",
   "metadata": {},
   "outputs": [],
   "source": []
  },
  {
   "cell_type": "markdown",
   "id": "352d0a51",
   "metadata": {},
   "source": [
    "### Assessment for Data Quality:\n",
    "\n",
    "**drug** - The dataset contains 14 features and 54822 records. 3 features ar eintegral and most of the features are categorical. Also, 5 features of the daatset contains huge number of null values. these null values have to be take care during data transformation process.\n",
    "\n",
    "**ingred** - The dataset contains 15 features and 115753 records. 6 features are integer type, other 9 features are object type(string) . Here also, some features of the daatset contains null valiues.\n",
    "\n",
    "**company** - The dataset contains 54822 rows and 18 columns. Some coulmns contain null values. \n",
    "\n",
    "**status** - The dataset has 158922 rows and 7 columns\n",
    "\n",
    "**form** - \n",
    "\n",
    "**schedule** - \n",
    "\n",
    "**ther** - \n",
    "\n",
    "**route** - \n",
    "\n",
    "While checking the quality of the data, understanding the data without column names was a big challenge for us. We explicitly added the column names for each table.\n",
    "\n",
    "Another issue was deciding the common folder for data like how we should extract, merge/combine the data and where to store it so that we can proceed to our next step easily which will be data cleaning and transformation. \n",
    "\n",
    "Looking at the variables of the datasets, Some of the columns are hard to understand. Getting information about the features is a big challenge for our team.\n",
    "Overall, the quality of data requires some improvement. We need to clean the data and handle the null values, especially the columns where almost 90% of the values are not available. We also need to identify and handle the values which are not relevant. The data also need some transformation and pre-processing. "
   ]
  },
  {
   "cell_type": "markdown",
   "id": "c6547729",
   "metadata": {},
   "source": [
    "### Assessment for data fitness:\n",
    "\n",
    "Looking at the variables and the values of the data, the data contains enough information to answer our analytical questions. We need to perform cleaning and transformation, before proceeding to find analytical insights. we may also need to create categories, groups, measures and calculated columns to answer some of the questions. but overall we find that the fitness of the data is good enough to perform visualization.  \n",
    "\n",
    "Additionally, by observing the data, we found that drug is a fact table here and other tables are dimension tables. All the tables are related to drug table by drug_code column. By using this information, we can create aggregations on the drug table based on various other features on the dimension table. We can also Crate hierarchy by using the country, province and city features. Date field can also be used as a hierarchy. "
   ]
  },
  {
   "cell_type": "markdown",
   "id": "d1c818ce",
   "metadata": {},
   "source": [
    "### Ethical Assessment:\n",
    "\n",
    "\n",
    "\n"
   ]
  },
  {
   "cell_type": "markdown",
   "id": "e9cd800d",
   "metadata": {},
   "source": []
  },
  {
   "cell_type": "markdown",
   "id": "529458c9",
   "metadata": {},
   "source": [
    "## Exploratory data Analysis:"
   ]
  },
  {
   "cell_type": "code",
   "execution_count": 46,
   "id": "2aa6a9b4",
   "metadata": {},
   "outputs": [
    {
     "data": {
      "text/plain": [
       "<AxesSubplot: xlabel='CLASS', ylabel='count'>"
      ]
     },
     "execution_count": 46,
     "metadata": {},
     "output_type": "execute_result"
    },
    {
     "data": {
      "image/png": "[encoded data removed]",
      "text/plain": [
       "<Figure size 640x480 with 1 Axes>"
      ]
     },
     "metadata": {},
     "output_type": "display_data"
    }
   ],
   "source": [
    "sns.countplot(x=drug['CLASS'])"
   ]
  },
  {
   "cell_type": "code",
   "execution_count": 47,
   "id": "289e0fb2",
   "metadata": {},
   "outputs": [
    {
     "data": {
      "text/plain": [
       "<AxesSubplot: xlabel='count', ylabel='STATUS'>"
      ]
     },
     "execution_count": 47,
     "metadata": {},
     "output_type": "execute_result"
    },
    {
     "data": {
      "image/png": "[encoded data removed]",
      "text/plain": [
       "<Figure size 640x480 with 1 Axes>"
      ]
     },
     "metadata": {},
     "output_type": "display_data"
    }
   ],
   "source": [
    "sns.countplot(y=status['STATUS'])"
   ]
  },
  {
   "cell_type": "code",
   "execution_count": 48,
   "id": "20deb45d",
   "metadata": {},
   "outputs": [
    {
     "data": {
      "text/plain": [
       "<AxesSubplot: xlabel='count', ylabel='SCHEDULE'>"
      ]
     },
     "execution_count": 48,
     "metadata": {},
     "output_type": "execute_result"
    },
    {
     "data": {
      "image/png": "[encoded data removed]",
      "text/plain": [
       "<Figure size 640x480 with 1 Axes>"
      ]
     },
     "metadata": {},
     "output_type": "display_data"
    }
   ],
   "source": [
    "sns.countplot(y=schedule['SCHEDULE'])"
   ]
  },
  {
   "cell_type": "code",
   "execution_count": null,
   "id": "7eab8be1",
   "metadata": {},
   "outputs": [],
   "source": []
  },
  {
   "cell_type": "code",
   "execution_count": null,
   "id": "4304ba94",
   "metadata": {},
   "outputs": [],
   "source": []
  },
  {
   "cell_type": "markdown",
   "id": "3eac9b43",
   "metadata": {},
   "source": [
    "### Challenges:"
   ]
  },
  {
   "cell_type": "markdown",
   "id": "43d67729",
   "metadata": {},
   "source": [
    "- Incorporate external stakeholders according to their need such as shortage of medicine and drugs, how long take new medicine reach patients in Canada, and get some findings\n",
    "\n",
    "- Incorporated automatized tools like a chatbot that can allow getting simplified answers related to drugs, ingredients or any prescription in Canadian territory\n",
    "\n",
    "- Run benchmarks over other countries like the US or some European countries about how long takes for the release authorization of new products, bio equivalents drugs policies authorizations, or the distribution capacity to hospitals, pharmacies and community-related organizations."
   ]
  },
  {
   "cell_type": "code",
   "execution_count": null,
   "id": "f3b0eac3",
   "metadata": {},
   "outputs": [],
   "source": []
  }
 ],
 "metadata": {
  "kernelspec": {
   "display_name": "Python 3 (ipykernel)",
   "language": "python",
   "name": "python3"
  },
  "language_info": {
   "codemirror_mode": {
    "name": "ipython",
    "version": 3
   },
   "file_extension": ".py",
   "mimetype": "text/x-python",
   "name": "python",
   "nbconvert_exporter": "python",
   "pygments_lexer": "ipython3",
   "version": "3.9.7"
  }
 },
 "nbformat": 4,
 "nbformat_minor": 5
}
