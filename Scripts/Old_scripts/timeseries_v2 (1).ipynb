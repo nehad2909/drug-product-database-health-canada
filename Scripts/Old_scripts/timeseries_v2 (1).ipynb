{
 "cells": [
  {
   "cell_type": "code",
   "execution_count": 1,
   "id": "b4fb3ab7-3205-44e9-b693-469572cbaed5",
   "metadata": {},
   "outputs": [],
   "source": [
    "%matplotlib inline\n",
    "import numpy as np \n",
    "import pandas as pd\n",
    "import matplotlib.pyplot as plt\n",
    "import datetime\n",
    "from tabulate import tabulate\n",
    "import warnings\n",
    "warnings.filterwarnings('ignore')\n",
    "import pandas_datareader.data as web\n",
    "import datetime as dt\n",
    "from pandas_datareader import data as pdr\n",
    "import yfinance as yfin\n",
    "yfin.pdr_override()\n",
    "from tabulate import tabulate\n",
    "from statsmodels.tsa.arima.model import ARIMA\n",
    "from statsmodels.graphics.tsaplots import plot_acf, plot_pacf\n",
    "from sklearn.metrics import mean_squared_error, mean_absolute_error\n",
    "from statsmodels.tsa.stattools import adfuller"
   ]
  },
  {
   "cell_type": "code",
   "execution_count": 2,
   "id": "c948eaba-bc38-4133-a69b-57569be01bda",
   "metadata": {},
   "outputs": [
    {
     "data": {
      "text/html": [
       "<div>\n",
       "<style scoped>\n",
       "    .dataframe tbody tr th:only-of-type {\n",
       "        vertical-align: middle;\n",
       "    }\n",
       "\n",
       "    .dataframe tbody tr th {\n",
       "        vertical-align: top;\n",
       "    }\n",
       "\n",
       "    .dataframe thead th {\n",
       "        text-align: right;\n",
       "    }\n",
       "</style>\n",
       "<table border=\"1\" class=\"dataframe\">\n",
       "  <thead>\n",
       "    <tr style=\"text-align: right;\">\n",
       "      <th></th>\n",
       "      <th>file_name</th>\n",
       "      <th>report_id</th>\n",
       "      <th>drug_identification_number</th>\n",
       "      <th>brand_name</th>\n",
       "      <th>company_name</th>\n",
       "      <th>common_or_proper_name</th>\n",
       "      <th>ingredients</th>\n",
       "      <th>strength_s</th>\n",
       "      <th>packaging_size</th>\n",
       "      <th>actual_start_date</th>\n",
       "      <th>actual_end_date</th>\n",
       "    </tr>\n",
       "  </thead>\n",
       "  <tbody>\n",
       "    <tr>\n",
       "      <th>19416</th>\n",
       "      <td>2023_Canada_Shortage.xlsx</td>\n",
       "      <td>183684</td>\n",
       "      <td>2373130.0</td>\n",
       "      <td>XYLOCAINE 2% WITH EPINEPHRINE 1:200000</td>\n",
       "      <td>ASPEN PHARMACARE CANADA INC.</td>\n",
       "      <td>lidocaine HCI 2% w/epin. 1:200M 10x20mL MD Vial</td>\n",
       "      <td>EPINEPHRINE\\r LIDOCAINE HYDROCHLORIDE</td>\n",
       "      <td>0.005MG\\r 20MG</td>\n",
       "      <td>10 vials</td>\n",
       "      <td>NaN</td>\n",
       "      <td>NaN</td>\n",
       "    </tr>\n",
       "    <tr>\n",
       "      <th>19417</th>\n",
       "      <td>2023_Canada_Shortage.xlsx</td>\n",
       "      <td>185721</td>\n",
       "      <td>2153432.0</td>\n",
       "      <td>ZINECARD</td>\n",
       "      <td>PFIZER CANADA ULC</td>\n",
       "      <td>ZINECARD</td>\n",
       "      <td>DEXRAZOXANE</td>\n",
       "      <td>250MG</td>\n",
       "      <td>25mL vial</td>\n",
       "      <td>2023-02-28T00:00:00Z</td>\n",
       "      <td>NaN</td>\n",
       "    </tr>\n",
       "    <tr>\n",
       "      <th>19418</th>\n",
       "      <td>2023_Canada_Shortage.xlsx</td>\n",
       "      <td>181739</td>\n",
       "      <td>2401606.0</td>\n",
       "      <td>ZOLEDRONIC ACID - Z</td>\n",
       "      <td>SANDOZ CANADA INCORPORATED</td>\n",
       "      <td>ZOLEDRONIC ACID</td>\n",
       "      <td>ZOLEDRONIC ACID</td>\n",
       "      <td>4MG</td>\n",
       "      <td>5ML</td>\n",
       "      <td>2023-01-18T00:00:00Z</td>\n",
       "      <td>2023-01-31T00:00:00Z</td>\n",
       "    </tr>\n",
       "    <tr>\n",
       "      <th>19419</th>\n",
       "      <td>2023_Canada_Shortage.xlsx</td>\n",
       "      <td>181295</td>\n",
       "      <td>2132702.0</td>\n",
       "      <td>ZOLOFT</td>\n",
       "      <td>UPJOHN CANADA ULC</td>\n",
       "      <td>ZOLOFT</td>\n",
       "      <td>SERTRALINE</td>\n",
       "      <td>25MG</td>\n",
       "      <td>100</td>\n",
       "      <td>2023-02-06T00:00:00Z</td>\n",
       "      <td>NaN</td>\n",
       "    </tr>\n",
       "    <tr>\n",
       "      <th>19420</th>\n",
       "      <td>2023_Canada_Shortage.xlsx</td>\n",
       "      <td>184552</td>\n",
       "      <td>2132702.0</td>\n",
       "      <td>ZOLOFT</td>\n",
       "      <td>UPJOHN CANADA ULC</td>\n",
       "      <td>ZOLFT</td>\n",
       "      <td>SERTRALINE</td>\n",
       "      <td>25MG</td>\n",
       "      <td>100</td>\n",
       "      <td>2023-02-07T00:00:00Z</td>\n",
       "      <td>NaN</td>\n",
       "    </tr>\n",
       "  </tbody>\n",
       "</table>\n",
       "</div>"
      ],
      "text/plain": [
       "                       file_name  report_id  drug_identification_number  \\\n",
       "19416  2023_Canada_Shortage.xlsx     183684                   2373130.0   \n",
       "19417  2023_Canada_Shortage.xlsx     185721                   2153432.0   \n",
       "19418  2023_Canada_Shortage.xlsx     181739                   2401606.0   \n",
       "19419  2023_Canada_Shortage.xlsx     181295                   2132702.0   \n",
       "19420  2023_Canada_Shortage.xlsx     184552                   2132702.0   \n",
       "\n",
       "                                   brand_name                  company_name  \\\n",
       "19416  XYLOCAINE 2% WITH EPINEPHRINE 1:200000  ASPEN PHARMACARE CANADA INC.   \n",
       "19417                                ZINECARD             PFIZER CANADA ULC   \n",
       "19418                     ZOLEDRONIC ACID - Z    SANDOZ CANADA INCORPORATED   \n",
       "19419                                  ZOLOFT             UPJOHN CANADA ULC   \n",
       "19420                                  ZOLOFT             UPJOHN CANADA ULC   \n",
       "\n",
       "                                 common_or_proper_name  \\\n",
       "19416  lidocaine HCI 2% w/epin. 1:200M 10x20mL MD Vial   \n",
       "19417                                         ZINECARD   \n",
       "19418                                  ZOLEDRONIC ACID   \n",
       "19419                                           ZOLOFT   \n",
       "19420                                            ZOLFT   \n",
       "\n",
       "                                 ingredients      strength_s packaging_size  \\\n",
       "19416  EPINEPHRINE\\r LIDOCAINE HYDROCHLORIDE  0.005MG\\r 20MG       10 vials   \n",
       "19417                            DEXRAZOXANE           250MG      25mL vial   \n",
       "19418                        ZOLEDRONIC ACID             4MG            5ML   \n",
       "19419                             SERTRALINE            25MG            100   \n",
       "19420                             SERTRALINE            25MG            100   \n",
       "\n",
       "          actual_start_date       actual_end_date  \n",
       "19416                   NaN                   NaN  \n",
       "19417  2023-02-28T00:00:00Z                   NaN  \n",
       "19418  2023-01-18T00:00:00Z  2023-01-31T00:00:00Z  \n",
       "19419  2023-02-06T00:00:00Z                   NaN  \n",
       "19420  2023-02-07T00:00:00Z                   NaN  "
      ]
     },
     "execution_count": 2,
     "metadata": {},
     "output_type": "execute_result"
    }
   ],
   "source": [
    "df = pd.read_csv(\"combined_data.csv\")\n",
    "df.tail()"
   ]
  },
  {
   "cell_type": "code",
   "execution_count": null,
   "id": "3167832c-eddb-4e12-a610-2610da9e3363",
   "metadata": {},
   "outputs": [],
   "source": []
  },
  {
   "cell_type": "code",
   "execution_count": 3,
   "id": "24bc91f3-9ade-4005-9265-57c8704ab0c7",
   "metadata": {},
   "outputs": [
    {
     "data": {
      "text/plain": [
       "file_name                      object\n",
       "report_id                       int64\n",
       "drug_identification_number    float64\n",
       "brand_name                     object\n",
       "company_name                   object\n",
       "common_or_proper_name          object\n",
       "ingredients                    object\n",
       "strength_s                     object\n",
       "packaging_size                 object\n",
       "actual_start_date              object\n",
       "actual_end_date                object\n",
       "dtype: object"
      ]
     },
     "execution_count": 3,
     "metadata": {},
     "output_type": "execute_result"
    }
   ],
   "source": [
    "df.dtypes"
   ]
  },
  {
   "cell_type": "code",
   "execution_count": null,
   "id": "04742651-bb9c-4b88-ab7b-3cb793678e74",
   "metadata": {},
   "outputs": [],
   "source": []
  },
  {
   "cell_type": "code",
   "execution_count": 4,
   "id": "6f600b74-d4f1-4a32-8cca-ce0b9a21c7e1",
   "metadata": {},
   "outputs": [],
   "source": [
    "df['actual_start_date'] = df['actual_start_date'].astype('datetime64[D]')"
   ]
  },
  {
   "cell_type": "code",
   "execution_count": 5,
   "id": "7324c88b-f3c4-4e0a-94af-a8575efbe490",
   "metadata": {},
   "outputs": [],
   "source": [
    "df['actual_end_date'] = df['actual_end_date'].astype('datetime64[D]')"
   ]
  },
  {
   "cell_type": "code",
   "execution_count": null,
   "id": "c33e6d82-1b73-49d9-899b-357dd5fa9670",
   "metadata": {},
   "outputs": [],
   "source": []
  },
  {
   "cell_type": "code",
   "execution_count": 6,
   "id": "0526bb17-3583-4595-b2d2-48daa4c4ad36",
   "metadata": {},
   "outputs": [],
   "source": [
    "df['drug_identification_number'] = df['drug_identification_number'].fillna(0)\n",
    "df['drug_identification_number'] = df['drug_identification_number'].astype('int')"
   ]
  },
  {
   "cell_type": "code",
   "execution_count": 7,
   "id": "9caaec11-eb8a-4482-b974-7db31527e420",
   "metadata": {},
   "outputs": [
    {
     "data": {
      "text/plain": [
       "file_name                             object\n",
       "report_id                              int64\n",
       "drug_identification_number             int32\n",
       "brand_name                            object\n",
       "company_name                          object\n",
       "common_or_proper_name                 object\n",
       "ingredients                           object\n",
       "strength_s                            object\n",
       "packaging_size                        object\n",
       "actual_start_date             datetime64[ns]\n",
       "actual_end_date               datetime64[ns]\n",
       "dtype: object"
      ]
     },
     "execution_count": 7,
     "metadata": {},
     "output_type": "execute_result"
    }
   ],
   "source": [
    "df.dtypes"
   ]
  },
  {
   "cell_type": "code",
   "execution_count": null,
   "id": "a60afa9b-d122-4636-b608-2ad06d3097ad",
   "metadata": {},
   "outputs": [],
   "source": []
  },
  {
   "cell_type": "code",
   "execution_count": 8,
   "id": "c2426752-8938-4302-a463-2dc5859db63c",
   "metadata": {},
   "outputs": [],
   "source": [
    "df=df.dropna(subset=['actual_start_date','actual_end_date'] )"
   ]
  },
  {
   "cell_type": "code",
   "execution_count": 9,
   "id": "b26c5ffd-e5f8-4215-a0c7-175790391cd2",
   "metadata": {},
   "outputs": [],
   "source": [
    "df=df.drop_duplicates(\"report_id\", keep=False)"
   ]
  },
  {
   "cell_type": "code",
   "execution_count": null,
   "id": "b91efc36-c514-4d25-bc9a-14e3f48a1569",
   "metadata": {},
   "outputs": [],
   "source": []
  },
  {
   "cell_type": "code",
   "execution_count": 10,
   "id": "f70bb4e0-c132-4990-9ef4-a3bda658d016",
   "metadata": {},
   "outputs": [],
   "source": [
    "df['Days']= df['actual_end_date']-df['actual_start_date']"
   ]
  },
  {
   "cell_type": "code",
   "execution_count": 11,
   "id": "772188c5",
   "metadata": {},
   "outputs": [],
   "source": [
    "df['Days2'] = df['Days'].dt.days\n",
    "df['Days2']=df['Days2'].astype('int')"
   ]
  },
  {
   "cell_type": "code",
   "execution_count": 12,
   "id": "bd953637-7165-4e07-9760-4b4c7b67861c",
   "metadata": {},
   "outputs": [],
   "source": [
    "# \n",
    "df['file_name'] = df['file_name'].str[0:4]"
   ]
  },
  {
   "cell_type": "code",
   "execution_count": 13,
   "id": "109af227-ccd3-4bc4-b83b-7b54193d2244",
   "metadata": {},
   "outputs": [],
   "source": [
    "df.to_csv(\"data.csv\", index=False)"
   ]
  },
  {
   "cell_type": "code",
   "execution_count": 14,
   "id": "176fdaa8-7112-4c75-aa58-8bc0de65b307",
   "metadata": {},
   "outputs": [
    {
     "name": "stdout",
     "output_type": "stream",
     "text": [
      "<class 'pandas.core.frame.DataFrame'>\n",
      "Int64Index: 11427 entries, 1 to 19418\n",
      "Columns: 13 entries, file_name to Days2\n",
      "dtypes: datetime64[ns](2), int32(2), int64(1), object(7), timedelta64[ns](1)\n",
      "memory usage: 1.1+ MB\n"
     ]
    }
   ],
   "source": [
    "df.info(verbose=False)"
   ]
  },
  {
   "cell_type": "code",
   "execution_count": 15,
   "id": "b1cc641e-3f2a-4456-89c6-4a04d2d2ed7d",
   "metadata": {},
   "outputs": [
    {
     "data": {
      "text/plain": [
       "0    717002\n",
       "dtype: int32"
      ]
     },
     "execution_count": 15,
     "metadata": {},
     "output_type": "execute_result"
    }
   ],
   "source": [
    "din = df['drug_identification_number'].mode()\n",
    "din"
   ]
  },
  {
   "cell_type": "code",
   "execution_count": 16,
   "id": "41c7649f-aa40-4e7e-b4ab-b1028e39cb25",
   "metadata": {},
   "outputs": [],
   "source": [
    "col_list = ['actual_start_date', 'Days2']\n",
    "df2 = df[col_list]\n",
    "df2 = df2.loc[(df['actual_start_date'] >= '2017-01-01')]\n"
   ]
  },
  {
   "cell_type": "code",
   "execution_count": 17,
   "id": "6a4d0045-e7e1-47d3-bab6-816f0ce17bb1",
   "metadata": {},
   "outputs": [
    {
     "data": {
      "text/html": [
       "<div>\n",
       "<style scoped>\n",
       "    .dataframe tbody tr th:only-of-type {\n",
       "        vertical-align: middle;\n",
       "    }\n",
       "\n",
       "    .dataframe tbody tr th {\n",
       "        vertical-align: top;\n",
       "    }\n",
       "\n",
       "    .dataframe thead th {\n",
       "        text-align: right;\n",
       "    }\n",
       "</style>\n",
       "<table border=\"1\" class=\"dataframe\">\n",
       "  <thead>\n",
       "    <tr style=\"text-align: right;\">\n",
       "      <th></th>\n",
       "      <th>actual_start_date</th>\n",
       "      <th>Days2</th>\n",
       "    </tr>\n",
       "  </thead>\n",
       "  <tbody>\n",
       "    <tr>\n",
       "      <th>1</th>\n",
       "      <td>2017-11-15</td>\n",
       "      <td>6</td>\n",
       "    </tr>\n",
       "    <tr>\n",
       "      <th>2</th>\n",
       "      <td>2018-03-01</td>\n",
       "      <td>28</td>\n",
       "    </tr>\n",
       "    <tr>\n",
       "      <th>4</th>\n",
       "      <td>2018-01-19</td>\n",
       "      <td>42</td>\n",
       "    </tr>\n",
       "    <tr>\n",
       "      <th>6</th>\n",
       "      <td>2017-11-17</td>\n",
       "      <td>122</td>\n",
       "    </tr>\n",
       "    <tr>\n",
       "      <th>8</th>\n",
       "      <td>2017-09-13</td>\n",
       "      <td>428</td>\n",
       "    </tr>\n",
       "    <tr>\n",
       "      <th>...</th>\n",
       "      <td>...</td>\n",
       "      <td>...</td>\n",
       "    </tr>\n",
       "    <tr>\n",
       "      <th>19389</th>\n",
       "      <td>2023-01-09</td>\n",
       "      <td>9</td>\n",
       "    </tr>\n",
       "    <tr>\n",
       "      <th>19405</th>\n",
       "      <td>2023-01-26</td>\n",
       "      <td>19</td>\n",
       "    </tr>\n",
       "    <tr>\n",
       "      <th>19406</th>\n",
       "      <td>2023-01-11</td>\n",
       "      <td>34</td>\n",
       "    </tr>\n",
       "    <tr>\n",
       "      <th>19410</th>\n",
       "      <td>2023-01-31</td>\n",
       "      <td>7</td>\n",
       "    </tr>\n",
       "    <tr>\n",
       "      <th>19418</th>\n",
       "      <td>2023-01-18</td>\n",
       "      <td>13</td>\n",
       "    </tr>\n",
       "  </tbody>\n",
       "</table>\n",
       "<p>11138 rows × 2 columns</p>\n",
       "</div>"
      ],
      "text/plain": [
       "      actual_start_date  Days2\n",
       "1            2017-11-15      6\n",
       "2            2018-03-01     28\n",
       "4            2018-01-19     42\n",
       "6            2017-11-17    122\n",
       "8            2017-09-13    428\n",
       "...                 ...    ...\n",
       "19389        2023-01-09      9\n",
       "19405        2023-01-26     19\n",
       "19406        2023-01-11     34\n",
       "19410        2023-01-31      7\n",
       "19418        2023-01-18     13\n",
       "\n",
       "[11138 rows x 2 columns]"
      ]
     },
     "execution_count": 17,
     "metadata": {},
     "output_type": "execute_result"
    }
   ],
   "source": [
    "df2"
   ]
  },
  {
   "cell_type": "code",
   "execution_count": 18,
   "id": "73f1f3cb",
   "metadata": {},
   "outputs": [],
   "source": [
    "df2['actual_start_date'] = df2['actual_start_date'].astype('datetime64[D]')"
   ]
  },
  {
   "cell_type": "code",
   "execution_count": 19,
   "id": "b320e2ab-442b-4969-b194-fd2107eff9dc",
   "metadata": {},
   "outputs": [
    {
     "data": {
      "text/plain": [
       "actual_start_date    datetime64[ns]\n",
       "Days2                         int32\n",
       "dtype: object"
      ]
     },
     "execution_count": 19,
     "metadata": {},
     "output_type": "execute_result"
    }
   ],
   "source": [
    "df2.dtypes"
   ]
  },
  {
   "cell_type": "code",
   "execution_count": 20,
   "id": "c478069c",
   "metadata": {},
   "outputs": [],
   "source": [
    "df2=df2.dropna(subset=['actual_start_date','Days2'] )\n"
   ]
  },
  {
   "cell_type": "code",
   "execution_count": 21,
   "id": "938af85e-1300-43a0-aadb-c9f285236779",
   "metadata": {},
   "outputs": [],
   "source": [
    "df2.set_index('actual_start_date', inplace=True)"
   ]
  },
  {
   "cell_type": "code",
   "execution_count": 22,
   "id": "79239057-7489-455b-b3d3-2af176837813",
   "metadata": {},
   "outputs": [
    {
     "data": {
      "text/html": [
       "<div>\n",
       "<style scoped>\n",
       "    .dataframe tbody tr th:only-of-type {\n",
       "        vertical-align: middle;\n",
       "    }\n",
       "\n",
       "    .dataframe tbody tr th {\n",
       "        vertical-align: top;\n",
       "    }\n",
       "\n",
       "    .dataframe thead th {\n",
       "        text-align: right;\n",
       "    }\n",
       "</style>\n",
       "<table border=\"1\" class=\"dataframe\">\n",
       "  <thead>\n",
       "    <tr style=\"text-align: right;\">\n",
       "      <th></th>\n",
       "      <th>Days2</th>\n",
       "    </tr>\n",
       "    <tr>\n",
       "      <th>actual_start_date</th>\n",
       "      <th></th>\n",
       "    </tr>\n",
       "  </thead>\n",
       "  <tbody>\n",
       "    <tr>\n",
       "      <th>2017-11-15</th>\n",
       "      <td>6</td>\n",
       "    </tr>\n",
       "    <tr>\n",
       "      <th>2018-03-01</th>\n",
       "      <td>28</td>\n",
       "    </tr>\n",
       "    <tr>\n",
       "      <th>2018-01-19</th>\n",
       "      <td>42</td>\n",
       "    </tr>\n",
       "    <tr>\n",
       "      <th>2017-11-17</th>\n",
       "      <td>122</td>\n",
       "    </tr>\n",
       "    <tr>\n",
       "      <th>2017-09-13</th>\n",
       "      <td>428</td>\n",
       "    </tr>\n",
       "  </tbody>\n",
       "</table>\n",
       "</div>"
      ],
      "text/plain": [
       "                   Days2\n",
       "actual_start_date       \n",
       "2017-11-15             6\n",
       "2018-03-01            28\n",
       "2018-01-19            42\n",
       "2017-11-17           122\n",
       "2017-09-13           428"
      ]
     },
     "execution_count": 22,
     "metadata": {},
     "output_type": "execute_result"
    }
   ],
   "source": [
    "df2.head()"
   ]
  },
  {
   "cell_type": "code",
   "execution_count": 23,
   "id": "100b714f-2b16-4859-9935-351d37d7a5f0",
   "metadata": {},
   "outputs": [],
   "source": [
    "#Split the dataset for training and testing dataset\n",
    "# train = df2.loc[df2.index < 2022-01-01]\n",
    "train = df2.loc[df2.index < \"2022-01-01\"]\n",
    "test = df2.loc[df2.index >= \"2022-01-01\"]"
   ]
  },
  {
   "cell_type": "code",
   "execution_count": 52,
   "id": "6b43a8ee-af68-4721-b6cc-ea010090493a",
   "metadata": {},
   "outputs": [
    {
     "name": "stdout",
     "output_type": "stream",
     "text": [
      "ADF Statistic: -9.614924\n",
      "p-value: 0.000000\n",
      "Critical Values:\n",
      "\t1%: -3.431\n",
      "\t5%: -2.862\n",
      "\t10%: -2.567\n"
     ]
    }
   ],
   "source": [
    "result = adfuller(df2['Days2'])\n",
    "print('ADF Statistic: %f' % result[0])\n",
    "print('p-value: %f' % result[1])\n",
    "print('Critical Values:')\n",
    "for key, value in result[4].items():\n",
    "  print('\\t%s: %.3f' % (key, value))"
   ]
  },
  {
   "cell_type": "code",
   "execution_count": 51,
   "id": "32c06e04-8787-4192-88c5-fb3783352da4",
   "metadata": {},
   "outputs": [
    {
     "data": {
      "text/plain": [
       "<AxesSubplot:xlabel='actual_start_date'>"
      ]
     },
     "execution_count": 51,
     "metadata": {},
     "output_type": "execute_result"
    },
    {
     "data": {
      "image/png": "[encoded data removed]",
      "text/plain": [
       "<Figure size 640x480 with 1 Axes>"
      ]
     },
     "metadata": {},
     "output_type": "display_data"
    }
   ],
   "source": [
    "df2.plot()"
   ]
  },
  {
   "cell_type": "code",
   "execution_count": 25,
   "id": "976f75ff-0a13-49cd-a4d2-cc90f7e74b22",
   "metadata": {},
   "outputs": [],
   "source": [
    "# If the time series is not stationary, apply differencing to make it stationary\n",
    "if result[1] > 0.05:\n",
    "    diff = df2['Days2'].diff().dropna()\n",
    "else:\n",
    "    diff = df2['Days2']"
   ]
  },
  {
   "cell_type": "code",
   "execution_count": 26,
   "id": "d7003144-6d67-420d-b355-919e2a841db0",
   "metadata": {},
   "outputs": [
    {
     "data": {
      "image/png": "[encoded data removed]",
      "text/plain": [
       "<Figure size 640x480 with 1 Axes>"
      ]
     },
     "execution_count": 26,
     "metadata": {},
     "output_type": "execute_result"
    },
    {
     "data": {
      "image/png": "[encoded data removed]",
      "text/plain": [
       "<Figure size 640x480 with 1 Axes>"
      ]
     },
     "metadata": {},
     "output_type": "display_data"
    },
    {
     "data": {
      "image/png": "[encoded data removed]",
      "text/plain": [
       "<Figure size 640x480 with 1 Axes>"
      ]
     },
     "metadata": {},
     "output_type": "display_data"
    }
   ],
   "source": [
    "plot_acf(diff)\n",
    "plot_pacf(diff)"
   ]
  },
  {
   "cell_type": "code",
   "execution_count": 27,
   "id": "693faad6-0a97-4a2a-be7d-8c3c9e0449fc",
   "metadata": {},
   "outputs": [],
   "source": [
    "p = 1\n",
    "d = 1\n",
    "q = 1"
   ]
  },
  {
   "cell_type": "code",
   "execution_count": 28,
   "id": "ed88a43a-f102-4dcc-b8ea-06bedc1f3546",
   "metadata": {},
   "outputs": [],
   "source": [
    "# train_size = int(len(diff) * .8)\n",
    "# train, test = diff[:train_size], diff[train_size:]"
   ]
  },
  {
   "cell_type": "code",
   "execution_count": 29,
   "id": "cd601177-1adb-44df-9077-8f99ad5d39ea",
   "metadata": {},
   "outputs": [
    {
     "name": "stderr",
     "output_type": "stream",
     "text": [
      "C:\\Users\\sagar\\anaconda3\\envs\\DAB300\\lib\\site-packages\\statsmodels\\tsa\\base\\tsa_model.py:471: ValueWarning: A date index has been provided, but it has no associated frequency information and so will be ignored when e.g. forecasting.\n",
      "  self._init_dates(dates, freq)\n",
      "C:\\Users\\sagar\\anaconda3\\envs\\DAB300\\lib\\site-packages\\statsmodels\\tsa\\base\\tsa_model.py:471: ValueWarning: A date index has been provided, but it is not monotonic and so will be ignored when e.g. forecasting.\n",
      "  self._init_dates(dates, freq)\n",
      "C:\\Users\\sagar\\anaconda3\\envs\\DAB300\\lib\\site-packages\\statsmodels\\tsa\\base\\tsa_model.py:471: ValueWarning: A date index has been provided, but it has no associated frequency information and so will be ignored when e.g. forecasting.\n",
      "  self._init_dates(dates, freq)\n",
      "C:\\Users\\sagar\\anaconda3\\envs\\DAB300\\lib\\site-packages\\statsmodels\\tsa\\base\\tsa_model.py:471: ValueWarning: A date index has been provided, but it is not monotonic and so will be ignored when e.g. forecasting.\n",
      "  self._init_dates(dates, freq)\n",
      "C:\\Users\\sagar\\anaconda3\\envs\\DAB300\\lib\\site-packages\\statsmodels\\tsa\\base\\tsa_model.py:471: ValueWarning: A date index has been provided, but it has no associated frequency information and so will be ignored when e.g. forecasting.\n",
      "  self._init_dates(dates, freq)\n",
      "C:\\Users\\sagar\\anaconda3\\envs\\DAB300\\lib\\site-packages\\statsmodels\\tsa\\base\\tsa_model.py:471: ValueWarning: A date index has been provided, but it is not monotonic and so will be ignored when e.g. forecasting.\n",
      "  self._init_dates(dates, freq)\n"
     ]
    }
   ],
   "source": [
    "model = ARIMA(train, order=(p,d,q))\n",
    "model_fit = model.fit()"
   ]
  },
  {
   "cell_type": "code",
   "execution_count": 30,
   "id": "bab3f74a-fbc0-4dbd-ac60-28b839038070",
   "metadata": {},
   "outputs": [
    {
     "name": "stderr",
     "output_type": "stream",
     "text": [
      "C:\\Users\\sagar\\anaconda3\\envs\\DAB300\\lib\\site-packages\\statsmodels\\tsa\\base\\tsa_model.py:843: ValueWarning: No supported index is available. Prediction results will be given with an integer index beginning at `start`.\n",
      "  data=self.data,\n"
     ]
    }
   ],
   "source": [
    "predictions = model_fit.forecast(steps=len(test))"
   ]
  },
  {
   "cell_type": "code",
   "execution_count": 31,
   "id": "e000e909",
   "metadata": {},
   "outputs": [
    {
     "data": {
      "text/plain": [
       "(2137,)"
      ]
     },
     "execution_count": 31,
     "metadata": {},
     "output_type": "execute_result"
    }
   ],
   "source": [
    "predictions.shape"
   ]
  },
  {
   "cell_type": "code",
   "execution_count": 32,
   "id": "e4b343ed-ab6a-46fd-bc88-024db9d598f8",
   "metadata": {},
   "outputs": [
    {
     "name": "stdout",
     "output_type": "stream",
     "text": [
      "Mean Squared Error (MSE): 5618.05\n"
     ]
    }
   ],
   "source": [
    "mse = mean_squared_error(test, predictions)\n",
    "print(\"Mean Squared Error (MSE): {:.2f}\".format(mse))\n"
   ]
  },
  {
   "cell_type": "code",
   "execution_count": 38,
   "id": "a73126a6-9260-4527-aae0-d152100f6205",
   "metadata": {},
   "outputs": [
    {
     "data": {
      "image/png": "[encoded data removed]",
      "text/plain": [
       "<Figure size 640x480 with 1 Axes>"
      ]
     },
     "metadata": {},
     "output_type": "display_data"
    }
   ],
   "source": [
    "# Plot the actual vs predicted values\n",
    "# plt.plot(df2.index[:test], test, label='Actual')\n",
    "plt.plot(df2.loc[df2.index < \"2022-01-01\"], train, label='Actual')\n",
    "# df2.loc[df2.index < \"2022-01-01\"]\n",
    "plt.plot(df2.loc[df2.index >= \"2022-01-01\"], predictions, label='Predicted')\n",
    "plt.legend()\n",
    "plt.show()"
   ]
  },
  {
   "cell_type": "code",
   "execution_count": 50,
   "id": "27cd702a-d2dc-4900-a558-1e6b04fe32ab",
   "metadata": {},
   "outputs": [
    {
     "data": {
      "text/plain": [
       "9001     65.832189\n",
       "9002     85.253470\n",
       "9003     93.139083\n",
       "9004     96.340875\n",
       "9005     97.640897\n",
       "           ...    \n",
       "11133    98.529573\n",
       "11134    98.529573\n",
       "11135    98.529573\n",
       "11136    98.529573\n",
       "11137    98.529573\n",
       "Name: predicted_mean, Length: 2137, dtype: float64"
      ]
     },
     "execution_count": 50,
     "metadata": {},
     "output_type": "execute_result"
    }
   ],
   "source": [
    "predictions"
   ]
  }
 ],
 "metadata": {
  "kernelspec": {
   "display_name": "Python 3 (ipykernel)",
   "language": "python",
   "name": "python3"
  },
  "language_info": {
   "codemirror_mode": {
    "name": "ipython",
    "version": 3
   },
   "file_extension": ".py",
   "mimetype": "text/x-python",
   "name": "python",
   "nbconvert_exporter": "python",
   "pygments_lexer": "ipython3",
   "version": "3.7.13"
  }
 },
 "nbformat": 4,
 "nbformat_minor": 5
}
