{
 "cells": [
  {
   "cell_type": "markdown",
   "metadata": {},
   "source": [
    "# Analysis of Drug Shortage database"
   ]
  },
  {
   "cell_type": "markdown",
   "metadata": {},
   "source": [
    "The data we are using for our analysis contains historical data from 2017 to present. All this records has been reported by the Food and Drug Regulations require drug to sellers are not able to meet demand for a product or when they stop selling a product."
   ]
  },
  {
   "cell_type": "markdown",
   "metadata": {},
   "source": [
    "Shortage reports have 3 different stages and can be resolved as shown below"
   ]
  },
  {
   "attachments": {
    "Shortage_stages.jpg": {
     "image/jpeg": "[encoded data removed]"
    }
   },
   "cell_type": "markdown",
   "metadata": {},
   "source": [
    "![Shortage_stages.jpg](attachment:Shortage_stages.jpg)"
   ]
  },
  {
   "cell_type": "code",
   "execution_count": 1,
   "metadata": {},
   "outputs": [],
   "source": [
    "import pandas as pd\n",
    "import numpy as np\n",
    "import xlrd\n",
    "import warnings\n",
    "import matplotlib.pyplot as plt\n",
    "import seaborn as sns\n",
    "from prophet import Prophet\n",
    "warnings.filterwarnings('ignore')"
   ]
  },
  {
   "cell_type": "code",
   "execution_count": 2,
   "metadata": {},
   "outputs": [
    {
     "data": {
      "text/html": [
       "<div>\n",
       "<style scoped>\n",
       "    .dataframe tbody tr th:only-of-type {\n",
       "        vertical-align: middle;\n",
       "    }\n",
       "\n",
       "    .dataframe tbody tr th {\n",
       "        vertical-align: top;\n",
       "    }\n",
       "\n",
       "    .dataframe thead th {\n",
       "        text-align: right;\n",
       "    }\n",
       "</style>\n",
       "<table border=\"1\" class=\"dataframe\">\n",
       "  <thead>\n",
       "    <tr style=\"text-align: right;\">\n",
       "      <th></th>\n",
       "      <th>Report ID</th>\n",
       "      <th>Drug Identification Number</th>\n",
       "      <th>Report Type</th>\n",
       "      <th>Brand name</th>\n",
       "      <th>Company Name</th>\n",
       "      <th>Common or Proper name</th>\n",
       "      <th>Ingredients</th>\n",
       "      <th>Strength(s)</th>\n",
       "      <th>Packaging size</th>\n",
       "      <th>Route of administration</th>\n",
       "      <th>...</th>\n",
       "      <th>ATC description</th>\n",
       "      <th>Anticipated start date</th>\n",
       "      <th>Actual start date</th>\n",
       "      <th>Estimated end date</th>\n",
       "      <th>Actual end date</th>\n",
       "      <th>Reason</th>\n",
       "      <th>Date Created</th>\n",
       "      <th>Date Updated</th>\n",
       "      <th>Tier 3</th>\n",
       "      <th>Days</th>\n",
       "    </tr>\n",
       "  </thead>\n",
       "  <tbody>\n",
       "    <tr>\n",
       "      <th>0</th>\n",
       "      <td>28240</td>\n",
       "      <td>1963937.0</td>\n",
       "      <td>Shortage</td>\n",
       "      <td>0.9% SODIUM CHLORIDE IRRIGATION USP</td>\n",
       "      <td>B. BRAUN MEDICAL INC</td>\n",
       "      <td>Sodium Chloride</td>\n",
       "      <td>SODIUM CHLORIDE</td>\n",
       "      <td>0.009</td>\n",
       "      <td>500mL, 1000mL, 2000mL, 4000mL</td>\n",
       "      <td>IRRIGATION</td>\n",
       "      <td>...</td>\n",
       "      <td>IRRIGATING SOLUTIONS</td>\n",
       "      <td>NaN</td>\n",
       "      <td>2017-11-03</td>\n",
       "      <td>NaN</td>\n",
       "      <td>NaN</td>\n",
       "      <td>Requirements related to complying with good ma...</td>\n",
       "      <td>2017-11-06</td>\n",
       "      <td>2019-04-04</td>\n",
       "      <td>No</td>\n",
       "      <td>NaN</td>\n",
       "    </tr>\n",
       "    <tr>\n",
       "      <th>1</th>\n",
       "      <td>24792</td>\n",
       "      <td>2141450.0</td>\n",
       "      <td>Shortage</td>\n",
       "      <td>20% PROSOL</td>\n",
       "      <td>BAXTER CORPORATION</td>\n",
       "      <td>20% PROSOL</td>\n",
       "      <td>PHENYLALANINE_x000D_ HISTIDINE_x000D_ TRYPTOPH...</td>\n",
       "      <td>1G_x000D_ 1.18G_x000D_ 0.32G_x000D_ 1.08G_x000...</td>\n",
       "      <td>2000 mL</td>\n",
       "      <td>INTRAVENOUS</td>\n",
       "      <td>...</td>\n",
       "      <td>I.V. SOLUTIONS</td>\n",
       "      <td>2017-11-15 00:00:00</td>\n",
       "      <td>2017-11-15</td>\n",
       "      <td>2017-12-15 00:00:00</td>\n",
       "      <td>2017-11-21 00:00:00</td>\n",
       "      <td>Disruption of the manufacture of the drug.</td>\n",
       "      <td>2017-10-10</td>\n",
       "      <td>2017-11-22</td>\n",
       "      <td>No</td>\n",
       "      <td>6.0</td>\n",
       "    </tr>\n",
       "    <tr>\n",
       "      <th>2</th>\n",
       "      <td>27274</td>\n",
       "      <td>2248489.0</td>\n",
       "      <td>Shortage</td>\n",
       "      <td>4% ASTRACAINE DENTAL WITH EPINEPHRINE 1:200,00...</td>\n",
       "      <td>DENTSPLY CANADA LIMITED</td>\n",
       "      <td>Articaine Hydrochloride 40 mg/mL and Epinephri...</td>\n",
       "      <td>ARTICAINE HYDROCHLORIDE_x000D_ EPINEPHRINE</td>\n",
       "      <td>40MG_x000D_ 0.005MG</td>\n",
       "      <td>100 1.8 mL cartridges/box</td>\n",
       "      <td>BLOCK/INFILTRATION</td>\n",
       "      <td>...</td>\n",
       "      <td>ANESTHETICS, LOCAL</td>\n",
       "      <td>2018-03-01 00:00:00</td>\n",
       "      <td>2018-03-01</td>\n",
       "      <td>2018-04-30 00:00:00</td>\n",
       "      <td>2018-03-29 00:00:00</td>\n",
       "      <td>Disruption of the manufacture of the drug.</td>\n",
       "      <td>2017-10-27</td>\n",
       "      <td>2018-03-30</td>\n",
       "      <td>No</td>\n",
       "      <td>28.0</td>\n",
       "    </tr>\n",
       "    <tr>\n",
       "      <th>3</th>\n",
       "      <td>26870</td>\n",
       "      <td>2299135.0</td>\n",
       "      <td>Shortage</td>\n",
       "      <td>40 (MEQ)MMOL/L POTASSIUM CHLORIDE PLUS 5% DEXT...</td>\n",
       "      <td>HOSPIRA HEALTHCARE CORPORATION</td>\n",
       "      <td>Potassium Chloride in 5% Dextrose and 0.9% Sod...</td>\n",
       "      <td>DEXTROSE_x000D_ POTASSIUM CHLORIDE_x000D_ SODI...</td>\n",
       "      <td>5.0G_x000D_ 0.3G_x000D_ 0.9G</td>\n",
       "      <td>1000ML</td>\n",
       "      <td>INTRAVENOUS</td>\n",
       "      <td>...</td>\n",
       "      <td>I.V. SOLUTIONS</td>\n",
       "      <td>2017-10-17 00:00:00</td>\n",
       "      <td>NaT</td>\n",
       "      <td>2017-11-30 00:00:00</td>\n",
       "      <td>2017-11-30 00:00:00</td>\n",
       "      <td>Other (Please describe in comments)</td>\n",
       "      <td>2017-10-24</td>\n",
       "      <td>2018-12-28</td>\n",
       "      <td>No</td>\n",
       "      <td>NaN</td>\n",
       "    </tr>\n",
       "    <tr>\n",
       "      <th>4</th>\n",
       "      <td>30198</td>\n",
       "      <td>37974.0</td>\n",
       "      <td>Shortage</td>\n",
       "      <td>50% DEXTROSE INJECTION USP</td>\n",
       "      <td>HOSPIRA HEALTHCARE CORPORATION</td>\n",
       "      <td>50% DEXTROSE</td>\n",
       "      <td>DEXTROSE</td>\n",
       "      <td>500MG</td>\n",
       "      <td>25x50mL GVL</td>\n",
       "      <td>INTRAVENOUS</td>\n",
       "      <td>...</td>\n",
       "      <td>I.V. SOLUTIONS</td>\n",
       "      <td>NaN</td>\n",
       "      <td>2018-01-19</td>\n",
       "      <td>NaN</td>\n",
       "      <td>2018-03-02 00:00:00</td>\n",
       "      <td>Disruption of the manufacture of the drug.</td>\n",
       "      <td>2017-11-22</td>\n",
       "      <td>2018-03-05</td>\n",
       "      <td>No</td>\n",
       "      <td>42.0</td>\n",
       "    </tr>\n",
       "  </tbody>\n",
       "</table>\n",
       "<p>5 rows × 23 columns</p>\n",
       "</div>"
      ],
      "text/plain": [
       "   Report ID  Drug Identification Number Report Type  \\\n",
       "0      28240                   1963937.0    Shortage   \n",
       "1      24792                   2141450.0    Shortage   \n",
       "2      27274                   2248489.0    Shortage   \n",
       "3      26870                   2299135.0    Shortage   \n",
       "4      30198                     37974.0    Shortage   \n",
       "\n",
       "                                          Brand name  \\\n",
       "0                0.9% SODIUM CHLORIDE IRRIGATION USP   \n",
       "1                                         20% PROSOL   \n",
       "2  4% ASTRACAINE DENTAL WITH EPINEPHRINE 1:200,00...   \n",
       "3  40 (MEQ)MMOL/L POTASSIUM CHLORIDE PLUS 5% DEXT...   \n",
       "4                         50% DEXTROSE INJECTION USP   \n",
       "\n",
       "                     Company Name  \\\n",
       "0            B. BRAUN MEDICAL INC   \n",
       "1              BAXTER CORPORATION   \n",
       "2         DENTSPLY CANADA LIMITED   \n",
       "3  HOSPIRA HEALTHCARE CORPORATION   \n",
       "4  HOSPIRA HEALTHCARE CORPORATION   \n",
       "\n",
       "                               Common or Proper name  \\\n",
       "0                                    Sodium Chloride   \n",
       "1                                         20% PROSOL   \n",
       "2  Articaine Hydrochloride 40 mg/mL and Epinephri...   \n",
       "3  Potassium Chloride in 5% Dextrose and 0.9% Sod...   \n",
       "4                                       50% DEXTROSE   \n",
       "\n",
       "                                         Ingredients  \\\n",
       "0                                    SODIUM CHLORIDE   \n",
       "1  PHENYLALANINE_x000D_ HISTIDINE_x000D_ TRYPTOPH...   \n",
       "2         ARTICAINE HYDROCHLORIDE_x000D_ EPINEPHRINE   \n",
       "3  DEXTROSE_x000D_ POTASSIUM CHLORIDE_x000D_ SODI...   \n",
       "4                                           DEXTROSE   \n",
       "\n",
       "                                         Strength(s)  \\\n",
       "0                                              0.009   \n",
       "1  1G_x000D_ 1.18G_x000D_ 0.32G_x000D_ 1.08G_x000...   \n",
       "2                                40MG_x000D_ 0.005MG   \n",
       "3                       5.0G_x000D_ 0.3G_x000D_ 0.9G   \n",
       "4                                              500MG   \n",
       "\n",
       "                  Packaging size Route of administration  ...  \\\n",
       "0  500mL, 1000mL, 2000mL, 4000mL              IRRIGATION  ...   \n",
       "1                        2000 mL             INTRAVENOUS  ...   \n",
       "2      100 1.8 mL cartridges/box      BLOCK/INFILTRATION  ...   \n",
       "3                         1000ML             INTRAVENOUS  ...   \n",
       "4                    25x50mL GVL             INTRAVENOUS  ...   \n",
       "\n",
       "        ATC description Anticipated start date Actual start date  \\\n",
       "0  IRRIGATING SOLUTIONS                    NaN        2017-11-03   \n",
       "1        I.V. SOLUTIONS    2017-11-15 00:00:00        2017-11-15   \n",
       "2    ANESTHETICS, LOCAL    2018-03-01 00:00:00        2018-03-01   \n",
       "3        I.V. SOLUTIONS    2017-10-17 00:00:00               NaT   \n",
       "4        I.V. SOLUTIONS                    NaN        2018-01-19   \n",
       "\n",
       "    Estimated end date      Actual end date  \\\n",
       "0                  NaN                  NaN   \n",
       "1  2017-12-15 00:00:00  2017-11-21 00:00:00   \n",
       "2  2018-04-30 00:00:00  2018-03-29 00:00:00   \n",
       "3  2017-11-30 00:00:00  2017-11-30 00:00:00   \n",
       "4                  NaN  2018-03-02 00:00:00   \n",
       "\n",
       "                                              Reason Date Created  \\\n",
       "0  Requirements related to complying with good ma...   2017-11-06   \n",
       "1         Disruption of the manufacture of the drug.   2017-10-10   \n",
       "2         Disruption of the manufacture of the drug.   2017-10-27   \n",
       "3                Other (Please describe in comments)   2017-10-24   \n",
       "4         Disruption of the manufacture of the drug.   2017-11-22   \n",
       "\n",
       "  Date Updated Tier 3  Days  \n",
       "0   2019-04-04     No   NaN  \n",
       "1   2017-11-22     No   6.0  \n",
       "2   2018-03-30     No  28.0  \n",
       "3   2018-12-28     No   NaN  \n",
       "4   2018-03-05     No  42.0  \n",
       "\n",
       "[5 rows x 23 columns]"
      ]
     },
     "execution_count": 2,
     "metadata": {},
     "output_type": "execute_result"
    }
   ],
   "source": [
    "df = pd.read_excel(\"Shortage data/Allyears_Canada_Shortage.xlsx\")\n",
    "df.head()"
   ]
  },
  {
   "cell_type": "code",
   "execution_count": 3,
   "metadata": {},
   "outputs": [
    {
     "name": "stdout",
     "output_type": "stream",
     "text": [
      "<class 'pandas.core.frame.DataFrame'>\n",
      "RangeIndex: 16923 entries, 0 to 16922\n",
      "Data columns (total 23 columns):\n",
      " #   Column                      Non-Null Count  Dtype         \n",
      "---  ------                      --------------  -----         \n",
      " 0   Report ID                   16923 non-null  int64         \n",
      " 1   Drug Identification Number  16919 non-null  float64       \n",
      " 2   Report Type                 16923 non-null  object        \n",
      " 3   Brand name                  16923 non-null  object        \n",
      " 4   Company Name                16902 non-null  object        \n",
      " 5   Common or Proper name       16921 non-null  object        \n",
      " 6   Ingredients                 16846 non-null  object        \n",
      " 7   Strength(s)                 16860 non-null  object        \n",
      " 8   Packaging size              16809 non-null  object        \n",
      " 9   Route of administration     16858 non-null  object        \n",
      " 10  Shortage status             16923 non-null  object        \n",
      " 11  Dosage form(s)              16858 non-null  object        \n",
      " 12  ATC Code                    16841 non-null  object        \n",
      " 13  ATC description             16674 non-null  object        \n",
      " 14  Anticipated start date      5118 non-null   object        \n",
      " 15  Actual start date           15292 non-null  datetime64[ns]\n",
      " 16  Estimated end date          12720 non-null  object        \n",
      " 17  Actual end date             15045 non-null  object        \n",
      " 18  Reason                      16923 non-null  object        \n",
      " 19  Date Created                16923 non-null  datetime64[ns]\n",
      " 20  Date Updated                16923 non-null  datetime64[ns]\n",
      " 21  Tier 3                      16923 non-null  object        \n",
      " 22  Days                        13705 non-null  float64       \n",
      "dtypes: datetime64[ns](3), float64(2), int64(1), object(17)\n",
      "memory usage: 3.0+ MB\n"
     ]
    }
   ],
   "source": [
    "df.info()"
   ]
  },
  {
   "cell_type": "code",
   "execution_count": 4,
   "metadata": {},
   "outputs": [
    {
     "data": {
      "text/plain": [
       "Report ID                              int64\n",
       "Drug Identification Number           float64\n",
       "Report Type                           object\n",
       "Brand name                            object\n",
       "Company Name                          object\n",
       "Common or Proper name                 object\n",
       "Ingredients                           object\n",
       "Strength(s)                           object\n",
       "Packaging size                        object\n",
       "Route of administration               object\n",
       "Shortage status                       object\n",
       "Dosage form(s)                        object\n",
       "ATC Code                              object\n",
       "ATC description                       object\n",
       "Anticipated start date                object\n",
       "Actual start date             datetime64[ns]\n",
       "Estimated end date                    object\n",
       "Actual end date                       object\n",
       "Reason                                object\n",
       "Date Created                  datetime64[ns]\n",
       "Date Updated                  datetime64[ns]\n",
       "Tier 3                                object\n",
       "Days                                 float64\n",
       "dtype: object"
      ]
     },
     "execution_count": 4,
     "metadata": {},
     "output_type": "execute_result"
    }
   ],
   "source": [
    "df.dtypes"
   ]
  },
  {
   "cell_type": "code",
   "execution_count": 5,
   "metadata": {},
   "outputs": [],
   "source": [
    "# "
   ]
  },
  {
   "cell_type": "code",
   "execution_count": 6,
   "metadata": {},
   "outputs": [
    {
     "data": {
      "text/html": [
       "<div>\n",
       "<style scoped>\n",
       "    .dataframe tbody tr th:only-of-type {\n",
       "        vertical-align: middle;\n",
       "    }\n",
       "\n",
       "    .dataframe tbody tr th {\n",
       "        vertical-align: top;\n",
       "    }\n",
       "\n",
       "    .dataframe thead th {\n",
       "        text-align: right;\n",
       "    }\n",
       "</style>\n",
       "<table border=\"1\" class=\"dataframe\">\n",
       "  <thead>\n",
       "    <tr style=\"text-align: right;\">\n",
       "      <th></th>\n",
       "      <th>Report ID</th>\n",
       "      <th>Drug Identification Number</th>\n",
       "      <th>Days</th>\n",
       "    </tr>\n",
       "  </thead>\n",
       "  <tbody>\n",
       "    <tr>\n",
       "      <th>Report ID</th>\n",
       "      <td>1.000000</td>\n",
       "      <td>0.005387</td>\n",
       "      <td>-0.293277</td>\n",
       "    </tr>\n",
       "    <tr>\n",
       "      <th>Drug Identification Number</th>\n",
       "      <td>0.005387</td>\n",
       "      <td>1.000000</td>\n",
       "      <td>0.042358</td>\n",
       "    </tr>\n",
       "    <tr>\n",
       "      <th>Days</th>\n",
       "      <td>-0.293277</td>\n",
       "      <td>0.042358</td>\n",
       "      <td>1.000000</td>\n",
       "    </tr>\n",
       "  </tbody>\n",
       "</table>\n",
       "</div>"
      ],
      "text/plain": [
       "                            Report ID  Drug Identification Number      Days\n",
       "Report ID                    1.000000                    0.005387 -0.293277\n",
       "Drug Identification Number   0.005387                    1.000000  0.042358\n",
       "Days                        -0.293277                    0.042358  1.000000"
      ]
     },
     "execution_count": 6,
     "metadata": {},
     "output_type": "execute_result"
    }
   ],
   "source": [
    "df.corr()"
   ]
  },
  {
   "cell_type": "code",
   "execution_count": 7,
   "metadata": {},
   "outputs": [
    {
     "data": {
      "image/png": "[encoded data removed]",
      "text/plain": [
       "<Figure size 576x360 with 2 Axes>"
      ]
     },
     "metadata": {
      "needs_background": "light"
     },
     "output_type": "display_data"
    }
   ],
   "source": [
    "# Increase the size of the heatmap.\n",
    "plt.figure(figsize=(8, 5))\n",
    "\n",
    "# Store heatmap object in a variable to easily access it when you want to include more features (such as title).\n",
    "# Set the range of values to be displayed on the colormap from -1 to 1, and set the annotation to True to display the correlation values on the heatmap.\n",
    "heatmap = sns.heatmap(df.corr(), vmin=-1, vmax=1, annot=True, cmap = \"YlGnBu\")\n",
    "\n",
    "# Give a title to the heatmap. Pad defines the distance of the title from the top of the heatmap.\n",
    "heatmap.set_title('Correlation Heatmap', fontdict={'fontsize':14}, pad=12)\n",
    "plt.show()"
   ]
  },
  {
   "cell_type": "markdown",
   "metadata": {},
   "source": [
    "## Days of shortages Prediction Forecast"
   ]
  },
  {
   "cell_type": "markdown",
   "metadata": {},
   "source": [
    "#### Data Processing"
   ]
  },
  {
   "cell_type": "code",
   "execution_count": 8,
   "metadata": {},
   "outputs": [],
   "source": [
    "df = df.drop(['Report ID',\n",
    "'Drug Identification Number',\n",
    "'Report Type',\n",
    "'Brand name',\n",
    "'Company Name',\n",
    "'Common or Proper name',\n",
    "'Ingredients',\n",
    "'Strength(s)',\n",
    "'Packaging size',\n",
    "'Route of administration',\n",
    "'Shortage status',\n",
    "'Dosage form(s)',\n",
    "'ATC Code',\n",
    "'ATC description',\n",
    "'Anticipated start date',\n",
    "'Estimated end date',\n",
    "'Actual end date',\n",
    "'Reason',\n",
    "'Date Created',\n",
    "'Date Updated',\n",
    "'Tier 3'\n",
    "],axis=1)"
   ]
  },
  {
   "cell_type": "code",
   "execution_count": 9,
   "metadata": {},
   "outputs": [
    {
     "data": {
      "text/plain": [
       "Actual start date    datetime64[ns]\n",
       "Days                        float64\n",
       "dtype: object"
      ]
     },
     "execution_count": 9,
     "metadata": {},
     "output_type": "execute_result"
    }
   ],
   "source": [
    "df.dtypes"
   ]
  },
  {
   "cell_type": "code",
   "execution_count": 10,
   "metadata": {},
   "outputs": [
    {
     "data": {
      "text/html": [
       "<div>\n",
       "<style scoped>\n",
       "    .dataframe tbody tr th:only-of-type {\n",
       "        vertical-align: middle;\n",
       "    }\n",
       "\n",
       "    .dataframe tbody tr th {\n",
       "        vertical-align: top;\n",
       "    }\n",
       "\n",
       "    .dataframe thead th {\n",
       "        text-align: right;\n",
       "    }\n",
       "</style>\n",
       "<table border=\"1\" class=\"dataframe\">\n",
       "  <thead>\n",
       "    <tr style=\"text-align: right;\">\n",
       "      <th></th>\n",
       "      <th>Actual start date</th>\n",
       "      <th>Days</th>\n",
       "    </tr>\n",
       "  </thead>\n",
       "  <tbody>\n",
       "    <tr>\n",
       "      <th>0</th>\n",
       "      <td>2017-11-03</td>\n",
       "      <td>NaN</td>\n",
       "    </tr>\n",
       "    <tr>\n",
       "      <th>1</th>\n",
       "      <td>2017-11-15</td>\n",
       "      <td>6.0</td>\n",
       "    </tr>\n",
       "    <tr>\n",
       "      <th>2</th>\n",
       "      <td>2018-03-01</td>\n",
       "      <td>28.0</td>\n",
       "    </tr>\n",
       "    <tr>\n",
       "      <th>3</th>\n",
       "      <td>NaT</td>\n",
       "      <td>NaN</td>\n",
       "    </tr>\n",
       "    <tr>\n",
       "      <th>4</th>\n",
       "      <td>2018-01-19</td>\n",
       "      <td>42.0</td>\n",
       "    </tr>\n",
       "  </tbody>\n",
       "</table>\n",
       "</div>"
      ],
      "text/plain": [
       "  Actual start date  Days\n",
       "0        2017-11-03   NaN\n",
       "1        2017-11-15   6.0\n",
       "2        2018-03-01  28.0\n",
       "3               NaT   NaN\n",
       "4        2018-01-19  42.0"
      ]
     },
     "execution_count": 10,
     "metadata": {},
     "output_type": "execute_result"
    }
   ],
   "source": [
    "df.head()"
   ]
  },
  {
   "cell_type": "markdown",
   "metadata": {},
   "source": [
    "Replacing NaN with mean days for now"
   ]
  },
  {
   "cell_type": "code",
   "execution_count": 11,
   "metadata": {},
   "outputs": [
    {
     "data": {
      "text/plain": [
       "Days    136.356658\n",
       "dtype: float64"
      ]
     },
     "execution_count": 11,
     "metadata": {},
     "output_type": "execute_result"
    }
   ],
   "source": [
    "df.mean()"
   ]
  },
  {
   "cell_type": "code",
   "execution_count": 12,
   "metadata": {},
   "outputs": [],
   "source": [
    "df.replace({pd.NaT: \"2017-01-01 00:00:00\"}, inplace=True)"
   ]
  },
  {
   "cell_type": "code",
   "execution_count": 13,
   "metadata": {},
   "outputs": [],
   "source": [
    "df['Actual start date'] = pd.to_datetime(df['Actual start date'], format='%Y-%m-%d')"
   ]
  },
  {
   "cell_type": "markdown",
   "metadata": {},
   "source": [
    "Removing outliers, all records previous 2017 will be deleted"
   ]
  },
  {
   "cell_type": "code",
   "execution_count": 14,
   "metadata": {},
   "outputs": [],
   "source": [
    "df = df.loc[(df['Actual start date'] >= '2017-01-01')]"
   ]
  },
  {
   "cell_type": "code",
   "execution_count": 15,
   "metadata": {},
   "outputs": [
    {
     "data": {
      "text/html": [
       "<div>\n",
       "<style scoped>\n",
       "    .dataframe tbody tr th:only-of-type {\n",
       "        vertical-align: middle;\n",
       "    }\n",
       "\n",
       "    .dataframe tbody tr th {\n",
       "        vertical-align: top;\n",
       "    }\n",
       "\n",
       "    .dataframe thead th {\n",
       "        text-align: right;\n",
       "    }\n",
       "</style>\n",
       "<table border=\"1\" class=\"dataframe\">\n",
       "  <thead>\n",
       "    <tr style=\"text-align: right;\">\n",
       "      <th></th>\n",
       "      <th>Actual start date</th>\n",
       "      <th>Days</th>\n",
       "    </tr>\n",
       "  </thead>\n",
       "  <tbody>\n",
       "    <tr>\n",
       "      <th>0</th>\n",
       "      <td>2017-11-03</td>\n",
       "      <td>120.228096</td>\n",
       "    </tr>\n",
       "    <tr>\n",
       "      <th>1</th>\n",
       "      <td>2017-11-15</td>\n",
       "      <td>6.000000</td>\n",
       "    </tr>\n",
       "    <tr>\n",
       "      <th>2</th>\n",
       "      <td>2018-03-01</td>\n",
       "      <td>28.000000</td>\n",
       "    </tr>\n",
       "    <tr>\n",
       "      <th>3</th>\n",
       "      <td>2017-01-01</td>\n",
       "      <td>120.228096</td>\n",
       "    </tr>\n",
       "    <tr>\n",
       "      <th>4</th>\n",
       "      <td>2018-01-19</td>\n",
       "      <td>42.000000</td>\n",
       "    </tr>\n",
       "  </tbody>\n",
       "</table>\n",
       "</div>"
      ],
      "text/plain": [
       "  Actual start date        Days\n",
       "0        2017-11-03  120.228096\n",
       "1        2017-11-15    6.000000\n",
       "2        2018-03-01   28.000000\n",
       "3        2017-01-01  120.228096\n",
       "4        2018-01-19   42.000000"
      ]
     },
     "execution_count": 15,
     "metadata": {},
     "output_type": "execute_result"
    }
   ],
   "source": [
    "df.fillna(df.mean(), inplace=True)\n",
    "df.head()"
   ]
  },
  {
   "cell_type": "code",
   "execution_count": 16,
   "metadata": {},
   "outputs": [
    {
     "data": {
      "text/html": [
       "<div>\n",
       "<style scoped>\n",
       "    .dataframe tbody tr th:only-of-type {\n",
       "        vertical-align: middle;\n",
       "    }\n",
       "\n",
       "    .dataframe tbody tr th {\n",
       "        vertical-align: top;\n",
       "    }\n",
       "\n",
       "    .dataframe thead th {\n",
       "        text-align: right;\n",
       "    }\n",
       "</style>\n",
       "<table border=\"1\" class=\"dataframe\">\n",
       "  <thead>\n",
       "    <tr style=\"text-align: right;\">\n",
       "      <th></th>\n",
       "      <th>ds</th>\n",
       "      <th>y</th>\n",
       "    </tr>\n",
       "  </thead>\n",
       "  <tbody>\n",
       "    <tr>\n",
       "      <th>0</th>\n",
       "      <td>2017-11-03</td>\n",
       "      <td>120.228096</td>\n",
       "    </tr>\n",
       "    <tr>\n",
       "      <th>1</th>\n",
       "      <td>2017-11-15</td>\n",
       "      <td>6.000000</td>\n",
       "    </tr>\n",
       "    <tr>\n",
       "      <th>2</th>\n",
       "      <td>2018-03-01</td>\n",
       "      <td>28.000000</td>\n",
       "    </tr>\n",
       "    <tr>\n",
       "      <th>3</th>\n",
       "      <td>2017-01-01</td>\n",
       "      <td>120.228096</td>\n",
       "    </tr>\n",
       "    <tr>\n",
       "      <th>4</th>\n",
       "      <td>2018-01-19</td>\n",
       "      <td>42.000000</td>\n",
       "    </tr>\n",
       "  </tbody>\n",
       "</table>\n",
       "</div>"
      ],
      "text/plain": [
       "          ds           y\n",
       "0 2017-11-03  120.228096\n",
       "1 2017-11-15    6.000000\n",
       "2 2018-03-01   28.000000\n",
       "3 2017-01-01  120.228096\n",
       "4 2018-01-19   42.000000"
      ]
     },
     "execution_count": 16,
     "metadata": {},
     "output_type": "execute_result"
    }
   ],
   "source": [
    "df.columns = ['ds', 'y']\n",
    "df.head()"
   ]
  },
  {
   "cell_type": "markdown",
   "metadata": {},
   "source": [
    "### Training the time series model"
   ]
  },
  {
   "cell_type": "code",
   "execution_count": 17,
   "metadata": {},
   "outputs": [],
   "source": [
    "p = Prophet(interval_width=0.5, daily_seasonality=True)"
   ]
  },
  {
   "cell_type": "markdown",
   "metadata": {},
   "source": [
    "Now train the model."
   ]
  },
  {
   "cell_type": "code",
   "execution_count": 18,
   "metadata": {},
   "outputs": [
    {
     "name": "stderr",
     "output_type": "stream",
     "text": [
      "15:40:22 - cmdstanpy - INFO - Chain [1] start processing\n",
      "15:40:54 - cmdstanpy - INFO - Chain [1] done processing\n"
     ]
    }
   ],
   "source": [
    "model = p.fit(df)"
   ]
  },
  {
   "cell_type": "markdown",
   "metadata": {},
   "source": [
    "### Making predictions and evaluating performance"
   ]
  },
  {
   "cell_type": "code",
   "execution_count": 20,
   "metadata": {},
   "outputs": [
    {
     "data": {
      "text/html": [
       "<div>\n",
       "<style scoped>\n",
       "    .dataframe tbody tr th:only-of-type {\n",
       "        vertical-align: middle;\n",
       "    }\n",
       "\n",
       "    .dataframe tbody tr th {\n",
       "        vertical-align: top;\n",
       "    }\n",
       "\n",
       "    .dataframe thead th {\n",
       "        text-align: right;\n",
       "    }\n",
       "</style>\n",
       "<table border=\"1\" class=\"dataframe\">\n",
       "  <thead>\n",
       "    <tr style=\"text-align: right;\">\n",
       "      <th></th>\n",
       "      <th>ds</th>\n",
       "    </tr>\n",
       "  </thead>\n",
       "  <tbody>\n",
       "    <tr>\n",
       "      <th>1755</th>\n",
       "      <td>2024-02-05</td>\n",
       "    </tr>\n",
       "    <tr>\n",
       "      <th>1756</th>\n",
       "      <td>2024-02-06</td>\n",
       "    </tr>\n",
       "    <tr>\n",
       "      <th>1757</th>\n",
       "      <td>2024-02-07</td>\n",
       "    </tr>\n",
       "    <tr>\n",
       "      <th>1758</th>\n",
       "      <td>2024-02-08</td>\n",
       "    </tr>\n",
       "    <tr>\n",
       "      <th>1759</th>\n",
       "      <td>2024-02-09</td>\n",
       "    </tr>\n",
       "  </tbody>\n",
       "</table>\n",
       "</div>"
      ],
      "text/plain": [
       "             ds\n",
       "1755 2024-02-05\n",
       "1756 2024-02-06\n",
       "1757 2024-02-07\n",
       "1758 2024-02-08\n",
       "1759 2024-02-09"
      ]
     },
     "execution_count": 20,
     "metadata": {},
     "output_type": "execute_result"
    }
   ],
   "source": [
    "future = p.make_future_dataframe(periods=50, freq='D')\n",
    "future.tail()"
   ]
  },
  {
   "cell_type": "code",
   "execution_count": 23,
   "metadata": {},
   "outputs": [
    {
     "data": {
      "text/html": [
       "<div>\n",
       "<style scoped>\n",
       "    .dataframe tbody tr th:only-of-type {\n",
       "        vertical-align: middle;\n",
       "    }\n",
       "\n",
       "    .dataframe tbody tr th {\n",
       "        vertical-align: top;\n",
       "    }\n",
       "\n",
       "    .dataframe thead th {\n",
       "        text-align: right;\n",
       "    }\n",
       "</style>\n",
       "<table border=\"1\" class=\"dataframe\">\n",
       "  <thead>\n",
       "    <tr style=\"text-align: right;\">\n",
       "      <th></th>\n",
       "      <th>ds</th>\n",
       "      <th>trend</th>\n",
       "      <th>yhat_lower</th>\n",
       "      <th>yhat_upper</th>\n",
       "      <th>trend_lower</th>\n",
       "      <th>trend_upper</th>\n",
       "      <th>additive_terms</th>\n",
       "      <th>additive_terms_lower</th>\n",
       "      <th>additive_terms_upper</th>\n",
       "      <th>daily</th>\n",
       "      <th>...</th>\n",
       "      <th>weekly</th>\n",
       "      <th>weekly_lower</th>\n",
       "      <th>weekly_upper</th>\n",
       "      <th>yearly</th>\n",
       "      <th>yearly_lower</th>\n",
       "      <th>yearly_upper</th>\n",
       "      <th>multiplicative_terms</th>\n",
       "      <th>multiplicative_terms_lower</th>\n",
       "      <th>multiplicative_terms_upper</th>\n",
       "      <th>yhat</th>\n",
       "    </tr>\n",
       "  </thead>\n",
       "  <tbody>\n",
       "    <tr>\n",
       "      <th>0</th>\n",
       "      <td>2017-01-01</td>\n",
       "      <td>114.369472</td>\n",
       "      <td>2.870951</td>\n",
       "      <td>229.041960</td>\n",
       "      <td>114.369472</td>\n",
       "      <td>114.369472</td>\n",
       "      <td>6.101968</td>\n",
       "      <td>6.101968</td>\n",
       "      <td>6.101968</td>\n",
       "      <td>-19.373276</td>\n",
       "      <td>...</td>\n",
       "      <td>68.923082</td>\n",
       "      <td>68.923082</td>\n",
       "      <td>68.923082</td>\n",
       "      <td>-43.447839</td>\n",
       "      <td>-43.447839</td>\n",
       "      <td>-43.447839</td>\n",
       "      <td>0.0</td>\n",
       "      <td>0.0</td>\n",
       "      <td>0.0</td>\n",
       "      <td>120.471440</td>\n",
       "    </tr>\n",
       "    <tr>\n",
       "      <th>1</th>\n",
       "      <td>2017-01-03</td>\n",
       "      <td>117.690184</td>\n",
       "      <td>-83.818648</td>\n",
       "      <td>140.083135</td>\n",
       "      <td>117.690184</td>\n",
       "      <td>117.690184</td>\n",
       "      <td>-86.096629</td>\n",
       "      <td>-86.096629</td>\n",
       "      <td>-86.096629</td>\n",
       "      <td>-19.373276</td>\n",
       "      <td>...</td>\n",
       "      <td>-24.301378</td>\n",
       "      <td>-24.301378</td>\n",
       "      <td>-24.301378</td>\n",
       "      <td>-42.421975</td>\n",
       "      <td>-42.421975</td>\n",
       "      <td>-42.421975</td>\n",
       "      <td>0.0</td>\n",
       "      <td>0.0</td>\n",
       "      <td>0.0</td>\n",
       "      <td>31.593556</td>\n",
       "    </tr>\n",
       "    <tr>\n",
       "      <th>2</th>\n",
       "      <td>2017-01-04</td>\n",
       "      <td>119.350540</td>\n",
       "      <td>-67.150273</td>\n",
       "      <td>148.476602</td>\n",
       "      <td>119.350540</td>\n",
       "      <td>119.350540</td>\n",
       "      <td>-76.047252</td>\n",
       "      <td>-76.047252</td>\n",
       "      <td>-76.047252</td>\n",
       "      <td>-19.373276</td>\n",
       "      <td>...</td>\n",
       "      <td>-15.386842</td>\n",
       "      <td>-15.386842</td>\n",
       "      <td>-15.386842</td>\n",
       "      <td>-41.287134</td>\n",
       "      <td>-41.287134</td>\n",
       "      <td>-41.287134</td>\n",
       "      <td>0.0</td>\n",
       "      <td>0.0</td>\n",
       "      <td>0.0</td>\n",
       "      <td>43.303288</td>\n",
       "    </tr>\n",
       "    <tr>\n",
       "      <th>3</th>\n",
       "      <td>2017-01-06</td>\n",
       "      <td>122.671252</td>\n",
       "      <td>-69.915931</td>\n",
       "      <td>160.707721</td>\n",
       "      <td>122.671252</td>\n",
       "      <td>122.671252</td>\n",
       "      <td>-78.715152</td>\n",
       "      <td>-78.715152</td>\n",
       "      <td>-78.715152</td>\n",
       "      <td>-19.373276</td>\n",
       "      <td>...</td>\n",
       "      <td>-21.421937</td>\n",
       "      <td>-21.421937</td>\n",
       "      <td>-21.421937</td>\n",
       "      <td>-37.919939</td>\n",
       "      <td>-37.919939</td>\n",
       "      <td>-37.919939</td>\n",
       "      <td>0.0</td>\n",
       "      <td>0.0</td>\n",
       "      <td>0.0</td>\n",
       "      <td>43.956100</td>\n",
       "    </tr>\n",
       "    <tr>\n",
       "      <th>4</th>\n",
       "      <td>2017-01-10</td>\n",
       "      <td>129.312676</td>\n",
       "      <td>-65.366992</td>\n",
       "      <td>166.549198</td>\n",
       "      <td>129.312676</td>\n",
       "      <td>129.312676</td>\n",
       "      <td>-71.665885</td>\n",
       "      <td>-71.665885</td>\n",
       "      <td>-71.665885</td>\n",
       "      <td>-19.373276</td>\n",
       "      <td>...</td>\n",
       "      <td>-24.301378</td>\n",
       "      <td>-24.301378</td>\n",
       "      <td>-24.301378</td>\n",
       "      <td>-27.991232</td>\n",
       "      <td>-27.991232</td>\n",
       "      <td>-27.991232</td>\n",
       "      <td>0.0</td>\n",
       "      <td>0.0</td>\n",
       "      <td>0.0</td>\n",
       "      <td>57.646791</td>\n",
       "    </tr>\n",
       "  </tbody>\n",
       "</table>\n",
       "<p>5 rows × 22 columns</p>\n",
       "</div>"
      ],
      "text/plain": [
       "          ds       trend  yhat_lower  yhat_upper  trend_lower  trend_upper  \\\n",
       "0 2017-01-01  114.369472    2.870951  229.041960   114.369472   114.369472   \n",
       "1 2017-01-03  117.690184  -83.818648  140.083135   117.690184   117.690184   \n",
       "2 2017-01-04  119.350540  -67.150273  148.476602   119.350540   119.350540   \n",
       "3 2017-01-06  122.671252  -69.915931  160.707721   122.671252   122.671252   \n",
       "4 2017-01-10  129.312676  -65.366992  166.549198   129.312676   129.312676   \n",
       "\n",
       "   additive_terms  additive_terms_lower  additive_terms_upper      daily  ...  \\\n",
       "0        6.101968              6.101968              6.101968 -19.373276  ...   \n",
       "1      -86.096629            -86.096629            -86.096629 -19.373276  ...   \n",
       "2      -76.047252            -76.047252            -76.047252 -19.373276  ...   \n",
       "3      -78.715152            -78.715152            -78.715152 -19.373276  ...   \n",
       "4      -71.665885            -71.665885            -71.665885 -19.373276  ...   \n",
       "\n",
       "      weekly  weekly_lower  weekly_upper     yearly  yearly_lower  \\\n",
       "0  68.923082     68.923082     68.923082 -43.447839    -43.447839   \n",
       "1 -24.301378    -24.301378    -24.301378 -42.421975    -42.421975   \n",
       "2 -15.386842    -15.386842    -15.386842 -41.287134    -41.287134   \n",
       "3 -21.421937    -21.421937    -21.421937 -37.919939    -37.919939   \n",
       "4 -24.301378    -24.301378    -24.301378 -27.991232    -27.991232   \n",
       "\n",
       "   yearly_upper  multiplicative_terms  multiplicative_terms_lower  \\\n",
       "0    -43.447839                   0.0                         0.0   \n",
       "1    -42.421975                   0.0                         0.0   \n",
       "2    -41.287134                   0.0                         0.0   \n",
       "3    -37.919939                   0.0                         0.0   \n",
       "4    -27.991232                   0.0                         0.0   \n",
       "\n",
       "   multiplicative_terms_upper        yhat  \n",
       "0                         0.0  120.471440  \n",
       "1                         0.0   31.593556  \n",
       "2                         0.0   43.303288  \n",
       "3                         0.0   43.956100  \n",
       "4                         0.0   57.646791  \n",
       "\n",
       "[5 rows x 22 columns]"
      ]
     },
     "execution_count": 23,
     "metadata": {},
     "output_type": "execute_result"
    }
   ],
   "source": [
    "forecast_prediction = p.predict(future)\n",
    "forecast_prediction.head()"
   ]
  },
  {
   "cell_type": "markdown",
   "metadata": {},
   "source": [
    "### Visualize these predictions."
   ]
  },
  {
   "cell_type": "code",
   "execution_count": 22,
   "metadata": {},
   "outputs": [
    {
     "data": {
      "image/png": "[encoded data removed]",
      "text/plain": [
       "<Figure size 720x432 with 1 Axes>"
      ]
     },
     "metadata": {},
     "output_type": "display_data"
    }
   ],
   "source": [
    "plot1 = p.plot(forecast_prediction)"
   ]
  },
  {
   "cell_type": "code",
   "execution_count": null,
   "metadata": {},
   "outputs": [],
   "source": []
  }
 ],
 "metadata": {
  "kernelspec": {
   "display_name": "Python 3 (ipykernel)",
   "language": "python",
   "name": "python3"
  },
  "language_info": {
   "codemirror_mode": {
    "name": "ipython",
    "version": 3
   },
   "file_extension": ".py",
   "mimetype": "text/x-python",
   "name": "python",
   "nbconvert_exporter": "python",
   "pygments_lexer": "ipython3",
   "version": "3.9.7"
  }
 },
 "nbformat": 4,
 "nbformat_minor": 2
}
