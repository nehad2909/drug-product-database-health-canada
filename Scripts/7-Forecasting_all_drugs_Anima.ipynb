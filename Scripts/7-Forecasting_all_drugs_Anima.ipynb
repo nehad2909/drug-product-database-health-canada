{
 "cells": [
  {
   "attachments": {},
   "cell_type": "markdown",
   "metadata": {
    "id": "K9lewkdGChf2"
   },
   "source": [
    "## Forecasting all drugs by ARIMA model"
   ]
  },
  {
   "cell_type": "code",
   "execution_count": 1,
   "metadata": {
    "id": "VXrkG3GO93_t"
   },
   "outputs": [],
   "source": [
    "%matplotlib inline\n",
    "import numpy as np \n",
    "import pandas as pd\n",
    "import matplotlib.pyplot as plt\n",
    "import datetime\n",
    "from tabulate import tabulate\n",
    "import warnings\n",
    "warnings.filterwarnings('ignore')\n",
    "import pandas_datareader.data as web\n",
    "import datetime as dt\n",
    "from pandas_datareader import data as pdr\n",
    "import yfinance as yfin\n",
    "yfin.pdr_override()\n",
    "from tabulate import tabulate\n",
    "from statsmodels.tsa.arima.model import ARIMA\n",
    "from statsmodels.graphics.tsaplots import plot_acf, plot_pacf\n",
    "from sklearn.metrics import mean_squared_error, mean_absolute_error\n",
    "from statsmodels.tsa.stattools import adfuller"
   ]
  },
  {
   "cell_type": "code",
   "execution_count": 2,
   "metadata": {
    "id": "6Eyi6KHW9-ho"
   },
   "outputs": [
    {
     "data": {
      "text/html": [
       "<div>\n",
       "<style scoped>\n",
       "    .dataframe tbody tr th:only-of-type {\n",
       "        vertical-align: middle;\n",
       "    }\n",
       "\n",
       "    .dataframe tbody tr th {\n",
       "        vertical-align: top;\n",
       "    }\n",
       "\n",
       "    .dataframe thead th {\n",
       "        text-align: right;\n",
       "    }\n",
       "</style>\n",
       "<table border=\"1\" class=\"dataframe\">\n",
       "  <thead>\n",
       "    <tr style=\"text-align: right;\">\n",
       "      <th></th>\n",
       "      <th>report_id</th>\n",
       "      <th>drug_identification_number</th>\n",
       "      <th>report_type</th>\n",
       "      <th>brand_name</th>\n",
       "      <th>company_name</th>\n",
       "      <th>common_or_proper_name</th>\n",
       "      <th>ingredients</th>\n",
       "      <th>strength(s)</th>\n",
       "      <th>packaging_size</th>\n",
       "      <th>route_of_administration</th>\n",
       "      <th>...</th>\n",
       "      <th>atc_code</th>\n",
       "      <th>atc_description</th>\n",
       "      <th>anticipated_start_date</th>\n",
       "      <th>actual_start_date</th>\n",
       "      <th>estimated_end_date</th>\n",
       "      <th>actual_end_date</th>\n",
       "      <th>reason</th>\n",
       "      <th>date_created</th>\n",
       "      <th>date_updated</th>\n",
       "      <th>tier_3</th>\n",
       "    </tr>\n",
       "  </thead>\n",
       "  <tbody>\n",
       "    <tr>\n",
       "      <th>17163</th>\n",
       "      <td>21685</td>\n",
       "      <td>2340445.0</td>\n",
       "      <td>Shortage</td>\n",
       "      <td>ZYCLARA</td>\n",
       "      <td>VALEANT CANADA LP/VALEANT CANADA S.E.C.</td>\n",
       "      <td>ZYCLARA</td>\n",
       "      <td>IMIQUIMOD</td>\n",
       "      <td>3.75%</td>\n",
       "      <td>na</td>\n",
       "      <td>TOPICAL</td>\n",
       "      <td>...</td>\n",
       "      <td>D06BB</td>\n",
       "      <td>CHEMOTHERAPEUTICS FOR TOPICAL USE</td>\n",
       "      <td>NaN</td>\n",
       "      <td>2017-09-08</td>\n",
       "      <td>2017-09-22</td>\n",
       "      <td>2017-09-22</td>\n",
       "      <td>Other (Please describe in comments)</td>\n",
       "      <td>2017-09-08</td>\n",
       "      <td>2017-09-25</td>\n",
       "      <td>No</td>\n",
       "    </tr>\n",
       "    <tr>\n",
       "      <th>17164</th>\n",
       "      <td>52702</td>\n",
       "      <td>2340445.0</td>\n",
       "      <td>Shortage</td>\n",
       "      <td>ZYCLARA</td>\n",
       "      <td>VALEANT CANADA LP/VALEANT CANADA S.E.C.</td>\n",
       "      <td>ZYCLARA</td>\n",
       "      <td>IMIQUIMOD</td>\n",
       "      <td>3.75%</td>\n",
       "      <td>7.5g pump</td>\n",
       "      <td>TOPICAL</td>\n",
       "      <td>...</td>\n",
       "      <td>D06BB</td>\n",
       "      <td>CHEMOTHERAPEUTICS FOR TOPICAL USE</td>\n",
       "      <td>NaN</td>\n",
       "      <td>2019-04-01</td>\n",
       "      <td>NaN</td>\n",
       "      <td>2019-07-12</td>\n",
       "      <td>Other (Please describe in comments)</td>\n",
       "      <td>2018-06-20</td>\n",
       "      <td>2019-07-13</td>\n",
       "      <td>No</td>\n",
       "    </tr>\n",
       "    <tr>\n",
       "      <th>17165</th>\n",
       "      <td>18241</td>\n",
       "      <td>2257270.0</td>\n",
       "      <td>Shortage</td>\n",
       "      <td>ZYMAR</td>\n",
       "      <td>ALLERGAN INC</td>\n",
       "      <td>ZYMAR 1mL</td>\n",
       "      <td>GATIFLOXACIN</td>\n",
       "      <td>0.3%</td>\n",
       "      <td>1 mL</td>\n",
       "      <td>OPHTHALMIC</td>\n",
       "      <td>...</td>\n",
       "      <td>S01AE</td>\n",
       "      <td>ANTIINFECTIVES</td>\n",
       "      <td>2017-08-03</td>\n",
       "      <td>2017-08-03</td>\n",
       "      <td>2017-09-18</td>\n",
       "      <td>2017-10-06</td>\n",
       "      <td>Disruption of the manufacture of the drug.</td>\n",
       "      <td>2017-08-03</td>\n",
       "      <td>2017-10-13</td>\n",
       "      <td>No</td>\n",
       "    </tr>\n",
       "    <tr>\n",
       "      <th>17166</th>\n",
       "      <td>33440</td>\n",
       "      <td>2257270.0</td>\n",
       "      <td>Shortage</td>\n",
       "      <td>ZYMAR</td>\n",
       "      <td>ALLERGAN INC</td>\n",
       "      <td>ZYMAR 1mL</td>\n",
       "      <td>GATIFLOXACIN</td>\n",
       "      <td>0.3%</td>\n",
       "      <td>5mL</td>\n",
       "      <td>OPHTHALMIC</td>\n",
       "      <td>...</td>\n",
       "      <td>S01AE</td>\n",
       "      <td>ANTIINFECTIVES</td>\n",
       "      <td>2019-09-16</td>\n",
       "      <td>2019-09-16</td>\n",
       "      <td>2019-09-20</td>\n",
       "      <td>2019-09-18</td>\n",
       "      <td>Disruption of the manufacture of the drug.</td>\n",
       "      <td>2017-12-18</td>\n",
       "      <td>2019-09-19</td>\n",
       "      <td>No</td>\n",
       "    </tr>\n",
       "    <tr>\n",
       "      <th>17167</th>\n",
       "      <td>54338</td>\n",
       "      <td>2243686.0</td>\n",
       "      <td>Shortage</td>\n",
       "      <td>ZYVOXAM</td>\n",
       "      <td>PFIZER CANADA INC</td>\n",
       "      <td>Zyvoxam</td>\n",
       "      <td>LINEZOLID</td>\n",
       "      <td>3G</td>\n",
       "      <td>1x240ml Btl</td>\n",
       "      <td>ORAL</td>\n",
       "      <td>...</td>\n",
       "      <td>J01XX</td>\n",
       "      <td>OTHER ANTIBACTERIALS</td>\n",
       "      <td>NaN</td>\n",
       "      <td>2018-08-21</td>\n",
       "      <td>NaN</td>\n",
       "      <td>2018-10-23</td>\n",
       "      <td>Disruption of the manufacture of the drug.</td>\n",
       "      <td>2018-07-04</td>\n",
       "      <td>2018-10-24</td>\n",
       "      <td>No</td>\n",
       "    </tr>\n",
       "  </tbody>\n",
       "</table>\n",
       "<p>5 rows × 22 columns</p>\n",
       "</div>"
      ],
      "text/plain": [
       "       report_id  drug_identification_number report_type brand_name  \\\n",
       "17163      21685                   2340445.0    Shortage    ZYCLARA   \n",
       "17164      52702                   2340445.0    Shortage    ZYCLARA   \n",
       "17165      18241                   2257270.0    Shortage      ZYMAR   \n",
       "17166      33440                   2257270.0    Shortage      ZYMAR   \n",
       "17167      54338                   2243686.0    Shortage    ZYVOXAM   \n",
       "\n",
       "                                  company_name common_or_proper_name  \\\n",
       "17163  VALEANT CANADA LP/VALEANT CANADA S.E.C.               ZYCLARA   \n",
       "17164  VALEANT CANADA LP/VALEANT CANADA S.E.C.               ZYCLARA   \n",
       "17165                             ALLERGAN INC             ZYMAR 1mL   \n",
       "17166                             ALLERGAN INC             ZYMAR 1mL   \n",
       "17167                        PFIZER CANADA INC               Zyvoxam   \n",
       "\n",
       "        ingredients strength(s) packaging_size route_of_administration  ...  \\\n",
       "17163     IMIQUIMOD       3.75%             na                 TOPICAL  ...   \n",
       "17164     IMIQUIMOD       3.75%      7.5g pump                 TOPICAL  ...   \n",
       "17165  GATIFLOXACIN        0.3%           1 mL              OPHTHALMIC  ...   \n",
       "17166  GATIFLOXACIN        0.3%            5mL              OPHTHALMIC  ...   \n",
       "17167     LINEZOLID          3G    1x240ml Btl                    ORAL  ...   \n",
       "\n",
       "      atc_code                    atc_description anticipated_start_date  \\\n",
       "17163    D06BB  CHEMOTHERAPEUTICS FOR TOPICAL USE                    NaN   \n",
       "17164    D06BB  CHEMOTHERAPEUTICS FOR TOPICAL USE                    NaN   \n",
       "17165    S01AE                     ANTIINFECTIVES             2017-08-03   \n",
       "17166    S01AE                     ANTIINFECTIVES             2019-09-16   \n",
       "17167    J01XX               OTHER ANTIBACTERIALS                    NaN   \n",
       "\n",
       "      actual_start_date estimated_end_date actual_end_date  \\\n",
       "17163        2017-09-08         2017-09-22      2017-09-22   \n",
       "17164        2019-04-01                NaN      2019-07-12   \n",
       "17165        2017-08-03         2017-09-18      2017-10-06   \n",
       "17166        2019-09-16         2019-09-20      2019-09-18   \n",
       "17167        2018-08-21                NaN      2018-10-23   \n",
       "\n",
       "                                           reason date_created date_updated  \\\n",
       "17163         Other (Please describe in comments)   2017-09-08   2017-09-25   \n",
       "17164         Other (Please describe in comments)   2018-06-20   2019-07-13   \n",
       "17165  Disruption of the manufacture of the drug.   2017-08-03   2017-10-13   \n",
       "17166  Disruption of the manufacture of the drug.   2017-12-18   2019-09-19   \n",
       "17167  Disruption of the manufacture of the drug.   2018-07-04   2018-10-24   \n",
       "\n",
       "      tier_3  \n",
       "17163     No  \n",
       "17164     No  \n",
       "17165     No  \n",
       "17166     No  \n",
       "17167     No  \n",
       "\n",
       "[5 rows x 22 columns]"
      ]
     },
     "execution_count": 2,
     "metadata": {},
     "output_type": "execute_result"
    }
   ],
   "source": [
    "# Load updated shorage database\n",
    "df = pd.read_csv(\"Shortage data/shortage_final.csv\")\n",
    "\n",
    "# converting headers in lowercase\n",
    "df.columns = df.columns.str.lower()\n",
    "\n",
    "# replacing spaces for \"_\" in headers\n",
    "df.columns = df.columns.str.replace(' ', '_')\n",
    "\n",
    "# Removing NaN actual_start_date and actual_end_date, considering as an incomplete record\n",
    "df=df.dropna(subset=['actual_start_date','actual_end_date'] )\n",
    "\n",
    "# Removing Actuals before 2017\n",
    "df = df.loc[(df['actual_start_date'] >= '2017-01-01')]\n",
    "# Removing outliers before 2010 for End_date\n",
    "df = df.loc[(df['actual_end_date'] >= '2017-01-01')]\n",
    "\n",
    "# Removing duplicates ID Reports\n",
    "df=df.drop_duplicates(\"report_id\", keep=False)\n",
    "\n",
    "# Removing Avoided shortages (outliers for our analysis)\n",
    "df = df[df['shortage_status']!=\"Avoided shortage\"]\n",
    "\n",
    "# Removing duplicates reports\n",
    "df=df.drop_duplicates(\"report_id\", keep=False)\n",
    "\n",
    "df.tail()"
   ]
  },
  {
   "cell_type": "code",
   "execution_count": 3,
   "metadata": {
    "id": "ZJwxHKNG_4cC"
   },
   "outputs": [],
   "source": [
    "df['actual_start_date'] = df['actual_start_date'].astype('datetime64[D]')"
   ]
  },
  {
   "cell_type": "code",
   "execution_count": 4,
   "metadata": {
    "id": "K7fcgwrI_8Z8"
   },
   "outputs": [],
   "source": [
    "df['actual_end_date'] = df['actual_end_date'].astype('datetime64[D]')"
   ]
  },
  {
   "cell_type": "code",
   "execution_count": 5,
   "metadata": {
    "id": "M5Xd6KJN_-21"
   },
   "outputs": [],
   "source": [
    "df['drug_identification_number'] = df['drug_identification_number'].fillna(0)\n",
    "df['drug_identification_number'] = df['drug_identification_number'].astype('int')"
   ]
  },
  {
   "cell_type": "code",
   "execution_count": 6,
   "metadata": {
    "colab": {
     "base_uri": "https://localhost:8080/"
    },
    "id": "YwKzegBuABrX",
    "outputId": "a6eda324-16e5-4d86-f5a1-6a4fd9355907"
   },
   "outputs": [
    {
     "data": {
      "text/plain": [
       "(13482, 22)"
      ]
     },
     "execution_count": 6,
     "metadata": {},
     "output_type": "execute_result"
    }
   ],
   "source": [
    "df.shape"
   ]
  },
  {
   "cell_type": "code",
   "execution_count": 7,
   "metadata": {
    "id": "QyQ785TNAOvp"
   },
   "outputs": [],
   "source": [
    "df['Days']= df['actual_end_date'] - df['actual_start_date']"
   ]
  },
  {
   "cell_type": "code",
   "execution_count": 8,
   "metadata": {
    "id": "4VdlpGo7ATND"
   },
   "outputs": [],
   "source": [
    "df['Days2'] = df['Days'].dt.days\n",
    "df['Days2']=df['Days2'].astype('int')"
   ]
  },
  {
   "cell_type": "code",
   "execution_count": 9,
   "metadata": {},
   "outputs": [
    {
     "data": {
      "text/plain": [
       "(13482, 24)"
      ]
     },
     "execution_count": 9,
     "metadata": {},
     "output_type": "execute_result"
    }
   ],
   "source": [
    "df.shape"
   ]
  },
  {
   "cell_type": "code",
   "execution_count": 10,
   "metadata": {
    "id": "st3NMb0EP97U"
   },
   "outputs": [],
   "source": [
    "df_trainable = df.copy()"
   ]
  },
  {
   "cell_type": "code",
   "execution_count": 11,
   "metadata": {},
   "outputs": [
    {
     "data": {
      "text/plain": [
       "(13482, 24)"
      ]
     },
     "execution_count": 11,
     "metadata": {},
     "output_type": "execute_result"
    }
   ],
   "source": [
    "df_trainable.shape"
   ]
  },
  {
   "cell_type": "code",
   "execution_count": 12,
   "metadata": {
    "id": "s7XZW9yOQBa4"
   },
   "outputs": [],
   "source": [
    "df_trainable = df_trainable[['actual_start_date', 'Days2']]"
   ]
  },
  {
   "cell_type": "code",
   "execution_count": 13,
   "metadata": {
    "id": "d5GLog2jOByg"
   },
   "outputs": [],
   "source": [
    "df_trainable.set_index('actual_start_date', inplace=True)"
   ]
  },
  {
   "cell_type": "code",
   "execution_count": 14,
   "metadata": {
    "id": "DK46HxB5StnC"
   },
   "outputs": [],
   "source": [
    "df_trainable.sort_index(inplace=True)"
   ]
  },
  {
   "cell_type": "code",
   "execution_count": 15,
   "metadata": {
    "id": "H7ju37G0OVrZ"
   },
   "outputs": [],
   "source": [
    "# Split data into training and testing sets\n",
    "train_data = df_trainable[df_trainable.index < '2022-01-01']['Days2']\n",
    "test_data = df_trainable[df_trainable.index >= '2022-01-01']['Days2']"
   ]
  },
  {
   "cell_type": "code",
   "execution_count": 16,
   "metadata": {
    "colab": {
     "base_uri": "https://localhost:8080/"
    },
    "id": "QSWHEcWZRwGM",
    "outputId": "e4312ee3-3680-440c-c94f-864bedd0cfee"
   },
   "outputs": [
    {
     "data": {
      "text/plain": [
       "actual_start_date\n",
       "2017-01-01    416\n",
       "2017-01-01    709\n",
       "2017-01-03     71\n",
       "2017-01-03    160\n",
       "2017-01-04    152\n",
       "Name: Days2, dtype: int32"
      ]
     },
     "execution_count": 16,
     "metadata": {},
     "output_type": "execute_result"
    }
   ],
   "source": [
    "train_data.head()"
   ]
  },
  {
   "cell_type": "code",
   "execution_count": 17,
   "metadata": {
    "colab": {
     "base_uri": "https://localhost:8080/"
    },
    "id": "JEGac5k3Onwd",
    "outputId": "da167d85-ddcb-40af-e46d-5a48c5e71b30"
   },
   "outputs": [
    {
     "name": "stderr",
     "output_type": "stream",
     "text": [
      "c:\\Users\\lucho\\anaconda3\\lib\\site-packages\\statsmodels\\tsa\\base\\tsa_model.py:471: ValueWarning: A date index has been provided, but it has no associated frequency information and so will be ignored when e.g. forecasting.\n",
      "  self._init_dates(dates, freq)\n",
      "c:\\Users\\lucho\\anaconda3\\lib\\site-packages\\statsmodels\\tsa\\base\\tsa_model.py:471: ValueWarning: A date index has been provided, but it has no associated frequency information and so will be ignored when e.g. forecasting.\n",
      "  self._init_dates(dates, freq)\n",
      "c:\\Users\\lucho\\anaconda3\\lib\\site-packages\\statsmodels\\tsa\\base\\tsa_model.py:471: ValueWarning: A date index has been provided, but it has no associated frequency information and so will be ignored when e.g. forecasting.\n",
      "  self._init_dates(dates, freq)\n"
     ]
    }
   ],
   "source": [
    "# Train ARIMA model\n",
    "model = ARIMA(train_data, order=(1, 1, 1))\n",
    "fitted_model = model.fit()"
   ]
  },
  {
   "cell_type": "code",
   "execution_count": 18,
   "metadata": {
    "id": "y7AKyxu4CxhG"
   },
   "outputs": [],
   "source": [
    "# Make predictions on test data\n",
    "predicted_values = fitted_model.predict()"
   ]
  },
  {
   "cell_type": "code",
   "execution_count": 19,
   "metadata": {
    "colab": {
     "base_uri": "https://localhost:8080/"
    },
    "id": "os4kNQsxSPbT",
    "outputId": "456c18b8-5fd6-41db-e50d-805f0f71257f"
   },
   "outputs": [
    {
     "data": {
      "text/plain": [
       "actual_start_date\n",
       "2017-01-01      0.000000\n",
       "2017-01-01    404.008784\n",
       "2017-01-03    568.227378\n",
       "2017-01-03    352.449817\n",
       "2017-01-04    314.951433\n",
       "                 ...    \n",
       "2021-12-30     70.151218\n",
       "2021-12-31     49.207839\n",
       "2021-12-31     49.562805\n",
       "2021-12-31     79.878768\n",
       "2021-12-31     58.019864\n",
       "Name: predicted_mean, Length: 11078, dtype: float64"
      ]
     },
     "execution_count": 19,
     "metadata": {},
     "output_type": "execute_result"
    }
   ],
   "source": [
    "predicted_values"
   ]
  },
  {
   "cell_type": "code",
   "execution_count": 20,
   "metadata": {
    "colab": {
     "base_uri": "https://localhost:8080/",
     "height": 435
    },
    "id": "dR_-A8lRRH5V",
    "outputId": "a3ec6a82-00ab-472a-8234-e944553f515b"
   },
   "outputs": [
    {
     "data": {
      "image/png": "[encoded data removed]",
      "text/plain": [
       "<Figure size 432x288 with 1 Axes>"
      ]
     },
     "metadata": {
      "needs_background": "light"
     },
     "output_type": "display_data"
    }
   ],
   "source": [
    "# Plot original data and predicted values\n",
    "plt.plot(df_trainable.index, df_trainable['Days2'], label='Original')\n",
    "plt.plot(predicted_values.index, predicted_values, label='Predicted')\n",
    "plt.legend()\n",
    "plt.show()"
   ]
  },
  {
   "cell_type": "code",
   "execution_count": null,
   "metadata": {
    "id": "pHJxs4pVSY0e"
   },
   "outputs": [],
   "source": []
  },
  {
   "cell_type": "markdown",
   "metadata": {
    "id": "T1UNVG8kbyU-"
   },
   "source": [
    "# Attempt 2 - Continuation"
   ]
  },
  {
   "cell_type": "code",
   "execution_count": 21,
   "metadata": {
    "id": "tL0xja9tb01y"
   },
   "outputs": [],
   "source": [
    "name_groups = df.groupby('common_or_proper_name')"
   ]
  },
  {
   "cell_type": "code",
   "execution_count": 22,
   "metadata": {
    "colab": {
     "base_uri": "https://localhost:8080/"
    },
    "id": "geFem0Jjb4WK",
    "outputId": "de916e1b-b074-4b37-eed7-7ceaefe2552c"
   },
   "outputs": [
    {
     "data": {
      "text/plain": [
       "common_or_proper_name\n",
       "% 5 Dextrose Injection USP                                                                       125.000000\n",
       "%10 Dextrose Injection USP (500ml)                                                                35.000000\n",
       "(hepatitis B vaccine [recombinant])                                                              831.000000\n",
       "(measles, mumps and rubella virus vaccine, live, attenuated) Lyophilized powder for injection     25.400000\n",
       "(mirtazapine) Orally Disintegrating Tablets                                                       44.545455\n",
       "                                                                                                    ...    \n",
       "vilazodone hydrochloride tablets                                                                  44.500000\n",
       "vorinostat capsules                                                                               13.000000\n",
       "warfarin                                                                                          17.000000\n",
       "zolmitriptan                                                                                      25.500000\n",
       "ÉDOXABAN                                                                                          12.000000\n",
       "Name: Days2, Length: 4581, dtype: float64"
      ]
     },
     "execution_count": 22,
     "metadata": {},
     "output_type": "execute_result"
    }
   ],
   "source": [
    "name_groups['Days2'].mean()"
   ]
  },
  {
   "cell_type": "code",
   "execution_count": 23,
   "metadata": {
    "id": "8XUp95EmcIVo"
   },
   "outputs": [],
   "source": [
    "df_drug_hepatitis = df[df.common_or_proper_name == 'ROSUVASTATIN']"
   ]
  },
  {
   "cell_type": "code",
   "execution_count": 24,
   "metadata": {
    "colab": {
     "base_uri": "https://localhost:8080/",
     "height": 447
    },
    "id": "BhjC5EjWd12l",
    "outputId": "b749ad7f-72fe-4ae0-d7c2-2d068ebb1ab4"
   },
   "outputs": [
    {
     "data": {
      "text/html": [
       "<div>\n",
       "<style scoped>\n",
       "    .dataframe tbody tr th:only-of-type {\n",
       "        vertical-align: middle;\n",
       "    }\n",
       "\n",
       "    .dataframe tbody tr th {\n",
       "        vertical-align: top;\n",
       "    }\n",
       "\n",
       "    .dataframe thead th {\n",
       "        text-align: right;\n",
       "    }\n",
       "</style>\n",
       "<table border=\"1\" class=\"dataframe\">\n",
       "  <thead>\n",
       "    <tr style=\"text-align: right;\">\n",
       "      <th></th>\n",
       "      <th>report_id</th>\n",
       "      <th>drug_identification_number</th>\n",
       "      <th>report_type</th>\n",
       "      <th>brand_name</th>\n",
       "      <th>company_name</th>\n",
       "      <th>common_or_proper_name</th>\n",
       "      <th>ingredients</th>\n",
       "      <th>strength(s)</th>\n",
       "      <th>packaging_size</th>\n",
       "      <th>route_of_administration</th>\n",
       "      <th>...</th>\n",
       "      <th>anticipated_start_date</th>\n",
       "      <th>actual_start_date</th>\n",
       "      <th>estimated_end_date</th>\n",
       "      <th>actual_end_date</th>\n",
       "      <th>reason</th>\n",
       "      <th>date_created</th>\n",
       "      <th>date_updated</th>\n",
       "      <th>tier_3</th>\n",
       "      <th>Days</th>\n",
       "      <th>Days2</th>\n",
       "    </tr>\n",
       "  </thead>\n",
       "  <tbody>\n",
       "    <tr>\n",
       "      <th>139</th>\n",
       "      <td>155654</td>\n",
       "      <td>2438941</td>\n",
       "      <td>Shortage</td>\n",
       "      <td>ACH-ROSUVASTATIN</td>\n",
       "      <td>ACCORD HEALTHCARE INC</td>\n",
       "      <td>ROSUVASTATIN</td>\n",
       "      <td>ROSUVASTATIN</td>\n",
       "      <td>40MG</td>\n",
       "      <td>90</td>\n",
       "      <td>ORAL\\r\\nORAL</td>\n",
       "      <td>...</td>\n",
       "      <td>NaN</td>\n",
       "      <td>2022-02-25</td>\n",
       "      <td>NaN</td>\n",
       "      <td>2022-05-25</td>\n",
       "      <td>Demand increase for the drug.</td>\n",
       "      <td>2022-02-25</td>\n",
       "      <td>2022-05-26</td>\n",
       "      <td>No</td>\n",
       "      <td>89 days</td>\n",
       "      <td>89</td>\n",
       "    </tr>\n",
       "    <tr>\n",
       "      <th>140</th>\n",
       "      <td>161331</td>\n",
       "      <td>2438917</td>\n",
       "      <td>Shortage</td>\n",
       "      <td>ACH-ROSUVASTATIN</td>\n",
       "      <td>ACCORD HEALTHCARE INC</td>\n",
       "      <td>ROSUVASTATIN</td>\n",
       "      <td>ROSUVASTATIN</td>\n",
       "      <td>5MG</td>\n",
       "      <td>90</td>\n",
       "      <td>ORAL\\r\\nORAL</td>\n",
       "      <td>...</td>\n",
       "      <td>NaN</td>\n",
       "      <td>2022-05-27</td>\n",
       "      <td>2022-06-25</td>\n",
       "      <td>2022-06-28</td>\n",
       "      <td>Demand increase for the drug.</td>\n",
       "      <td>2022-05-26</td>\n",
       "      <td>2022-06-29</td>\n",
       "      <td>No</td>\n",
       "      <td>32 days</td>\n",
       "      <td>32</td>\n",
       "    </tr>\n",
       "    <tr>\n",
       "      <th>142</th>\n",
       "      <td>182631</td>\n",
       "      <td>2438925</td>\n",
       "      <td>Shortage</td>\n",
       "      <td>ACH-ROSUVASTATIN</td>\n",
       "      <td>ACCORD HEALTHCARE INC</td>\n",
       "      <td>ROSUVASTATIN</td>\n",
       "      <td>ROSUVASTATIN</td>\n",
       "      <td>10MG</td>\n",
       "      <td>90, 500</td>\n",
       "      <td>ORAL\\r\\nORAL</td>\n",
       "      <td>...</td>\n",
       "      <td>NaN</td>\n",
       "      <td>2023-01-23</td>\n",
       "      <td>NaN</td>\n",
       "      <td>2023-03-09</td>\n",
       "      <td>Disruption of the manufacture of the drug.</td>\n",
       "      <td>2023-01-27</td>\n",
       "      <td>2023-03-10</td>\n",
       "      <td>No</td>\n",
       "      <td>45 days</td>\n",
       "      <td>45</td>\n",
       "    </tr>\n",
       "    <tr>\n",
       "      <th>144</th>\n",
       "      <td>177039</td>\n",
       "      <td>2438925</td>\n",
       "      <td>Shortage</td>\n",
       "      <td>ACH-ROSUVASTATIN</td>\n",
       "      <td>ACCORD HEALTHCARE INC</td>\n",
       "      <td>ROSUVASTATIN</td>\n",
       "      <td>ROSUVASTATIN</td>\n",
       "      <td>10MG</td>\n",
       "      <td>90</td>\n",
       "      <td>ORAL\\r\\nORAL</td>\n",
       "      <td>...</td>\n",
       "      <td>NaN</td>\n",
       "      <td>2022-12-02</td>\n",
       "      <td>NaN</td>\n",
       "      <td>2023-01-06</td>\n",
       "      <td>Delay in shipping of the drug.</td>\n",
       "      <td>2022-12-02</td>\n",
       "      <td>2023-01-07</td>\n",
       "      <td>No</td>\n",
       "      <td>35 days</td>\n",
       "      <td>35</td>\n",
       "    </tr>\n",
       "    <tr>\n",
       "      <th>145</th>\n",
       "      <td>153311</td>\n",
       "      <td>2438917</td>\n",
       "      <td>Shortage</td>\n",
       "      <td>ACH-ROSUVASTATIN</td>\n",
       "      <td>ACCORD HEALTHCARE INC</td>\n",
       "      <td>ROSUVASTATIN</td>\n",
       "      <td>ROSUVASTATIN</td>\n",
       "      <td>5MG</td>\n",
       "      <td>90</td>\n",
       "      <td>ORAL\\r\\nORAL</td>\n",
       "      <td>...</td>\n",
       "      <td>NaN</td>\n",
       "      <td>2022-01-21</td>\n",
       "      <td>2022-02-25</td>\n",
       "      <td>2022-02-11</td>\n",
       "      <td>Demand increase for the drug.</td>\n",
       "      <td>2022-01-21</td>\n",
       "      <td>2022-02-12</td>\n",
       "      <td>No</td>\n",
       "      <td>21 days</td>\n",
       "      <td>21</td>\n",
       "    </tr>\n",
       "  </tbody>\n",
       "</table>\n",
       "<p>5 rows × 24 columns</p>\n",
       "</div>"
      ],
      "text/plain": [
       "     report_id  drug_identification_number report_type        brand_name  \\\n",
       "139     155654                     2438941    Shortage  ACH-ROSUVASTATIN   \n",
       "140     161331                     2438917    Shortage  ACH-ROSUVASTATIN   \n",
       "142     182631                     2438925    Shortage  ACH-ROSUVASTATIN   \n",
       "144     177039                     2438925    Shortage  ACH-ROSUVASTATIN   \n",
       "145     153311                     2438917    Shortage  ACH-ROSUVASTATIN   \n",
       "\n",
       "              company_name common_or_proper_name   ingredients strength(s)  \\\n",
       "139  ACCORD HEALTHCARE INC          ROSUVASTATIN  ROSUVASTATIN        40MG   \n",
       "140  ACCORD HEALTHCARE INC          ROSUVASTATIN  ROSUVASTATIN         5MG   \n",
       "142  ACCORD HEALTHCARE INC          ROSUVASTATIN  ROSUVASTATIN        10MG   \n",
       "144  ACCORD HEALTHCARE INC          ROSUVASTATIN  ROSUVASTATIN        10MG   \n",
       "145  ACCORD HEALTHCARE INC          ROSUVASTATIN  ROSUVASTATIN         5MG   \n",
       "\n",
       "    packaging_size route_of_administration  ... anticipated_start_date  \\\n",
       "139             90            ORAL\\r\\nORAL  ...                    NaN   \n",
       "140             90            ORAL\\r\\nORAL  ...                    NaN   \n",
       "142        90, 500            ORAL\\r\\nORAL  ...                    NaN   \n",
       "144             90            ORAL\\r\\nORAL  ...                    NaN   \n",
       "145             90            ORAL\\r\\nORAL  ...                    NaN   \n",
       "\n",
       "    actual_start_date estimated_end_date actual_end_date  \\\n",
       "139        2022-02-25                NaN      2022-05-25   \n",
       "140        2022-05-27         2022-06-25      2022-06-28   \n",
       "142        2023-01-23                NaN      2023-03-09   \n",
       "144        2022-12-02                NaN      2023-01-06   \n",
       "145        2022-01-21         2022-02-25      2022-02-11   \n",
       "\n",
       "                                         reason date_created date_updated  \\\n",
       "139               Demand increase for the drug.   2022-02-25   2022-05-26   \n",
       "140               Demand increase for the drug.   2022-05-26   2022-06-29   \n",
       "142  Disruption of the manufacture of the drug.   2023-01-27   2023-03-10   \n",
       "144              Delay in shipping of the drug.   2022-12-02   2023-01-07   \n",
       "145               Demand increase for the drug.   2022-01-21   2022-02-12   \n",
       "\n",
       "    tier_3    Days Days2  \n",
       "139     No 89 days    89  \n",
       "140     No 32 days    32  \n",
       "142     No 45 days    45  \n",
       "144     No 35 days    35  \n",
       "145     No 21 days    21  \n",
       "\n",
       "[5 rows x 24 columns]"
      ]
     },
     "execution_count": 24,
     "metadata": {},
     "output_type": "execute_result"
    }
   ],
   "source": [
    "df_drug_hepatitis.head()"
   ]
  },
  {
   "cell_type": "code",
   "execution_count": 25,
   "metadata": {},
   "outputs": [
    {
     "data": {
      "text/plain": [
       "(129, 24)"
      ]
     },
     "execution_count": 25,
     "metadata": {},
     "output_type": "execute_result"
    }
   ],
   "source": [
    "df_drug_hepatitis.shape"
   ]
  },
  {
   "cell_type": "code",
   "execution_count": 26,
   "metadata": {},
   "outputs": [
    {
     "data": {
      "text/plain": [
       "Timestamp('2023-03-31 00:00:00')"
      ]
     },
     "execution_count": 26,
     "metadata": {},
     "output_type": "execute_result"
    }
   ],
   "source": [
    "df.actual_start_date.max()"
   ]
  },
  {
   "cell_type": "code",
   "execution_count": 27,
   "metadata": {
    "id": "j91McNjEeEtB"
   },
   "outputs": [],
   "source": [
    "df_trainable = df_drug_hepatitis.copy()"
   ]
  },
  {
   "cell_type": "code",
   "execution_count": 28,
   "metadata": {
    "id": "-yo0Gj-WeJsH"
   },
   "outputs": [],
   "source": [
    "df_trainable = df_trainable[['actual_start_date', 'Days2']]"
   ]
  },
  {
   "cell_type": "code",
   "execution_count": 29,
   "metadata": {
    "id": "bfnvR4i9eQVT"
   },
   "outputs": [],
   "source": [
    "df_trainable.set_index('actual_start_date', inplace=True)"
   ]
  },
  {
   "cell_type": "code",
   "execution_count": 30,
   "metadata": {},
   "outputs": [
    {
     "data": {
      "text/plain": [
       "Timestamp('2017-03-10 00:00:00')"
      ]
     },
     "execution_count": 30,
     "metadata": {},
     "output_type": "execute_result"
    }
   ],
   "source": [
    "df_drug_hepatitis.actual_start_date.min()"
   ]
  },
  {
   "cell_type": "code",
   "execution_count": 31,
   "metadata": {
    "id": "Db413nZieTMj"
   },
   "outputs": [],
   "source": [
    "df_trainable.sort_index(inplace=True)"
   ]
  },
  {
   "cell_type": "code",
   "execution_count": 32,
   "metadata": {},
   "outputs": [
    {
     "data": {
      "text/plain": [
       "(129, 1)"
      ]
     },
     "execution_count": 32,
     "metadata": {},
     "output_type": "execute_result"
    }
   ],
   "source": [
    "df_trainable.shape"
   ]
  },
  {
   "cell_type": "code",
   "execution_count": 33,
   "metadata": {
    "id": "wstFaiVReV15"
   },
   "outputs": [],
   "source": [
    "# Split data into training and testing sets\n",
    "train_data = df_trainable[df_trainable.index < '2022-01-01']['Days2']\n",
    "test_data = df_trainable[df_trainable.index >= '2022-01-01']['Days2']"
   ]
  },
  {
   "cell_type": "code",
   "execution_count": 34,
   "metadata": {
    "colab": {
     "base_uri": "https://localhost:8080/"
    },
    "id": "XzaLR9VbeX3v",
    "outputId": "42310b1e-58e6-4b4a-93f5-9fc25ef59fa1"
   },
   "outputs": [
    {
     "name": "stderr",
     "output_type": "stream",
     "text": [
      "c:\\Users\\lucho\\anaconda3\\lib\\site-packages\\statsmodels\\tsa\\base\\tsa_model.py:471: ValueWarning: A date index has been provided, but it has no associated frequency information and so will be ignored when e.g. forecasting.\n",
      "  self._init_dates(dates, freq)\n",
      "c:\\Users\\lucho\\anaconda3\\lib\\site-packages\\statsmodels\\tsa\\base\\tsa_model.py:471: ValueWarning: A date index has been provided, but it has no associated frequency information and so will be ignored when e.g. forecasting.\n",
      "  self._init_dates(dates, freq)\n",
      "c:\\Users\\lucho\\anaconda3\\lib\\site-packages\\statsmodels\\tsa\\base\\tsa_model.py:471: ValueWarning: A date index has been provided, but it has no associated frequency information and so will be ignored when e.g. forecasting.\n",
      "  self._init_dates(dates, freq)\n"
     ]
    }
   ],
   "source": [
    "# Train ARIMA model\n",
    "model = ARIMA(train_data, order=(1, 1, 1))\n",
    "fitted_model = model.fit()"
   ]
  },
  {
   "cell_type": "code",
   "execution_count": 35,
   "metadata": {
    "id": "7zcksvLrebMK"
   },
   "outputs": [],
   "source": [
    "# Make predictions on test data\n",
    "predicted_values = fitted_model.predict()"
   ]
  },
  {
   "cell_type": "code",
   "execution_count": 36,
   "metadata": {
    "colab": {
     "base_uri": "https://localhost:8080/",
     "height": 430
    },
    "id": "B_TxYAMZedxO",
    "outputId": "103c2892-ae86-42f6-faa7-34727c7f4f00"
   },
   "outputs": [
    {
     "data": {
      "image/png": "[encoded data removed]",
      "text/plain": [
       "<Figure size 432x288 with 1 Axes>"
      ]
     },
     "metadata": {
      "needs_background": "light"
     },
     "output_type": "display_data"
    }
   ],
   "source": [
    "# Plot original data and predicted values\n",
    "plt.plot(df_trainable.index, df_trainable['Days2'], label='Original')\n",
    "plt.plot(predicted_values.index, predicted_values, label='Predicted')\n",
    "plt.legend()\n",
    "plt.show()"
   ]
  }
 ],
 "metadata": {
  "colab": {
   "collapsed_sections": [
    "K9lewkdGChf2"
   ],
   "provenance": []
  },
  "kernelspec": {
   "display_name": "Python 3 (ipykernel)",
   "language": "python",
   "name": "python3"
  },
  "language_info": {
   "codemirror_mode": {
    "name": "ipython",
    "version": 3
   },
   "file_extension": ".py",
   "mimetype": "text/x-python",
   "name": "python",
   "nbconvert_exporter": "python",
   "pygments_lexer": "ipython3",
   "version": "3.9.7"
  }
 },
 "nbformat": 4,
 "nbformat_minor": 4
}
